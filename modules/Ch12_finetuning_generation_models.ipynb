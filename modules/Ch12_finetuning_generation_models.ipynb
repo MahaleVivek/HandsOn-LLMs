{
  "nbformat": 4,
  "nbformat_minor": 0,
  "metadata": {
    "colab": {
      "provenance": [],
      "gpuType": "T4",
      "authorship_tag": "ABX9TyM4f8yIpNSCi7Ag81/4RK1k",
      "include_colab_link": true
    },
    "kernelspec": {
      "name": "python3",
      "display_name": "Python 3"
    },
    "language_info": {
      "name": "python"
    },
    "accelerator": "GPU",
    "widgets": {
      "application/vnd.jupyter.widget-state+json": {
        "7958ab44b76c4525ac5f31cba47b6e37": {
          "model_module": "@jupyter-widgets/controls",
          "model_name": "HBoxModel",
          "model_module_version": "1.5.0",
          "state": {
            "_dom_classes": [],
            "_model_module": "@jupyter-widgets/controls",
            "_model_module_version": "1.5.0",
            "_model_name": "HBoxModel",
            "_view_count": null,
            "_view_module": "@jupyter-widgets/controls",
            "_view_module_version": "1.5.0",
            "_view_name": "HBoxView",
            "box_style": "",
            "children": [
              "IPY_MODEL_ac8882a9eccb4193a84eb60fff151143",
              "IPY_MODEL_585898da1b4e4b9bb33f05620c450416",
              "IPY_MODEL_d228e1e90147477888b254af47987b38"
            ],
            "layout": "IPY_MODEL_4e59133ff7d84843a1036b8ad879067c"
          }
        },
        "ac8882a9eccb4193a84eb60fff151143": {
          "model_module": "@jupyter-widgets/controls",
          "model_name": "HTMLModel",
          "model_module_version": "1.5.0",
          "state": {
            "_dom_classes": [],
            "_model_module": "@jupyter-widgets/controls",
            "_model_module_version": "1.5.0",
            "_model_name": "HTMLModel",
            "_view_count": null,
            "_view_module": "@jupyter-widgets/controls",
            "_view_module_version": "1.5.0",
            "_view_name": "HTMLView",
            "description": "",
            "description_tooltip": null,
            "layout": "IPY_MODEL_4fb3d97095a14b0182a04f902ce2c014",
            "placeholder": "​",
            "style": "IPY_MODEL_8ce25bc6063e40aa868673e83b22c2e8",
            "value": "model.safetensors: 100%"
          }
        },
        "585898da1b4e4b9bb33f05620c450416": {
          "model_module": "@jupyter-widgets/controls",
          "model_name": "FloatProgressModel",
          "model_module_version": "1.5.0",
          "state": {
            "_dom_classes": [],
            "_model_module": "@jupyter-widgets/controls",
            "_model_module_version": "1.5.0",
            "_model_name": "FloatProgressModel",
            "_view_count": null,
            "_view_module": "@jupyter-widgets/controls",
            "_view_module_version": "1.5.0",
            "_view_name": "ProgressView",
            "bar_style": "success",
            "description": "",
            "description_tooltip": null,
            "layout": "IPY_MODEL_c9060f7a06764f9791ce99f556de2ec7",
            "max": 4400216536,
            "min": 0,
            "orientation": "horizontal",
            "style": "IPY_MODEL_d2b94694c487438f9ba395ac86774fc3",
            "value": 4400216536
          }
        },
        "d228e1e90147477888b254af47987b38": {
          "model_module": "@jupyter-widgets/controls",
          "model_name": "HTMLModel",
          "model_module_version": "1.5.0",
          "state": {
            "_dom_classes": [],
            "_model_module": "@jupyter-widgets/controls",
            "_model_module_version": "1.5.0",
            "_model_name": "HTMLModel",
            "_view_count": null,
            "_view_module": "@jupyter-widgets/controls",
            "_view_module_version": "1.5.0",
            "_view_name": "HTMLView",
            "description": "",
            "description_tooltip": null,
            "layout": "IPY_MODEL_878ebad723e7483fa4282937b54eb460",
            "placeholder": "​",
            "style": "IPY_MODEL_3ec1c78df77546618eb534e11159f40e",
            "value": " 4.40G/4.40G [00:37&lt;00:00, 194MB/s]"
          }
        },
        "4e59133ff7d84843a1036b8ad879067c": {
          "model_module": "@jupyter-widgets/base",
          "model_name": "LayoutModel",
          "model_module_version": "1.2.0",
          "state": {
            "_model_module": "@jupyter-widgets/base",
            "_model_module_version": "1.2.0",
            "_model_name": "LayoutModel",
            "_view_count": null,
            "_view_module": "@jupyter-widgets/base",
            "_view_module_version": "1.2.0",
            "_view_name": "LayoutView",
            "align_content": null,
            "align_items": null,
            "align_self": null,
            "border": null,
            "bottom": null,
            "display": null,
            "flex": null,
            "flex_flow": null,
            "grid_area": null,
            "grid_auto_columns": null,
            "grid_auto_flow": null,
            "grid_auto_rows": null,
            "grid_column": null,
            "grid_gap": null,
            "grid_row": null,
            "grid_template_areas": null,
            "grid_template_columns": null,
            "grid_template_rows": null,
            "height": null,
            "justify_content": null,
            "justify_items": null,
            "left": null,
            "margin": null,
            "max_height": null,
            "max_width": null,
            "min_height": null,
            "min_width": null,
            "object_fit": null,
            "object_position": null,
            "order": null,
            "overflow": null,
            "overflow_x": null,
            "overflow_y": null,
            "padding": null,
            "right": null,
            "top": null,
            "visibility": null,
            "width": null
          }
        },
        "4fb3d97095a14b0182a04f902ce2c014": {
          "model_module": "@jupyter-widgets/base",
          "model_name": "LayoutModel",
          "model_module_version": "1.2.0",
          "state": {
            "_model_module": "@jupyter-widgets/base",
            "_model_module_version": "1.2.0",
            "_model_name": "LayoutModel",
            "_view_count": null,
            "_view_module": "@jupyter-widgets/base",
            "_view_module_version": "1.2.0",
            "_view_name": "LayoutView",
            "align_content": null,
            "align_items": null,
            "align_self": null,
            "border": null,
            "bottom": null,
            "display": null,
            "flex": null,
            "flex_flow": null,
            "grid_area": null,
            "grid_auto_columns": null,
            "grid_auto_flow": null,
            "grid_auto_rows": null,
            "grid_column": null,
            "grid_gap": null,
            "grid_row": null,
            "grid_template_areas": null,
            "grid_template_columns": null,
            "grid_template_rows": null,
            "height": null,
            "justify_content": null,
            "justify_items": null,
            "left": null,
            "margin": null,
            "max_height": null,
            "max_width": null,
            "min_height": null,
            "min_width": null,
            "object_fit": null,
            "object_position": null,
            "order": null,
            "overflow": null,
            "overflow_x": null,
            "overflow_y": null,
            "padding": null,
            "right": null,
            "top": null,
            "visibility": null,
            "width": null
          }
        },
        "8ce25bc6063e40aa868673e83b22c2e8": {
          "model_module": "@jupyter-widgets/controls",
          "model_name": "DescriptionStyleModel",
          "model_module_version": "1.5.0",
          "state": {
            "_model_module": "@jupyter-widgets/controls",
            "_model_module_version": "1.5.0",
            "_model_name": "DescriptionStyleModel",
            "_view_count": null,
            "_view_module": "@jupyter-widgets/base",
            "_view_module_version": "1.2.0",
            "_view_name": "StyleView",
            "description_width": ""
          }
        },
        "c9060f7a06764f9791ce99f556de2ec7": {
          "model_module": "@jupyter-widgets/base",
          "model_name": "LayoutModel",
          "model_module_version": "1.2.0",
          "state": {
            "_model_module": "@jupyter-widgets/base",
            "_model_module_version": "1.2.0",
            "_model_name": "LayoutModel",
            "_view_count": null,
            "_view_module": "@jupyter-widgets/base",
            "_view_module_version": "1.2.0",
            "_view_name": "LayoutView",
            "align_content": null,
            "align_items": null,
            "align_self": null,
            "border": null,
            "bottom": null,
            "display": null,
            "flex": null,
            "flex_flow": null,
            "grid_area": null,
            "grid_auto_columns": null,
            "grid_auto_flow": null,
            "grid_auto_rows": null,
            "grid_column": null,
            "grid_gap": null,
            "grid_row": null,
            "grid_template_areas": null,
            "grid_template_columns": null,
            "grid_template_rows": null,
            "height": null,
            "justify_content": null,
            "justify_items": null,
            "left": null,
            "margin": null,
            "max_height": null,
            "max_width": null,
            "min_height": null,
            "min_width": null,
            "object_fit": null,
            "object_position": null,
            "order": null,
            "overflow": null,
            "overflow_x": null,
            "overflow_y": null,
            "padding": null,
            "right": null,
            "top": null,
            "visibility": null,
            "width": null
          }
        },
        "d2b94694c487438f9ba395ac86774fc3": {
          "model_module": "@jupyter-widgets/controls",
          "model_name": "ProgressStyleModel",
          "model_module_version": "1.5.0",
          "state": {
            "_model_module": "@jupyter-widgets/controls",
            "_model_module_version": "1.5.0",
            "_model_name": "ProgressStyleModel",
            "_view_count": null,
            "_view_module": "@jupyter-widgets/base",
            "_view_module_version": "1.2.0",
            "_view_name": "StyleView",
            "bar_color": null,
            "description_width": ""
          }
        },
        "878ebad723e7483fa4282937b54eb460": {
          "model_module": "@jupyter-widgets/base",
          "model_name": "LayoutModel",
          "model_module_version": "1.2.0",
          "state": {
            "_model_module": "@jupyter-widgets/base",
            "_model_module_version": "1.2.0",
            "_model_name": "LayoutModel",
            "_view_count": null,
            "_view_module": "@jupyter-widgets/base",
            "_view_module_version": "1.2.0",
            "_view_name": "LayoutView",
            "align_content": null,
            "align_items": null,
            "align_self": null,
            "border": null,
            "bottom": null,
            "display": null,
            "flex": null,
            "flex_flow": null,
            "grid_area": null,
            "grid_auto_columns": null,
            "grid_auto_flow": null,
            "grid_auto_rows": null,
            "grid_column": null,
            "grid_gap": null,
            "grid_row": null,
            "grid_template_areas": null,
            "grid_template_columns": null,
            "grid_template_rows": null,
            "height": null,
            "justify_content": null,
            "justify_items": null,
            "left": null,
            "margin": null,
            "max_height": null,
            "max_width": null,
            "min_height": null,
            "min_width": null,
            "object_fit": null,
            "object_position": null,
            "order": null,
            "overflow": null,
            "overflow_x": null,
            "overflow_y": null,
            "padding": null,
            "right": null,
            "top": null,
            "visibility": null,
            "width": null
          }
        },
        "3ec1c78df77546618eb534e11159f40e": {
          "model_module": "@jupyter-widgets/controls",
          "model_name": "DescriptionStyleModel",
          "model_module_version": "1.5.0",
          "state": {
            "_model_module": "@jupyter-widgets/controls",
            "_model_module_version": "1.5.0",
            "_model_name": "DescriptionStyleModel",
            "_view_count": null,
            "_view_module": "@jupyter-widgets/base",
            "_view_module_version": "1.2.0",
            "_view_name": "StyleView",
            "description_width": ""
          }
        },
        "7e84fcc82f77460b8ad0c4a18b5fd265": {
          "model_module": "@jupyter-widgets/controls",
          "model_name": "HBoxModel",
          "model_module_version": "1.5.0",
          "state": {
            "_dom_classes": [],
            "_model_module": "@jupyter-widgets/controls",
            "_model_module_version": "1.5.0",
            "_model_name": "HBoxModel",
            "_view_count": null,
            "_view_module": "@jupyter-widgets/controls",
            "_view_module_version": "1.5.0",
            "_view_name": "HBoxView",
            "box_style": "",
            "children": [
              "IPY_MODEL_72d356440bbc4265a26a939a8716ff39",
              "IPY_MODEL_5224aae958834c18a06dfc640057373d",
              "IPY_MODEL_5c277dcb959b4e71befc6b5a00e99a8d"
            ],
            "layout": "IPY_MODEL_7e3618ae8c234049929fe193e67999bd"
          }
        },
        "72d356440bbc4265a26a939a8716ff39": {
          "model_module": "@jupyter-widgets/controls",
          "model_name": "HTMLModel",
          "model_module_version": "1.5.0",
          "state": {
            "_dom_classes": [],
            "_model_module": "@jupyter-widgets/controls",
            "_model_module_version": "1.5.0",
            "_model_name": "HTMLModel",
            "_view_count": null,
            "_view_module": "@jupyter-widgets/controls",
            "_view_module_version": "1.5.0",
            "_view_name": "HTMLView",
            "description": "",
            "description_tooltip": null,
            "layout": "IPY_MODEL_831b4921d094414db467839764ca2bb1",
            "placeholder": "​",
            "style": "IPY_MODEL_83a2e58ca4354ecaa8a637644914a6f3",
            "value": "generation_config.json: 100%"
          }
        },
        "5224aae958834c18a06dfc640057373d": {
          "model_module": "@jupyter-widgets/controls",
          "model_name": "FloatProgressModel",
          "model_module_version": "1.5.0",
          "state": {
            "_dom_classes": [],
            "_model_module": "@jupyter-widgets/controls",
            "_model_module_version": "1.5.0",
            "_model_name": "FloatProgressModel",
            "_view_count": null,
            "_view_module": "@jupyter-widgets/controls",
            "_view_module_version": "1.5.0",
            "_view_name": "ProgressView",
            "bar_style": "success",
            "description": "",
            "description_tooltip": null,
            "layout": "IPY_MODEL_b9fc80b7292844d4b7190dc6531c7329",
            "max": 129,
            "min": 0,
            "orientation": "horizontal",
            "style": "IPY_MODEL_7d48ce7803024ae9bd7b4a8aa6a0bbc7",
            "value": 129
          }
        },
        "5c277dcb959b4e71befc6b5a00e99a8d": {
          "model_module": "@jupyter-widgets/controls",
          "model_name": "HTMLModel",
          "model_module_version": "1.5.0",
          "state": {
            "_dom_classes": [],
            "_model_module": "@jupyter-widgets/controls",
            "_model_module_version": "1.5.0",
            "_model_name": "HTMLModel",
            "_view_count": null,
            "_view_module": "@jupyter-widgets/controls",
            "_view_module_version": "1.5.0",
            "_view_name": "HTMLView",
            "description": "",
            "description_tooltip": null,
            "layout": "IPY_MODEL_0638c5385d37452ebf615232f2ec0cd5",
            "placeholder": "​",
            "style": "IPY_MODEL_dbdff2bdf247451a823bb42830d16e78",
            "value": " 129/129 [00:00&lt;00:00, 13.1kB/s]"
          }
        },
        "7e3618ae8c234049929fe193e67999bd": {
          "model_module": "@jupyter-widgets/base",
          "model_name": "LayoutModel",
          "model_module_version": "1.2.0",
          "state": {
            "_model_module": "@jupyter-widgets/base",
            "_model_module_version": "1.2.0",
            "_model_name": "LayoutModel",
            "_view_count": null,
            "_view_module": "@jupyter-widgets/base",
            "_view_module_version": "1.2.0",
            "_view_name": "LayoutView",
            "align_content": null,
            "align_items": null,
            "align_self": null,
            "border": null,
            "bottom": null,
            "display": null,
            "flex": null,
            "flex_flow": null,
            "grid_area": null,
            "grid_auto_columns": null,
            "grid_auto_flow": null,
            "grid_auto_rows": null,
            "grid_column": null,
            "grid_gap": null,
            "grid_row": null,
            "grid_template_areas": null,
            "grid_template_columns": null,
            "grid_template_rows": null,
            "height": null,
            "justify_content": null,
            "justify_items": null,
            "left": null,
            "margin": null,
            "max_height": null,
            "max_width": null,
            "min_height": null,
            "min_width": null,
            "object_fit": null,
            "object_position": null,
            "order": null,
            "overflow": null,
            "overflow_x": null,
            "overflow_y": null,
            "padding": null,
            "right": null,
            "top": null,
            "visibility": null,
            "width": null
          }
        },
        "831b4921d094414db467839764ca2bb1": {
          "model_module": "@jupyter-widgets/base",
          "model_name": "LayoutModel",
          "model_module_version": "1.2.0",
          "state": {
            "_model_module": "@jupyter-widgets/base",
            "_model_module_version": "1.2.0",
            "_model_name": "LayoutModel",
            "_view_count": null,
            "_view_module": "@jupyter-widgets/base",
            "_view_module_version": "1.2.0",
            "_view_name": "LayoutView",
            "align_content": null,
            "align_items": null,
            "align_self": null,
            "border": null,
            "bottom": null,
            "display": null,
            "flex": null,
            "flex_flow": null,
            "grid_area": null,
            "grid_auto_columns": null,
            "grid_auto_flow": null,
            "grid_auto_rows": null,
            "grid_column": null,
            "grid_gap": null,
            "grid_row": null,
            "grid_template_areas": null,
            "grid_template_columns": null,
            "grid_template_rows": null,
            "height": null,
            "justify_content": null,
            "justify_items": null,
            "left": null,
            "margin": null,
            "max_height": null,
            "max_width": null,
            "min_height": null,
            "min_width": null,
            "object_fit": null,
            "object_position": null,
            "order": null,
            "overflow": null,
            "overflow_x": null,
            "overflow_y": null,
            "padding": null,
            "right": null,
            "top": null,
            "visibility": null,
            "width": null
          }
        },
        "83a2e58ca4354ecaa8a637644914a6f3": {
          "model_module": "@jupyter-widgets/controls",
          "model_name": "DescriptionStyleModel",
          "model_module_version": "1.5.0",
          "state": {
            "_model_module": "@jupyter-widgets/controls",
            "_model_module_version": "1.5.0",
            "_model_name": "DescriptionStyleModel",
            "_view_count": null,
            "_view_module": "@jupyter-widgets/base",
            "_view_module_version": "1.2.0",
            "_view_name": "StyleView",
            "description_width": ""
          }
        },
        "b9fc80b7292844d4b7190dc6531c7329": {
          "model_module": "@jupyter-widgets/base",
          "model_name": "LayoutModel",
          "model_module_version": "1.2.0",
          "state": {
            "_model_module": "@jupyter-widgets/base",
            "_model_module_version": "1.2.0",
            "_model_name": "LayoutModel",
            "_view_count": null,
            "_view_module": "@jupyter-widgets/base",
            "_view_module_version": "1.2.0",
            "_view_name": "LayoutView",
            "align_content": null,
            "align_items": null,
            "align_self": null,
            "border": null,
            "bottom": null,
            "display": null,
            "flex": null,
            "flex_flow": null,
            "grid_area": null,
            "grid_auto_columns": null,
            "grid_auto_flow": null,
            "grid_auto_rows": null,
            "grid_column": null,
            "grid_gap": null,
            "grid_row": null,
            "grid_template_areas": null,
            "grid_template_columns": null,
            "grid_template_rows": null,
            "height": null,
            "justify_content": null,
            "justify_items": null,
            "left": null,
            "margin": null,
            "max_height": null,
            "max_width": null,
            "min_height": null,
            "min_width": null,
            "object_fit": null,
            "object_position": null,
            "order": null,
            "overflow": null,
            "overflow_x": null,
            "overflow_y": null,
            "padding": null,
            "right": null,
            "top": null,
            "visibility": null,
            "width": null
          }
        },
        "7d48ce7803024ae9bd7b4a8aa6a0bbc7": {
          "model_module": "@jupyter-widgets/controls",
          "model_name": "ProgressStyleModel",
          "model_module_version": "1.5.0",
          "state": {
            "_model_module": "@jupyter-widgets/controls",
            "_model_module_version": "1.5.0",
            "_model_name": "ProgressStyleModel",
            "_view_count": null,
            "_view_module": "@jupyter-widgets/base",
            "_view_module_version": "1.2.0",
            "_view_name": "StyleView",
            "bar_color": null,
            "description_width": ""
          }
        },
        "0638c5385d37452ebf615232f2ec0cd5": {
          "model_module": "@jupyter-widgets/base",
          "model_name": "LayoutModel",
          "model_module_version": "1.2.0",
          "state": {
            "_model_module": "@jupyter-widgets/base",
            "_model_module_version": "1.2.0",
            "_model_name": "LayoutModel",
            "_view_count": null,
            "_view_module": "@jupyter-widgets/base",
            "_view_module_version": "1.2.0",
            "_view_name": "LayoutView",
            "align_content": null,
            "align_items": null,
            "align_self": null,
            "border": null,
            "bottom": null,
            "display": null,
            "flex": null,
            "flex_flow": null,
            "grid_area": null,
            "grid_auto_columns": null,
            "grid_auto_flow": null,
            "grid_auto_rows": null,
            "grid_column": null,
            "grid_gap": null,
            "grid_row": null,
            "grid_template_areas": null,
            "grid_template_columns": null,
            "grid_template_rows": null,
            "height": null,
            "justify_content": null,
            "justify_items": null,
            "left": null,
            "margin": null,
            "max_height": null,
            "max_width": null,
            "min_height": null,
            "min_width": null,
            "object_fit": null,
            "object_position": null,
            "order": null,
            "overflow": null,
            "overflow_x": null,
            "overflow_y": null,
            "padding": null,
            "right": null,
            "top": null,
            "visibility": null,
            "width": null
          }
        },
        "dbdff2bdf247451a823bb42830d16e78": {
          "model_module": "@jupyter-widgets/controls",
          "model_name": "DescriptionStyleModel",
          "model_module_version": "1.5.0",
          "state": {
            "_model_module": "@jupyter-widgets/controls",
            "_model_module_version": "1.5.0",
            "_model_name": "DescriptionStyleModel",
            "_view_count": null,
            "_view_module": "@jupyter-widgets/base",
            "_view_module_version": "1.2.0",
            "_view_name": "StyleView",
            "description_width": ""
          }
        },
        "a19dfe1c653e49e882030bd9c21dce57": {
          "model_module": "@jupyter-widgets/controls",
          "model_name": "HBoxModel",
          "model_module_version": "1.5.0",
          "state": {
            "_dom_classes": [],
            "_model_module": "@jupyter-widgets/controls",
            "_model_module_version": "1.5.0",
            "_model_name": "HBoxModel",
            "_view_count": null,
            "_view_module": "@jupyter-widgets/controls",
            "_view_module_version": "1.5.0",
            "_view_name": "HBoxView",
            "box_style": "",
            "children": [
              "IPY_MODEL_180562f4ccbd4824bc41ea7341b7b0f9",
              "IPY_MODEL_3b379853042942e497cdd89f20fc007f",
              "IPY_MODEL_37f423b9922845d7b852c4d44639f55f"
            ],
            "layout": "IPY_MODEL_58b27c658edd4940a1a45958cd16f00a"
          }
        },
        "180562f4ccbd4824bc41ea7341b7b0f9": {
          "model_module": "@jupyter-widgets/controls",
          "model_name": "HTMLModel",
          "model_module_version": "1.5.0",
          "state": {
            "_dom_classes": [],
            "_model_module": "@jupyter-widgets/controls",
            "_model_module_version": "1.5.0",
            "_model_name": "HTMLModel",
            "_view_count": null,
            "_view_module": "@jupyter-widgets/controls",
            "_view_module_version": "1.5.0",
            "_view_name": "HTMLView",
            "description": "",
            "description_tooltip": null,
            "layout": "IPY_MODEL_52e0a102d6f748bcb3500001c5123ff1",
            "placeholder": "​",
            "style": "IPY_MODEL_ed7632267d1f4d99aaea03bc60f406b9",
            "value": "tokenizer_config.json: 100%"
          }
        },
        "3b379853042942e497cdd89f20fc007f": {
          "model_module": "@jupyter-widgets/controls",
          "model_name": "FloatProgressModel",
          "model_module_version": "1.5.0",
          "state": {
            "_dom_classes": [],
            "_model_module": "@jupyter-widgets/controls",
            "_model_module_version": "1.5.0",
            "_model_name": "FloatProgressModel",
            "_view_count": null,
            "_view_module": "@jupyter-widgets/controls",
            "_view_module_version": "1.5.0",
            "_view_name": "ProgressView",
            "bar_style": "success",
            "description": "",
            "description_tooltip": null,
            "layout": "IPY_MODEL_b7a5c9022756485ca37566f2c38e5ac3",
            "max": 776,
            "min": 0,
            "orientation": "horizontal",
            "style": "IPY_MODEL_9536d107ee284660b79200c396a8ffe2",
            "value": 776
          }
        },
        "37f423b9922845d7b852c4d44639f55f": {
          "model_module": "@jupyter-widgets/controls",
          "model_name": "HTMLModel",
          "model_module_version": "1.5.0",
          "state": {
            "_dom_classes": [],
            "_model_module": "@jupyter-widgets/controls",
            "_model_module_version": "1.5.0",
            "_model_name": "HTMLModel",
            "_view_count": null,
            "_view_module": "@jupyter-widgets/controls",
            "_view_module_version": "1.5.0",
            "_view_name": "HTMLView",
            "description": "",
            "description_tooltip": null,
            "layout": "IPY_MODEL_8b51a50a495d441ca5e64c07e2c0c286",
            "placeholder": "​",
            "style": "IPY_MODEL_2cc43c0d65d14ff3aa1adbb6b372846b",
            "value": " 776/776 [00:00&lt;00:00, 48.4kB/s]"
          }
        },
        "58b27c658edd4940a1a45958cd16f00a": {
          "model_module": "@jupyter-widgets/base",
          "model_name": "LayoutModel",
          "model_module_version": "1.2.0",
          "state": {
            "_model_module": "@jupyter-widgets/base",
            "_model_module_version": "1.2.0",
            "_model_name": "LayoutModel",
            "_view_count": null,
            "_view_module": "@jupyter-widgets/base",
            "_view_module_version": "1.2.0",
            "_view_name": "LayoutView",
            "align_content": null,
            "align_items": null,
            "align_self": null,
            "border": null,
            "bottom": null,
            "display": null,
            "flex": null,
            "flex_flow": null,
            "grid_area": null,
            "grid_auto_columns": null,
            "grid_auto_flow": null,
            "grid_auto_rows": null,
            "grid_column": null,
            "grid_gap": null,
            "grid_row": null,
            "grid_template_areas": null,
            "grid_template_columns": null,
            "grid_template_rows": null,
            "height": null,
            "justify_content": null,
            "justify_items": null,
            "left": null,
            "margin": null,
            "max_height": null,
            "max_width": null,
            "min_height": null,
            "min_width": null,
            "object_fit": null,
            "object_position": null,
            "order": null,
            "overflow": null,
            "overflow_x": null,
            "overflow_y": null,
            "padding": null,
            "right": null,
            "top": null,
            "visibility": null,
            "width": null
          }
        },
        "52e0a102d6f748bcb3500001c5123ff1": {
          "model_module": "@jupyter-widgets/base",
          "model_name": "LayoutModel",
          "model_module_version": "1.2.0",
          "state": {
            "_model_module": "@jupyter-widgets/base",
            "_model_module_version": "1.2.0",
            "_model_name": "LayoutModel",
            "_view_count": null,
            "_view_module": "@jupyter-widgets/base",
            "_view_module_version": "1.2.0",
            "_view_name": "LayoutView",
            "align_content": null,
            "align_items": null,
            "align_self": null,
            "border": null,
            "bottom": null,
            "display": null,
            "flex": null,
            "flex_flow": null,
            "grid_area": null,
            "grid_auto_columns": null,
            "grid_auto_flow": null,
            "grid_auto_rows": null,
            "grid_column": null,
            "grid_gap": null,
            "grid_row": null,
            "grid_template_areas": null,
            "grid_template_columns": null,
            "grid_template_rows": null,
            "height": null,
            "justify_content": null,
            "justify_items": null,
            "left": null,
            "margin": null,
            "max_height": null,
            "max_width": null,
            "min_height": null,
            "min_width": null,
            "object_fit": null,
            "object_position": null,
            "order": null,
            "overflow": null,
            "overflow_x": null,
            "overflow_y": null,
            "padding": null,
            "right": null,
            "top": null,
            "visibility": null,
            "width": null
          }
        },
        "ed7632267d1f4d99aaea03bc60f406b9": {
          "model_module": "@jupyter-widgets/controls",
          "model_name": "DescriptionStyleModel",
          "model_module_version": "1.5.0",
          "state": {
            "_model_module": "@jupyter-widgets/controls",
            "_model_module_version": "1.5.0",
            "_model_name": "DescriptionStyleModel",
            "_view_count": null,
            "_view_module": "@jupyter-widgets/base",
            "_view_module_version": "1.2.0",
            "_view_name": "StyleView",
            "description_width": ""
          }
        },
        "b7a5c9022756485ca37566f2c38e5ac3": {
          "model_module": "@jupyter-widgets/base",
          "model_name": "LayoutModel",
          "model_module_version": "1.2.0",
          "state": {
            "_model_module": "@jupyter-widgets/base",
            "_model_module_version": "1.2.0",
            "_model_name": "LayoutModel",
            "_view_count": null,
            "_view_module": "@jupyter-widgets/base",
            "_view_module_version": "1.2.0",
            "_view_name": "LayoutView",
            "align_content": null,
            "align_items": null,
            "align_self": null,
            "border": null,
            "bottom": null,
            "display": null,
            "flex": null,
            "flex_flow": null,
            "grid_area": null,
            "grid_auto_columns": null,
            "grid_auto_flow": null,
            "grid_auto_rows": null,
            "grid_column": null,
            "grid_gap": null,
            "grid_row": null,
            "grid_template_areas": null,
            "grid_template_columns": null,
            "grid_template_rows": null,
            "height": null,
            "justify_content": null,
            "justify_items": null,
            "left": null,
            "margin": null,
            "max_height": null,
            "max_width": null,
            "min_height": null,
            "min_width": null,
            "object_fit": null,
            "object_position": null,
            "order": null,
            "overflow": null,
            "overflow_x": null,
            "overflow_y": null,
            "padding": null,
            "right": null,
            "top": null,
            "visibility": null,
            "width": null
          }
        },
        "9536d107ee284660b79200c396a8ffe2": {
          "model_module": "@jupyter-widgets/controls",
          "model_name": "ProgressStyleModel",
          "model_module_version": "1.5.0",
          "state": {
            "_model_module": "@jupyter-widgets/controls",
            "_model_module_version": "1.5.0",
            "_model_name": "ProgressStyleModel",
            "_view_count": null,
            "_view_module": "@jupyter-widgets/base",
            "_view_module_version": "1.2.0",
            "_view_name": "StyleView",
            "bar_color": null,
            "description_width": ""
          }
        },
        "8b51a50a495d441ca5e64c07e2c0c286": {
          "model_module": "@jupyter-widgets/base",
          "model_name": "LayoutModel",
          "model_module_version": "1.2.0",
          "state": {
            "_model_module": "@jupyter-widgets/base",
            "_model_module_version": "1.2.0",
            "_model_name": "LayoutModel",
            "_view_count": null,
            "_view_module": "@jupyter-widgets/base",
            "_view_module_version": "1.2.0",
            "_view_name": "LayoutView",
            "align_content": null,
            "align_items": null,
            "align_self": null,
            "border": null,
            "bottom": null,
            "display": null,
            "flex": null,
            "flex_flow": null,
            "grid_area": null,
            "grid_auto_columns": null,
            "grid_auto_flow": null,
            "grid_auto_rows": null,
            "grid_column": null,
            "grid_gap": null,
            "grid_row": null,
            "grid_template_areas": null,
            "grid_template_columns": null,
            "grid_template_rows": null,
            "height": null,
            "justify_content": null,
            "justify_items": null,
            "left": null,
            "margin": null,
            "max_height": null,
            "max_width": null,
            "min_height": null,
            "min_width": null,
            "object_fit": null,
            "object_position": null,
            "order": null,
            "overflow": null,
            "overflow_x": null,
            "overflow_y": null,
            "padding": null,
            "right": null,
            "top": null,
            "visibility": null,
            "width": null
          }
        },
        "2cc43c0d65d14ff3aa1adbb6b372846b": {
          "model_module": "@jupyter-widgets/controls",
          "model_name": "DescriptionStyleModel",
          "model_module_version": "1.5.0",
          "state": {
            "_model_module": "@jupyter-widgets/controls",
            "_model_module_version": "1.5.0",
            "_model_name": "DescriptionStyleModel",
            "_view_count": null,
            "_view_module": "@jupyter-widgets/base",
            "_view_module_version": "1.2.0",
            "_view_name": "StyleView",
            "description_width": ""
          }
        },
        "f091fb9214ee4702aa5fb34c5373d189": {
          "model_module": "@jupyter-widgets/controls",
          "model_name": "HBoxModel",
          "model_module_version": "1.5.0",
          "state": {
            "_dom_classes": [],
            "_model_module": "@jupyter-widgets/controls",
            "_model_module_version": "1.5.0",
            "_model_name": "HBoxModel",
            "_view_count": null,
            "_view_module": "@jupyter-widgets/controls",
            "_view_module_version": "1.5.0",
            "_view_name": "HBoxView",
            "box_style": "",
            "children": [
              "IPY_MODEL_bfd2997e7b8d46d5b4327ceb21d7bee7",
              "IPY_MODEL_7cabdcc0a0df4b6e948f3f306b349ce5",
              "IPY_MODEL_87ac5d87e27c457b931d2689a9cf0565"
            ],
            "layout": "IPY_MODEL_bf103e1de2fd4bb0ba0c14eb97b1c17e"
          }
        },
        "bfd2997e7b8d46d5b4327ceb21d7bee7": {
          "model_module": "@jupyter-widgets/controls",
          "model_name": "HTMLModel",
          "model_module_version": "1.5.0",
          "state": {
            "_dom_classes": [],
            "_model_module": "@jupyter-widgets/controls",
            "_model_module_version": "1.5.0",
            "_model_name": "HTMLModel",
            "_view_count": null,
            "_view_module": "@jupyter-widgets/controls",
            "_view_module_version": "1.5.0",
            "_view_name": "HTMLView",
            "description": "",
            "description_tooltip": null,
            "layout": "IPY_MODEL_da8b2245b93541709e50bcd7ca45f38f",
            "placeholder": "​",
            "style": "IPY_MODEL_f7cc2f01864246618b2e614c77a1bb66",
            "value": "tokenizer.model: 100%"
          }
        },
        "7cabdcc0a0df4b6e948f3f306b349ce5": {
          "model_module": "@jupyter-widgets/controls",
          "model_name": "FloatProgressModel",
          "model_module_version": "1.5.0",
          "state": {
            "_dom_classes": [],
            "_model_module": "@jupyter-widgets/controls",
            "_model_module_version": "1.5.0",
            "_model_name": "FloatProgressModel",
            "_view_count": null,
            "_view_module": "@jupyter-widgets/controls",
            "_view_module_version": "1.5.0",
            "_view_name": "ProgressView",
            "bar_style": "success",
            "description": "",
            "description_tooltip": null,
            "layout": "IPY_MODEL_0f2f129d45c0428d86289b559bc2956e",
            "max": 499723,
            "min": 0,
            "orientation": "horizontal",
            "style": "IPY_MODEL_f73e27b00bcb4e1097d629e42d8621bf",
            "value": 499723
          }
        },
        "87ac5d87e27c457b931d2689a9cf0565": {
          "model_module": "@jupyter-widgets/controls",
          "model_name": "HTMLModel",
          "model_module_version": "1.5.0",
          "state": {
            "_dom_classes": [],
            "_model_module": "@jupyter-widgets/controls",
            "_model_module_version": "1.5.0",
            "_model_name": "HTMLModel",
            "_view_count": null,
            "_view_module": "@jupyter-widgets/controls",
            "_view_module_version": "1.5.0",
            "_view_name": "HTMLView",
            "description": "",
            "description_tooltip": null,
            "layout": "IPY_MODEL_ad407fa54bc94919bc631945ae0893d3",
            "placeholder": "​",
            "style": "IPY_MODEL_1c1742e9ea3e424c9a227f1bfd5193a0",
            "value": " 500k/500k [00:00&lt;00:00, 44.4MB/s]"
          }
        },
        "bf103e1de2fd4bb0ba0c14eb97b1c17e": {
          "model_module": "@jupyter-widgets/base",
          "model_name": "LayoutModel",
          "model_module_version": "1.2.0",
          "state": {
            "_model_module": "@jupyter-widgets/base",
            "_model_module_version": "1.2.0",
            "_model_name": "LayoutModel",
            "_view_count": null,
            "_view_module": "@jupyter-widgets/base",
            "_view_module_version": "1.2.0",
            "_view_name": "LayoutView",
            "align_content": null,
            "align_items": null,
            "align_self": null,
            "border": null,
            "bottom": null,
            "display": null,
            "flex": null,
            "flex_flow": null,
            "grid_area": null,
            "grid_auto_columns": null,
            "grid_auto_flow": null,
            "grid_auto_rows": null,
            "grid_column": null,
            "grid_gap": null,
            "grid_row": null,
            "grid_template_areas": null,
            "grid_template_columns": null,
            "grid_template_rows": null,
            "height": null,
            "justify_content": null,
            "justify_items": null,
            "left": null,
            "margin": null,
            "max_height": null,
            "max_width": null,
            "min_height": null,
            "min_width": null,
            "object_fit": null,
            "object_position": null,
            "order": null,
            "overflow": null,
            "overflow_x": null,
            "overflow_y": null,
            "padding": null,
            "right": null,
            "top": null,
            "visibility": null,
            "width": null
          }
        },
        "da8b2245b93541709e50bcd7ca45f38f": {
          "model_module": "@jupyter-widgets/base",
          "model_name": "LayoutModel",
          "model_module_version": "1.2.0",
          "state": {
            "_model_module": "@jupyter-widgets/base",
            "_model_module_version": "1.2.0",
            "_model_name": "LayoutModel",
            "_view_count": null,
            "_view_module": "@jupyter-widgets/base",
            "_view_module_version": "1.2.0",
            "_view_name": "LayoutView",
            "align_content": null,
            "align_items": null,
            "align_self": null,
            "border": null,
            "bottom": null,
            "display": null,
            "flex": null,
            "flex_flow": null,
            "grid_area": null,
            "grid_auto_columns": null,
            "grid_auto_flow": null,
            "grid_auto_rows": null,
            "grid_column": null,
            "grid_gap": null,
            "grid_row": null,
            "grid_template_areas": null,
            "grid_template_columns": null,
            "grid_template_rows": null,
            "height": null,
            "justify_content": null,
            "justify_items": null,
            "left": null,
            "margin": null,
            "max_height": null,
            "max_width": null,
            "min_height": null,
            "min_width": null,
            "object_fit": null,
            "object_position": null,
            "order": null,
            "overflow": null,
            "overflow_x": null,
            "overflow_y": null,
            "padding": null,
            "right": null,
            "top": null,
            "visibility": null,
            "width": null
          }
        },
        "f7cc2f01864246618b2e614c77a1bb66": {
          "model_module": "@jupyter-widgets/controls",
          "model_name": "DescriptionStyleModel",
          "model_module_version": "1.5.0",
          "state": {
            "_model_module": "@jupyter-widgets/controls",
            "_model_module_version": "1.5.0",
            "_model_name": "DescriptionStyleModel",
            "_view_count": null,
            "_view_module": "@jupyter-widgets/base",
            "_view_module_version": "1.2.0",
            "_view_name": "StyleView",
            "description_width": ""
          }
        },
        "0f2f129d45c0428d86289b559bc2956e": {
          "model_module": "@jupyter-widgets/base",
          "model_name": "LayoutModel",
          "model_module_version": "1.2.0",
          "state": {
            "_model_module": "@jupyter-widgets/base",
            "_model_module_version": "1.2.0",
            "_model_name": "LayoutModel",
            "_view_count": null,
            "_view_module": "@jupyter-widgets/base",
            "_view_module_version": "1.2.0",
            "_view_name": "LayoutView",
            "align_content": null,
            "align_items": null,
            "align_self": null,
            "border": null,
            "bottom": null,
            "display": null,
            "flex": null,
            "flex_flow": null,
            "grid_area": null,
            "grid_auto_columns": null,
            "grid_auto_flow": null,
            "grid_auto_rows": null,
            "grid_column": null,
            "grid_gap": null,
            "grid_row": null,
            "grid_template_areas": null,
            "grid_template_columns": null,
            "grid_template_rows": null,
            "height": null,
            "justify_content": null,
            "justify_items": null,
            "left": null,
            "margin": null,
            "max_height": null,
            "max_width": null,
            "min_height": null,
            "min_width": null,
            "object_fit": null,
            "object_position": null,
            "order": null,
            "overflow": null,
            "overflow_x": null,
            "overflow_y": null,
            "padding": null,
            "right": null,
            "top": null,
            "visibility": null,
            "width": null
          }
        },
        "f73e27b00bcb4e1097d629e42d8621bf": {
          "model_module": "@jupyter-widgets/controls",
          "model_name": "ProgressStyleModel",
          "model_module_version": "1.5.0",
          "state": {
            "_model_module": "@jupyter-widgets/controls",
            "_model_module_version": "1.5.0",
            "_model_name": "ProgressStyleModel",
            "_view_count": null,
            "_view_module": "@jupyter-widgets/base",
            "_view_module_version": "1.2.0",
            "_view_name": "StyleView",
            "bar_color": null,
            "description_width": ""
          }
        },
        "ad407fa54bc94919bc631945ae0893d3": {
          "model_module": "@jupyter-widgets/base",
          "model_name": "LayoutModel",
          "model_module_version": "1.2.0",
          "state": {
            "_model_module": "@jupyter-widgets/base",
            "_model_module_version": "1.2.0",
            "_model_name": "LayoutModel",
            "_view_count": null,
            "_view_module": "@jupyter-widgets/base",
            "_view_module_version": "1.2.0",
            "_view_name": "LayoutView",
            "align_content": null,
            "align_items": null,
            "align_self": null,
            "border": null,
            "bottom": null,
            "display": null,
            "flex": null,
            "flex_flow": null,
            "grid_area": null,
            "grid_auto_columns": null,
            "grid_auto_flow": null,
            "grid_auto_rows": null,
            "grid_column": null,
            "grid_gap": null,
            "grid_row": null,
            "grid_template_areas": null,
            "grid_template_columns": null,
            "grid_template_rows": null,
            "height": null,
            "justify_content": null,
            "justify_items": null,
            "left": null,
            "margin": null,
            "max_height": null,
            "max_width": null,
            "min_height": null,
            "min_width": null,
            "object_fit": null,
            "object_position": null,
            "order": null,
            "overflow": null,
            "overflow_x": null,
            "overflow_y": null,
            "padding": null,
            "right": null,
            "top": null,
            "visibility": null,
            "width": null
          }
        },
        "1c1742e9ea3e424c9a227f1bfd5193a0": {
          "model_module": "@jupyter-widgets/controls",
          "model_name": "DescriptionStyleModel",
          "model_module_version": "1.5.0",
          "state": {
            "_model_module": "@jupyter-widgets/controls",
            "_model_module_version": "1.5.0",
            "_model_name": "DescriptionStyleModel",
            "_view_count": null,
            "_view_module": "@jupyter-widgets/base",
            "_view_module_version": "1.2.0",
            "_view_name": "StyleView",
            "description_width": ""
          }
        },
        "7152f2ce7abb411e986334a767532bf1": {
          "model_module": "@jupyter-widgets/controls",
          "model_name": "HBoxModel",
          "model_module_version": "1.5.0",
          "state": {
            "_dom_classes": [],
            "_model_module": "@jupyter-widgets/controls",
            "_model_module_version": "1.5.0",
            "_model_name": "HBoxModel",
            "_view_count": null,
            "_view_module": "@jupyter-widgets/controls",
            "_view_module_version": "1.5.0",
            "_view_name": "HBoxView",
            "box_style": "",
            "children": [
              "IPY_MODEL_1ebf2e90436f4410ac6bf1ea265f93bd",
              "IPY_MODEL_a143183d07654aa5b1555797eabbfe04",
              "IPY_MODEL_9a46ebb61b6441daa9fda4c9218cbc4a"
            ],
            "layout": "IPY_MODEL_0aa715eeee554a1b84697a191b68e454"
          }
        },
        "1ebf2e90436f4410ac6bf1ea265f93bd": {
          "model_module": "@jupyter-widgets/controls",
          "model_name": "HTMLModel",
          "model_module_version": "1.5.0",
          "state": {
            "_dom_classes": [],
            "_model_module": "@jupyter-widgets/controls",
            "_model_module_version": "1.5.0",
            "_model_name": "HTMLModel",
            "_view_count": null,
            "_view_module": "@jupyter-widgets/controls",
            "_view_module_version": "1.5.0",
            "_view_name": "HTMLView",
            "description": "",
            "description_tooltip": null,
            "layout": "IPY_MODEL_4d3725ba91ff43f1adfbf5474163d8cd",
            "placeholder": "​",
            "style": "IPY_MODEL_475fce56a2ef4b9a98ba32c4e2307237",
            "value": "tokenizer.json: 100%"
          }
        },
        "a143183d07654aa5b1555797eabbfe04": {
          "model_module": "@jupyter-widgets/controls",
          "model_name": "FloatProgressModel",
          "model_module_version": "1.5.0",
          "state": {
            "_dom_classes": [],
            "_model_module": "@jupyter-widgets/controls",
            "_model_module_version": "1.5.0",
            "_model_name": "FloatProgressModel",
            "_view_count": null,
            "_view_module": "@jupyter-widgets/controls",
            "_view_module_version": "1.5.0",
            "_view_name": "ProgressView",
            "bar_style": "success",
            "description": "",
            "description_tooltip": null,
            "layout": "IPY_MODEL_80def7e061d046e6a5d5ceb42e14d63c",
            "max": 1842767,
            "min": 0,
            "orientation": "horizontal",
            "style": "IPY_MODEL_45fa8bf2f9c441fcb5c2d13a4b3a2ea6",
            "value": 1842767
          }
        },
        "9a46ebb61b6441daa9fda4c9218cbc4a": {
          "model_module": "@jupyter-widgets/controls",
          "model_name": "HTMLModel",
          "model_module_version": "1.5.0",
          "state": {
            "_dom_classes": [],
            "_model_module": "@jupyter-widgets/controls",
            "_model_module_version": "1.5.0",
            "_model_name": "HTMLModel",
            "_view_count": null,
            "_view_module": "@jupyter-widgets/controls",
            "_view_module_version": "1.5.0",
            "_view_name": "HTMLView",
            "description": "",
            "description_tooltip": null,
            "layout": "IPY_MODEL_ee962ee1c27a47aba243ac6535d18d4b",
            "placeholder": "​",
            "style": "IPY_MODEL_50d18c0fa386453287e992eba6b6da89",
            "value": " 1.84M/1.84M [00:00&lt;00:00, 5.97MB/s]"
          }
        },
        "0aa715eeee554a1b84697a191b68e454": {
          "model_module": "@jupyter-widgets/base",
          "model_name": "LayoutModel",
          "model_module_version": "1.2.0",
          "state": {
            "_model_module": "@jupyter-widgets/base",
            "_model_module_version": "1.2.0",
            "_model_name": "LayoutModel",
            "_view_count": null,
            "_view_module": "@jupyter-widgets/base",
            "_view_module_version": "1.2.0",
            "_view_name": "LayoutView",
            "align_content": null,
            "align_items": null,
            "align_self": null,
            "border": null,
            "bottom": null,
            "display": null,
            "flex": null,
            "flex_flow": null,
            "grid_area": null,
            "grid_auto_columns": null,
            "grid_auto_flow": null,
            "grid_auto_rows": null,
            "grid_column": null,
            "grid_gap": null,
            "grid_row": null,
            "grid_template_areas": null,
            "grid_template_columns": null,
            "grid_template_rows": null,
            "height": null,
            "justify_content": null,
            "justify_items": null,
            "left": null,
            "margin": null,
            "max_height": null,
            "max_width": null,
            "min_height": null,
            "min_width": null,
            "object_fit": null,
            "object_position": null,
            "order": null,
            "overflow": null,
            "overflow_x": null,
            "overflow_y": null,
            "padding": null,
            "right": null,
            "top": null,
            "visibility": null,
            "width": null
          }
        },
        "4d3725ba91ff43f1adfbf5474163d8cd": {
          "model_module": "@jupyter-widgets/base",
          "model_name": "LayoutModel",
          "model_module_version": "1.2.0",
          "state": {
            "_model_module": "@jupyter-widgets/base",
            "_model_module_version": "1.2.0",
            "_model_name": "LayoutModel",
            "_view_count": null,
            "_view_module": "@jupyter-widgets/base",
            "_view_module_version": "1.2.0",
            "_view_name": "LayoutView",
            "align_content": null,
            "align_items": null,
            "align_self": null,
            "border": null,
            "bottom": null,
            "display": null,
            "flex": null,
            "flex_flow": null,
            "grid_area": null,
            "grid_auto_columns": null,
            "grid_auto_flow": null,
            "grid_auto_rows": null,
            "grid_column": null,
            "grid_gap": null,
            "grid_row": null,
            "grid_template_areas": null,
            "grid_template_columns": null,
            "grid_template_rows": null,
            "height": null,
            "justify_content": null,
            "justify_items": null,
            "left": null,
            "margin": null,
            "max_height": null,
            "max_width": null,
            "min_height": null,
            "min_width": null,
            "object_fit": null,
            "object_position": null,
            "order": null,
            "overflow": null,
            "overflow_x": null,
            "overflow_y": null,
            "padding": null,
            "right": null,
            "top": null,
            "visibility": null,
            "width": null
          }
        },
        "475fce56a2ef4b9a98ba32c4e2307237": {
          "model_module": "@jupyter-widgets/controls",
          "model_name": "DescriptionStyleModel",
          "model_module_version": "1.5.0",
          "state": {
            "_model_module": "@jupyter-widgets/controls",
            "_model_module_version": "1.5.0",
            "_model_name": "DescriptionStyleModel",
            "_view_count": null,
            "_view_module": "@jupyter-widgets/base",
            "_view_module_version": "1.2.0",
            "_view_name": "StyleView",
            "description_width": ""
          }
        },
        "80def7e061d046e6a5d5ceb42e14d63c": {
          "model_module": "@jupyter-widgets/base",
          "model_name": "LayoutModel",
          "model_module_version": "1.2.0",
          "state": {
            "_model_module": "@jupyter-widgets/base",
            "_model_module_version": "1.2.0",
            "_model_name": "LayoutModel",
            "_view_count": null,
            "_view_module": "@jupyter-widgets/base",
            "_view_module_version": "1.2.0",
            "_view_name": "LayoutView",
            "align_content": null,
            "align_items": null,
            "align_self": null,
            "border": null,
            "bottom": null,
            "display": null,
            "flex": null,
            "flex_flow": null,
            "grid_area": null,
            "grid_auto_columns": null,
            "grid_auto_flow": null,
            "grid_auto_rows": null,
            "grid_column": null,
            "grid_gap": null,
            "grid_row": null,
            "grid_template_areas": null,
            "grid_template_columns": null,
            "grid_template_rows": null,
            "height": null,
            "justify_content": null,
            "justify_items": null,
            "left": null,
            "margin": null,
            "max_height": null,
            "max_width": null,
            "min_height": null,
            "min_width": null,
            "object_fit": null,
            "object_position": null,
            "order": null,
            "overflow": null,
            "overflow_x": null,
            "overflow_y": null,
            "padding": null,
            "right": null,
            "top": null,
            "visibility": null,
            "width": null
          }
        },
        "45fa8bf2f9c441fcb5c2d13a4b3a2ea6": {
          "model_module": "@jupyter-widgets/controls",
          "model_name": "ProgressStyleModel",
          "model_module_version": "1.5.0",
          "state": {
            "_model_module": "@jupyter-widgets/controls",
            "_model_module_version": "1.5.0",
            "_model_name": "ProgressStyleModel",
            "_view_count": null,
            "_view_module": "@jupyter-widgets/base",
            "_view_module_version": "1.2.0",
            "_view_name": "StyleView",
            "bar_color": null,
            "description_width": ""
          }
        },
        "ee962ee1c27a47aba243ac6535d18d4b": {
          "model_module": "@jupyter-widgets/base",
          "model_name": "LayoutModel",
          "model_module_version": "1.2.0",
          "state": {
            "_model_module": "@jupyter-widgets/base",
            "_model_module_version": "1.2.0",
            "_model_name": "LayoutModel",
            "_view_count": null,
            "_view_module": "@jupyter-widgets/base",
            "_view_module_version": "1.2.0",
            "_view_name": "LayoutView",
            "align_content": null,
            "align_items": null,
            "align_self": null,
            "border": null,
            "bottom": null,
            "display": null,
            "flex": null,
            "flex_flow": null,
            "grid_area": null,
            "grid_auto_columns": null,
            "grid_auto_flow": null,
            "grid_auto_rows": null,
            "grid_column": null,
            "grid_gap": null,
            "grid_row": null,
            "grid_template_areas": null,
            "grid_template_columns": null,
            "grid_template_rows": null,
            "height": null,
            "justify_content": null,
            "justify_items": null,
            "left": null,
            "margin": null,
            "max_height": null,
            "max_width": null,
            "min_height": null,
            "min_width": null,
            "object_fit": null,
            "object_position": null,
            "order": null,
            "overflow": null,
            "overflow_x": null,
            "overflow_y": null,
            "padding": null,
            "right": null,
            "top": null,
            "visibility": null,
            "width": null
          }
        },
        "50d18c0fa386453287e992eba6b6da89": {
          "model_module": "@jupyter-widgets/controls",
          "model_name": "DescriptionStyleModel",
          "model_module_version": "1.5.0",
          "state": {
            "_model_module": "@jupyter-widgets/controls",
            "_model_module_version": "1.5.0",
            "_model_name": "DescriptionStyleModel",
            "_view_count": null,
            "_view_module": "@jupyter-widgets/base",
            "_view_module_version": "1.2.0",
            "_view_name": "StyleView",
            "description_width": ""
          }
        },
        "631c33fb73ad401e89b8f45e4369e7dc": {
          "model_module": "@jupyter-widgets/controls",
          "model_name": "HBoxModel",
          "model_module_version": "1.5.0",
          "state": {
            "_dom_classes": [],
            "_model_module": "@jupyter-widgets/controls",
            "_model_module_version": "1.5.0",
            "_model_name": "HBoxModel",
            "_view_count": null,
            "_view_module": "@jupyter-widgets/controls",
            "_view_module_version": "1.5.0",
            "_view_name": "HBoxView",
            "box_style": "",
            "children": [
              "IPY_MODEL_dee406b09ea342259f603f157e492bf3",
              "IPY_MODEL_3893c8593bb4422f8d869914f51a2aae",
              "IPY_MODEL_1a4628bae7624ae9bbb5abb36dc37f10"
            ],
            "layout": "IPY_MODEL_652fdadf8c014189895a6524c791180a"
          }
        },
        "dee406b09ea342259f603f157e492bf3": {
          "model_module": "@jupyter-widgets/controls",
          "model_name": "HTMLModel",
          "model_module_version": "1.5.0",
          "state": {
            "_dom_classes": [],
            "_model_module": "@jupyter-widgets/controls",
            "_model_module_version": "1.5.0",
            "_model_name": "HTMLModel",
            "_view_count": null,
            "_view_module": "@jupyter-widgets/controls",
            "_view_module_version": "1.5.0",
            "_view_name": "HTMLView",
            "description": "",
            "description_tooltip": null,
            "layout": "IPY_MODEL_a76e186f735c4d41b5170804345cdebb",
            "placeholder": "​",
            "style": "IPY_MODEL_ca7023ea1c174ab1a6dd368ebbeae426",
            "value": "special_tokens_map.json: 100%"
          }
        },
        "3893c8593bb4422f8d869914f51a2aae": {
          "model_module": "@jupyter-widgets/controls",
          "model_name": "FloatProgressModel",
          "model_module_version": "1.5.0",
          "state": {
            "_dom_classes": [],
            "_model_module": "@jupyter-widgets/controls",
            "_model_module_version": "1.5.0",
            "_model_name": "FloatProgressModel",
            "_view_count": null,
            "_view_module": "@jupyter-widgets/controls",
            "_view_module_version": "1.5.0",
            "_view_name": "ProgressView",
            "bar_style": "success",
            "description": "",
            "description_tooltip": null,
            "layout": "IPY_MODEL_4549309f1e454332bde8de45b2a988d7",
            "max": 414,
            "min": 0,
            "orientation": "horizontal",
            "style": "IPY_MODEL_f59e0188a0d2408795c17f3b5ad9a47a",
            "value": 414
          }
        },
        "1a4628bae7624ae9bbb5abb36dc37f10": {
          "model_module": "@jupyter-widgets/controls",
          "model_name": "HTMLModel",
          "model_module_version": "1.5.0",
          "state": {
            "_dom_classes": [],
            "_model_module": "@jupyter-widgets/controls",
            "_model_module_version": "1.5.0",
            "_model_name": "HTMLModel",
            "_view_count": null,
            "_view_module": "@jupyter-widgets/controls",
            "_view_module_version": "1.5.0",
            "_view_name": "HTMLView",
            "description": "",
            "description_tooltip": null,
            "layout": "IPY_MODEL_629c2ba9b9dd47499d1e17de3eb8fb8a",
            "placeholder": "​",
            "style": "IPY_MODEL_71251a2665f74e70915379bdf2a220bb",
            "value": " 414/414 [00:00&lt;00:00, 35.2kB/s]"
          }
        },
        "652fdadf8c014189895a6524c791180a": {
          "model_module": "@jupyter-widgets/base",
          "model_name": "LayoutModel",
          "model_module_version": "1.2.0",
          "state": {
            "_model_module": "@jupyter-widgets/base",
            "_model_module_version": "1.2.0",
            "_model_name": "LayoutModel",
            "_view_count": null,
            "_view_module": "@jupyter-widgets/base",
            "_view_module_version": "1.2.0",
            "_view_name": "LayoutView",
            "align_content": null,
            "align_items": null,
            "align_self": null,
            "border": null,
            "bottom": null,
            "display": null,
            "flex": null,
            "flex_flow": null,
            "grid_area": null,
            "grid_auto_columns": null,
            "grid_auto_flow": null,
            "grid_auto_rows": null,
            "grid_column": null,
            "grid_gap": null,
            "grid_row": null,
            "grid_template_areas": null,
            "grid_template_columns": null,
            "grid_template_rows": null,
            "height": null,
            "justify_content": null,
            "justify_items": null,
            "left": null,
            "margin": null,
            "max_height": null,
            "max_width": null,
            "min_height": null,
            "min_width": null,
            "object_fit": null,
            "object_position": null,
            "order": null,
            "overflow": null,
            "overflow_x": null,
            "overflow_y": null,
            "padding": null,
            "right": null,
            "top": null,
            "visibility": null,
            "width": null
          }
        },
        "a76e186f735c4d41b5170804345cdebb": {
          "model_module": "@jupyter-widgets/base",
          "model_name": "LayoutModel",
          "model_module_version": "1.2.0",
          "state": {
            "_model_module": "@jupyter-widgets/base",
            "_model_module_version": "1.2.0",
            "_model_name": "LayoutModel",
            "_view_count": null,
            "_view_module": "@jupyter-widgets/base",
            "_view_module_version": "1.2.0",
            "_view_name": "LayoutView",
            "align_content": null,
            "align_items": null,
            "align_self": null,
            "border": null,
            "bottom": null,
            "display": null,
            "flex": null,
            "flex_flow": null,
            "grid_area": null,
            "grid_auto_columns": null,
            "grid_auto_flow": null,
            "grid_auto_rows": null,
            "grid_column": null,
            "grid_gap": null,
            "grid_row": null,
            "grid_template_areas": null,
            "grid_template_columns": null,
            "grid_template_rows": null,
            "height": null,
            "justify_content": null,
            "justify_items": null,
            "left": null,
            "margin": null,
            "max_height": null,
            "max_width": null,
            "min_height": null,
            "min_width": null,
            "object_fit": null,
            "object_position": null,
            "order": null,
            "overflow": null,
            "overflow_x": null,
            "overflow_y": null,
            "padding": null,
            "right": null,
            "top": null,
            "visibility": null,
            "width": null
          }
        },
        "ca7023ea1c174ab1a6dd368ebbeae426": {
          "model_module": "@jupyter-widgets/controls",
          "model_name": "DescriptionStyleModel",
          "model_module_version": "1.5.0",
          "state": {
            "_model_module": "@jupyter-widgets/controls",
            "_model_module_version": "1.5.0",
            "_model_name": "DescriptionStyleModel",
            "_view_count": null,
            "_view_module": "@jupyter-widgets/base",
            "_view_module_version": "1.2.0",
            "_view_name": "StyleView",
            "description_width": ""
          }
        },
        "4549309f1e454332bde8de45b2a988d7": {
          "model_module": "@jupyter-widgets/base",
          "model_name": "LayoutModel",
          "model_module_version": "1.2.0",
          "state": {
            "_model_module": "@jupyter-widgets/base",
            "_model_module_version": "1.2.0",
            "_model_name": "LayoutModel",
            "_view_count": null,
            "_view_module": "@jupyter-widgets/base",
            "_view_module_version": "1.2.0",
            "_view_name": "LayoutView",
            "align_content": null,
            "align_items": null,
            "align_self": null,
            "border": null,
            "bottom": null,
            "display": null,
            "flex": null,
            "flex_flow": null,
            "grid_area": null,
            "grid_auto_columns": null,
            "grid_auto_flow": null,
            "grid_auto_rows": null,
            "grid_column": null,
            "grid_gap": null,
            "grid_row": null,
            "grid_template_areas": null,
            "grid_template_columns": null,
            "grid_template_rows": null,
            "height": null,
            "justify_content": null,
            "justify_items": null,
            "left": null,
            "margin": null,
            "max_height": null,
            "max_width": null,
            "min_height": null,
            "min_width": null,
            "object_fit": null,
            "object_position": null,
            "order": null,
            "overflow": null,
            "overflow_x": null,
            "overflow_y": null,
            "padding": null,
            "right": null,
            "top": null,
            "visibility": null,
            "width": null
          }
        },
        "f59e0188a0d2408795c17f3b5ad9a47a": {
          "model_module": "@jupyter-widgets/controls",
          "model_name": "ProgressStyleModel",
          "model_module_version": "1.5.0",
          "state": {
            "_model_module": "@jupyter-widgets/controls",
            "_model_module_version": "1.5.0",
            "_model_name": "ProgressStyleModel",
            "_view_count": null,
            "_view_module": "@jupyter-widgets/base",
            "_view_module_version": "1.2.0",
            "_view_name": "StyleView",
            "bar_color": null,
            "description_width": ""
          }
        },
        "629c2ba9b9dd47499d1e17de3eb8fb8a": {
          "model_module": "@jupyter-widgets/base",
          "model_name": "LayoutModel",
          "model_module_version": "1.2.0",
          "state": {
            "_model_module": "@jupyter-widgets/base",
            "_model_module_version": "1.2.0",
            "_model_name": "LayoutModel",
            "_view_count": null,
            "_view_module": "@jupyter-widgets/base",
            "_view_module_version": "1.2.0",
            "_view_name": "LayoutView",
            "align_content": null,
            "align_items": null,
            "align_self": null,
            "border": null,
            "bottom": null,
            "display": null,
            "flex": null,
            "flex_flow": null,
            "grid_area": null,
            "grid_auto_columns": null,
            "grid_auto_flow": null,
            "grid_auto_rows": null,
            "grid_column": null,
            "grid_gap": null,
            "grid_row": null,
            "grid_template_areas": null,
            "grid_template_columns": null,
            "grid_template_rows": null,
            "height": null,
            "justify_content": null,
            "justify_items": null,
            "left": null,
            "margin": null,
            "max_height": null,
            "max_width": null,
            "min_height": null,
            "min_width": null,
            "object_fit": null,
            "object_position": null,
            "order": null,
            "overflow": null,
            "overflow_x": null,
            "overflow_y": null,
            "padding": null,
            "right": null,
            "top": null,
            "visibility": null,
            "width": null
          }
        },
        "71251a2665f74e70915379bdf2a220bb": {
          "model_module": "@jupyter-widgets/controls",
          "model_name": "DescriptionStyleModel",
          "model_module_version": "1.5.0",
          "state": {
            "_model_module": "@jupyter-widgets/controls",
            "_model_module_version": "1.5.0",
            "_model_name": "DescriptionStyleModel",
            "_view_count": null,
            "_view_module": "@jupyter-widgets/base",
            "_view_module_version": "1.2.0",
            "_view_name": "StyleView",
            "description_width": ""
          }
        },
        "978dddfb27764066bb3eb1ad59cc8f76": {
          "model_module": "@jupyter-widgets/controls",
          "model_name": "HBoxModel",
          "model_module_version": "1.5.0",
          "state": {
            "_dom_classes": [],
            "_model_module": "@jupyter-widgets/controls",
            "_model_module_version": "1.5.0",
            "_model_name": "HBoxModel",
            "_view_count": null,
            "_view_module": "@jupyter-widgets/controls",
            "_view_module_version": "1.5.0",
            "_view_name": "HBoxView",
            "box_style": "",
            "children": [
              "IPY_MODEL_1c577ce08e224ed4bc5ac84e88d11c78",
              "IPY_MODEL_8a2995581d324d44a52e52b57fa0f63b",
              "IPY_MODEL_134389fdbba04fd9bc28cb5cb1bda3da"
            ],
            "layout": "IPY_MODEL_f790b022906e4245a4a51f7fa5c3b7b5"
          }
        },
        "1c577ce08e224ed4bc5ac84e88d11c78": {
          "model_module": "@jupyter-widgets/controls",
          "model_name": "HTMLModel",
          "model_module_version": "1.5.0",
          "state": {
            "_dom_classes": [],
            "_model_module": "@jupyter-widgets/controls",
            "_model_module_version": "1.5.0",
            "_model_name": "HTMLModel",
            "_view_count": null,
            "_view_module": "@jupyter-widgets/controls",
            "_view_module_version": "1.5.0",
            "_view_name": "HTMLView",
            "description": "",
            "description_tooltip": null,
            "layout": "IPY_MODEL_4b23a1aed96147288bff285439961c54",
            "placeholder": "​",
            "style": "IPY_MODEL_1cdd1dee5fd64e188c6cd5cd9abf27d8",
            "value": "Map: 100%"
          }
        },
        "8a2995581d324d44a52e52b57fa0f63b": {
          "model_module": "@jupyter-widgets/controls",
          "model_name": "FloatProgressModel",
          "model_module_version": "1.5.0",
          "state": {
            "_dom_classes": [],
            "_model_module": "@jupyter-widgets/controls",
            "_model_module_version": "1.5.0",
            "_model_name": "FloatProgressModel",
            "_view_count": null,
            "_view_module": "@jupyter-widgets/controls",
            "_view_module_version": "1.5.0",
            "_view_name": "ProgressView",
            "bar_style": "success",
            "description": "",
            "description_tooltip": null,
            "layout": "IPY_MODEL_2e33f99b7a7c485e9c3fbb3a39b37ec6",
            "max": 3000,
            "min": 0,
            "orientation": "horizontal",
            "style": "IPY_MODEL_79bd2ceaa4fc418da95b0e75f1c87543",
            "value": 3000
          }
        },
        "134389fdbba04fd9bc28cb5cb1bda3da": {
          "model_module": "@jupyter-widgets/controls",
          "model_name": "HTMLModel",
          "model_module_version": "1.5.0",
          "state": {
            "_dom_classes": [],
            "_model_module": "@jupyter-widgets/controls",
            "_model_module_version": "1.5.0",
            "_model_name": "HTMLModel",
            "_view_count": null,
            "_view_module": "@jupyter-widgets/controls",
            "_view_module_version": "1.5.0",
            "_view_name": "HTMLView",
            "description": "",
            "description_tooltip": null,
            "layout": "IPY_MODEL_46672f3cd7424081a5657af17f33dd7f",
            "placeholder": "​",
            "style": "IPY_MODEL_732c26135fe4435f85c6d47fb786fb03",
            "value": " 3000/3000 [00:10&lt;00:00, 291.95 examples/s]"
          }
        },
        "f790b022906e4245a4a51f7fa5c3b7b5": {
          "model_module": "@jupyter-widgets/base",
          "model_name": "LayoutModel",
          "model_module_version": "1.2.0",
          "state": {
            "_model_module": "@jupyter-widgets/base",
            "_model_module_version": "1.2.0",
            "_model_name": "LayoutModel",
            "_view_count": null,
            "_view_module": "@jupyter-widgets/base",
            "_view_module_version": "1.2.0",
            "_view_name": "LayoutView",
            "align_content": null,
            "align_items": null,
            "align_self": null,
            "border": null,
            "bottom": null,
            "display": null,
            "flex": null,
            "flex_flow": null,
            "grid_area": null,
            "grid_auto_columns": null,
            "grid_auto_flow": null,
            "grid_auto_rows": null,
            "grid_column": null,
            "grid_gap": null,
            "grid_row": null,
            "grid_template_areas": null,
            "grid_template_columns": null,
            "grid_template_rows": null,
            "height": null,
            "justify_content": null,
            "justify_items": null,
            "left": null,
            "margin": null,
            "max_height": null,
            "max_width": null,
            "min_height": null,
            "min_width": null,
            "object_fit": null,
            "object_position": null,
            "order": null,
            "overflow": null,
            "overflow_x": null,
            "overflow_y": null,
            "padding": null,
            "right": null,
            "top": null,
            "visibility": null,
            "width": null
          }
        },
        "4b23a1aed96147288bff285439961c54": {
          "model_module": "@jupyter-widgets/base",
          "model_name": "LayoutModel",
          "model_module_version": "1.2.0",
          "state": {
            "_model_module": "@jupyter-widgets/base",
            "_model_module_version": "1.2.0",
            "_model_name": "LayoutModel",
            "_view_count": null,
            "_view_module": "@jupyter-widgets/base",
            "_view_module_version": "1.2.0",
            "_view_name": "LayoutView",
            "align_content": null,
            "align_items": null,
            "align_self": null,
            "border": null,
            "bottom": null,
            "display": null,
            "flex": null,
            "flex_flow": null,
            "grid_area": null,
            "grid_auto_columns": null,
            "grid_auto_flow": null,
            "grid_auto_rows": null,
            "grid_column": null,
            "grid_gap": null,
            "grid_row": null,
            "grid_template_areas": null,
            "grid_template_columns": null,
            "grid_template_rows": null,
            "height": null,
            "justify_content": null,
            "justify_items": null,
            "left": null,
            "margin": null,
            "max_height": null,
            "max_width": null,
            "min_height": null,
            "min_width": null,
            "object_fit": null,
            "object_position": null,
            "order": null,
            "overflow": null,
            "overflow_x": null,
            "overflow_y": null,
            "padding": null,
            "right": null,
            "top": null,
            "visibility": null,
            "width": null
          }
        },
        "1cdd1dee5fd64e188c6cd5cd9abf27d8": {
          "model_module": "@jupyter-widgets/controls",
          "model_name": "DescriptionStyleModel",
          "model_module_version": "1.5.0",
          "state": {
            "_model_module": "@jupyter-widgets/controls",
            "_model_module_version": "1.5.0",
            "_model_name": "DescriptionStyleModel",
            "_view_count": null,
            "_view_module": "@jupyter-widgets/base",
            "_view_module_version": "1.2.0",
            "_view_name": "StyleView",
            "description_width": ""
          }
        },
        "2e33f99b7a7c485e9c3fbb3a39b37ec6": {
          "model_module": "@jupyter-widgets/base",
          "model_name": "LayoutModel",
          "model_module_version": "1.2.0",
          "state": {
            "_model_module": "@jupyter-widgets/base",
            "_model_module_version": "1.2.0",
            "_model_name": "LayoutModel",
            "_view_count": null,
            "_view_module": "@jupyter-widgets/base",
            "_view_module_version": "1.2.0",
            "_view_name": "LayoutView",
            "align_content": null,
            "align_items": null,
            "align_self": null,
            "border": null,
            "bottom": null,
            "display": null,
            "flex": null,
            "flex_flow": null,
            "grid_area": null,
            "grid_auto_columns": null,
            "grid_auto_flow": null,
            "grid_auto_rows": null,
            "grid_column": null,
            "grid_gap": null,
            "grid_row": null,
            "grid_template_areas": null,
            "grid_template_columns": null,
            "grid_template_rows": null,
            "height": null,
            "justify_content": null,
            "justify_items": null,
            "left": null,
            "margin": null,
            "max_height": null,
            "max_width": null,
            "min_height": null,
            "min_width": null,
            "object_fit": null,
            "object_position": null,
            "order": null,
            "overflow": null,
            "overflow_x": null,
            "overflow_y": null,
            "padding": null,
            "right": null,
            "top": null,
            "visibility": null,
            "width": null
          }
        },
        "79bd2ceaa4fc418da95b0e75f1c87543": {
          "model_module": "@jupyter-widgets/controls",
          "model_name": "ProgressStyleModel",
          "model_module_version": "1.5.0",
          "state": {
            "_model_module": "@jupyter-widgets/controls",
            "_model_module_version": "1.5.0",
            "_model_name": "ProgressStyleModel",
            "_view_count": null,
            "_view_module": "@jupyter-widgets/base",
            "_view_module_version": "1.2.0",
            "_view_name": "StyleView",
            "bar_color": null,
            "description_width": ""
          }
        },
        "46672f3cd7424081a5657af17f33dd7f": {
          "model_module": "@jupyter-widgets/base",
          "model_name": "LayoutModel",
          "model_module_version": "1.2.0",
          "state": {
            "_model_module": "@jupyter-widgets/base",
            "_model_module_version": "1.2.0",
            "_model_name": "LayoutModel",
            "_view_count": null,
            "_view_module": "@jupyter-widgets/base",
            "_view_module_version": "1.2.0",
            "_view_name": "LayoutView",
            "align_content": null,
            "align_items": null,
            "align_self": null,
            "border": null,
            "bottom": null,
            "display": null,
            "flex": null,
            "flex_flow": null,
            "grid_area": null,
            "grid_auto_columns": null,
            "grid_auto_flow": null,
            "grid_auto_rows": null,
            "grid_column": null,
            "grid_gap": null,
            "grid_row": null,
            "grid_template_areas": null,
            "grid_template_columns": null,
            "grid_template_rows": null,
            "height": null,
            "justify_content": null,
            "justify_items": null,
            "left": null,
            "margin": null,
            "max_height": null,
            "max_width": null,
            "min_height": null,
            "min_width": null,
            "object_fit": null,
            "object_position": null,
            "order": null,
            "overflow": null,
            "overflow_x": null,
            "overflow_y": null,
            "padding": null,
            "right": null,
            "top": null,
            "visibility": null,
            "width": null
          }
        },
        "732c26135fe4435f85c6d47fb786fb03": {
          "model_module": "@jupyter-widgets/controls",
          "model_name": "DescriptionStyleModel",
          "model_module_version": "1.5.0",
          "state": {
            "_model_module": "@jupyter-widgets/controls",
            "_model_module_version": "1.5.0",
            "_model_name": "DescriptionStyleModel",
            "_view_count": null,
            "_view_module": "@jupyter-widgets/base",
            "_view_module_version": "1.2.0",
            "_view_name": "StyleView",
            "description_width": ""
          }
        },
        "94fdc5af875f4d858eedb75e92499cc3": {
          "model_module": "@jupyter-widgets/controls",
          "model_name": "HBoxModel",
          "model_module_version": "1.5.0",
          "state": {
            "_dom_classes": [],
            "_model_module": "@jupyter-widgets/controls",
            "_model_module_version": "1.5.0",
            "_model_name": "HBoxModel",
            "_view_count": null,
            "_view_module": "@jupyter-widgets/controls",
            "_view_module_version": "1.5.0",
            "_view_name": "HBoxView",
            "box_style": "",
            "children": [
              "IPY_MODEL_d832a4af63d84440b031edf6a83bdabe",
              "IPY_MODEL_9507a51bf06c4f92a312011f4cfd30b0",
              "IPY_MODEL_3ea632ac45c14fa788b9193f79f6a351"
            ],
            "layout": "IPY_MODEL_8f7ec21318774254bc87caaef4768d53"
          }
        },
        "d832a4af63d84440b031edf6a83bdabe": {
          "model_module": "@jupyter-widgets/controls",
          "model_name": "HTMLModel",
          "model_module_version": "1.5.0",
          "state": {
            "_dom_classes": [],
            "_model_module": "@jupyter-widgets/controls",
            "_model_module_version": "1.5.0",
            "_model_name": "HTMLModel",
            "_view_count": null,
            "_view_module": "@jupyter-widgets/controls",
            "_view_module_version": "1.5.0",
            "_view_name": "HTMLView",
            "description": "",
            "description_tooltip": null,
            "layout": "IPY_MODEL_317105063bfe4458abe6c8071df2cf89",
            "placeholder": "​",
            "style": "IPY_MODEL_2edf90682ff94e64b70305814ea7f34f",
            "value": "README.md: 100%"
          }
        },
        "9507a51bf06c4f92a312011f4cfd30b0": {
          "model_module": "@jupyter-widgets/controls",
          "model_name": "FloatProgressModel",
          "model_module_version": "1.5.0",
          "state": {
            "_dom_classes": [],
            "_model_module": "@jupyter-widgets/controls",
            "_model_module_version": "1.5.0",
            "_model_name": "FloatProgressModel",
            "_view_count": null,
            "_view_module": "@jupyter-widgets/controls",
            "_view_module_version": "1.5.0",
            "_view_name": "ProgressView",
            "bar_style": "success",
            "description": "",
            "description_tooltip": null,
            "layout": "IPY_MODEL_2c2511ad9abf41528b0f4b7843a76218",
            "max": 10075,
            "min": 0,
            "orientation": "horizontal",
            "style": "IPY_MODEL_d8c3883d9b63442f86e66d4dc0b5cc54",
            "value": 10075
          }
        },
        "3ea632ac45c14fa788b9193f79f6a351": {
          "model_module": "@jupyter-widgets/controls",
          "model_name": "HTMLModel",
          "model_module_version": "1.5.0",
          "state": {
            "_dom_classes": [],
            "_model_module": "@jupyter-widgets/controls",
            "_model_module_version": "1.5.0",
            "_model_name": "HTMLModel",
            "_view_count": null,
            "_view_module": "@jupyter-widgets/controls",
            "_view_module_version": "1.5.0",
            "_view_name": "HTMLView",
            "description": "",
            "description_tooltip": null,
            "layout": "IPY_MODEL_41baa9622ebd42f2b9508d6a35923a7d",
            "placeholder": "​",
            "style": "IPY_MODEL_31ae032017b645ba9c2fe9ad230654ce",
            "value": " 10.1k/10.1k [00:00&lt;00:00, 384kB/s]"
          }
        },
        "8f7ec21318774254bc87caaef4768d53": {
          "model_module": "@jupyter-widgets/base",
          "model_name": "LayoutModel",
          "model_module_version": "1.2.0",
          "state": {
            "_model_module": "@jupyter-widgets/base",
            "_model_module_version": "1.2.0",
            "_model_name": "LayoutModel",
            "_view_count": null,
            "_view_module": "@jupyter-widgets/base",
            "_view_module_version": "1.2.0",
            "_view_name": "LayoutView",
            "align_content": null,
            "align_items": null,
            "align_self": null,
            "border": null,
            "bottom": null,
            "display": null,
            "flex": null,
            "flex_flow": null,
            "grid_area": null,
            "grid_auto_columns": null,
            "grid_auto_flow": null,
            "grid_auto_rows": null,
            "grid_column": null,
            "grid_gap": null,
            "grid_row": null,
            "grid_template_areas": null,
            "grid_template_columns": null,
            "grid_template_rows": null,
            "height": null,
            "justify_content": null,
            "justify_items": null,
            "left": null,
            "margin": null,
            "max_height": null,
            "max_width": null,
            "min_height": null,
            "min_width": null,
            "object_fit": null,
            "object_position": null,
            "order": null,
            "overflow": null,
            "overflow_x": null,
            "overflow_y": null,
            "padding": null,
            "right": null,
            "top": null,
            "visibility": null,
            "width": null
          }
        },
        "317105063bfe4458abe6c8071df2cf89": {
          "model_module": "@jupyter-widgets/base",
          "model_name": "LayoutModel",
          "model_module_version": "1.2.0",
          "state": {
            "_model_module": "@jupyter-widgets/base",
            "_model_module_version": "1.2.0",
            "_model_name": "LayoutModel",
            "_view_count": null,
            "_view_module": "@jupyter-widgets/base",
            "_view_module_version": "1.2.0",
            "_view_name": "LayoutView",
            "align_content": null,
            "align_items": null,
            "align_self": null,
            "border": null,
            "bottom": null,
            "display": null,
            "flex": null,
            "flex_flow": null,
            "grid_area": null,
            "grid_auto_columns": null,
            "grid_auto_flow": null,
            "grid_auto_rows": null,
            "grid_column": null,
            "grid_gap": null,
            "grid_row": null,
            "grid_template_areas": null,
            "grid_template_columns": null,
            "grid_template_rows": null,
            "height": null,
            "justify_content": null,
            "justify_items": null,
            "left": null,
            "margin": null,
            "max_height": null,
            "max_width": null,
            "min_height": null,
            "min_width": null,
            "object_fit": null,
            "object_position": null,
            "order": null,
            "overflow": null,
            "overflow_x": null,
            "overflow_y": null,
            "padding": null,
            "right": null,
            "top": null,
            "visibility": null,
            "width": null
          }
        },
        "2edf90682ff94e64b70305814ea7f34f": {
          "model_module": "@jupyter-widgets/controls",
          "model_name": "DescriptionStyleModel",
          "model_module_version": "1.5.0",
          "state": {
            "_model_module": "@jupyter-widgets/controls",
            "_model_module_version": "1.5.0",
            "_model_name": "DescriptionStyleModel",
            "_view_count": null,
            "_view_module": "@jupyter-widgets/base",
            "_view_module_version": "1.2.0",
            "_view_name": "StyleView",
            "description_width": ""
          }
        },
        "2c2511ad9abf41528b0f4b7843a76218": {
          "model_module": "@jupyter-widgets/base",
          "model_name": "LayoutModel",
          "model_module_version": "1.2.0",
          "state": {
            "_model_module": "@jupyter-widgets/base",
            "_model_module_version": "1.2.0",
            "_model_name": "LayoutModel",
            "_view_count": null,
            "_view_module": "@jupyter-widgets/base",
            "_view_module_version": "1.2.0",
            "_view_name": "LayoutView",
            "align_content": null,
            "align_items": null,
            "align_self": null,
            "border": null,
            "bottom": null,
            "display": null,
            "flex": null,
            "flex_flow": null,
            "grid_area": null,
            "grid_auto_columns": null,
            "grid_auto_flow": null,
            "grid_auto_rows": null,
            "grid_column": null,
            "grid_gap": null,
            "grid_row": null,
            "grid_template_areas": null,
            "grid_template_columns": null,
            "grid_template_rows": null,
            "height": null,
            "justify_content": null,
            "justify_items": null,
            "left": null,
            "margin": null,
            "max_height": null,
            "max_width": null,
            "min_height": null,
            "min_width": null,
            "object_fit": null,
            "object_position": null,
            "order": null,
            "overflow": null,
            "overflow_x": null,
            "overflow_y": null,
            "padding": null,
            "right": null,
            "top": null,
            "visibility": null,
            "width": null
          }
        },
        "d8c3883d9b63442f86e66d4dc0b5cc54": {
          "model_module": "@jupyter-widgets/controls",
          "model_name": "ProgressStyleModel",
          "model_module_version": "1.5.0",
          "state": {
            "_model_module": "@jupyter-widgets/controls",
            "_model_module_version": "1.5.0",
            "_model_name": "ProgressStyleModel",
            "_view_count": null,
            "_view_module": "@jupyter-widgets/base",
            "_view_module_version": "1.2.0",
            "_view_name": "StyleView",
            "bar_color": null,
            "description_width": ""
          }
        },
        "41baa9622ebd42f2b9508d6a35923a7d": {
          "model_module": "@jupyter-widgets/base",
          "model_name": "LayoutModel",
          "model_module_version": "1.2.0",
          "state": {
            "_model_module": "@jupyter-widgets/base",
            "_model_module_version": "1.2.0",
            "_model_name": "LayoutModel",
            "_view_count": null,
            "_view_module": "@jupyter-widgets/base",
            "_view_module_version": "1.2.0",
            "_view_name": "LayoutView",
            "align_content": null,
            "align_items": null,
            "align_self": null,
            "border": null,
            "bottom": null,
            "display": null,
            "flex": null,
            "flex_flow": null,
            "grid_area": null,
            "grid_auto_columns": null,
            "grid_auto_flow": null,
            "grid_auto_rows": null,
            "grid_column": null,
            "grid_gap": null,
            "grid_row": null,
            "grid_template_areas": null,
            "grid_template_columns": null,
            "grid_template_rows": null,
            "height": null,
            "justify_content": null,
            "justify_items": null,
            "left": null,
            "margin": null,
            "max_height": null,
            "max_width": null,
            "min_height": null,
            "min_width": null,
            "object_fit": null,
            "object_position": null,
            "order": null,
            "overflow": null,
            "overflow_x": null,
            "overflow_y": null,
            "padding": null,
            "right": null,
            "top": null,
            "visibility": null,
            "width": null
          }
        },
        "31ae032017b645ba9c2fe9ad230654ce": {
          "model_module": "@jupyter-widgets/controls",
          "model_name": "DescriptionStyleModel",
          "model_module_version": "1.5.0",
          "state": {
            "_model_module": "@jupyter-widgets/controls",
            "_model_module_version": "1.5.0",
            "_model_name": "DescriptionStyleModel",
            "_view_count": null,
            "_view_module": "@jupyter-widgets/base",
            "_view_module_version": "1.2.0",
            "_view_name": "StyleView",
            "description_width": ""
          }
        },
        "3dc94a08708c45eba6c8256228014f27": {
          "model_module": "@jupyter-widgets/controls",
          "model_name": "HBoxModel",
          "model_module_version": "1.5.0",
          "state": {
            "_dom_classes": [],
            "_model_module": "@jupyter-widgets/controls",
            "_model_module_version": "1.5.0",
            "_model_name": "HBoxModel",
            "_view_count": null,
            "_view_module": "@jupyter-widgets/controls",
            "_view_module_version": "1.5.0",
            "_view_name": "HBoxView",
            "box_style": "",
            "children": [
              "IPY_MODEL_64d06e4c27e5488da923ffb1fc72b143",
              "IPY_MODEL_d946056d1e3848118bccc9eb28424c59",
              "IPY_MODEL_11b151179b5e4d1db1663931b9945b8e"
            ],
            "layout": "IPY_MODEL_c1b9d2cb0da343bfb2125de2fea4c199"
          }
        },
        "64d06e4c27e5488da923ffb1fc72b143": {
          "model_module": "@jupyter-widgets/controls",
          "model_name": "HTMLModel",
          "model_module_version": "1.5.0",
          "state": {
            "_dom_classes": [],
            "_model_module": "@jupyter-widgets/controls",
            "_model_module_version": "1.5.0",
            "_model_name": "HTMLModel",
            "_view_count": null,
            "_view_module": "@jupyter-widgets/controls",
            "_view_module_version": "1.5.0",
            "_view_name": "HTMLView",
            "description": "",
            "description_tooltip": null,
            "layout": "IPY_MODEL_ab651511244a4af0b6321b98d163e614",
            "placeholder": "​",
            "style": "IPY_MODEL_6d2b30674a184a009975dfd1ff3c8662",
            "value": "train-00000-of-00001.parquet: 100%"
          }
        },
        "d946056d1e3848118bccc9eb28424c59": {
          "model_module": "@jupyter-widgets/controls",
          "model_name": "FloatProgressModel",
          "model_module_version": "1.5.0",
          "state": {
            "_dom_classes": [],
            "_model_module": "@jupyter-widgets/controls",
            "_model_module_version": "1.5.0",
            "_model_name": "FloatProgressModel",
            "_view_count": null,
            "_view_module": "@jupyter-widgets/controls",
            "_view_module_version": "1.5.0",
            "_view_name": "ProgressView",
            "bar_style": "success",
            "description": "",
            "description_tooltip": null,
            "layout": "IPY_MODEL_c45abad6d2ea43668262de1ae0427f2b",
            "max": 79210071,
            "min": 0,
            "orientation": "horizontal",
            "style": "IPY_MODEL_44b6217835d344b88420dadf2dedebac",
            "value": 79210071
          }
        },
        "11b151179b5e4d1db1663931b9945b8e": {
          "model_module": "@jupyter-widgets/controls",
          "model_name": "HTMLModel",
          "model_module_version": "1.5.0",
          "state": {
            "_dom_classes": [],
            "_model_module": "@jupyter-widgets/controls",
            "_model_module_version": "1.5.0",
            "_model_name": "HTMLModel",
            "_view_count": null,
            "_view_module": "@jupyter-widgets/controls",
            "_view_module_version": "1.5.0",
            "_view_name": "HTMLView",
            "description": "",
            "description_tooltip": null,
            "layout": "IPY_MODEL_36d81704b5c548c195abed0e4377ec3d",
            "placeholder": "​",
            "style": "IPY_MODEL_5554b6490e494646ae4b9e9b5686f561",
            "value": " 79.2M/79.2M [00:00&lt;00:00, 106MB/s]"
          }
        },
        "c1b9d2cb0da343bfb2125de2fea4c199": {
          "model_module": "@jupyter-widgets/base",
          "model_name": "LayoutModel",
          "model_module_version": "1.2.0",
          "state": {
            "_model_module": "@jupyter-widgets/base",
            "_model_module_version": "1.2.0",
            "_model_name": "LayoutModel",
            "_view_count": null,
            "_view_module": "@jupyter-widgets/base",
            "_view_module_version": "1.2.0",
            "_view_name": "LayoutView",
            "align_content": null,
            "align_items": null,
            "align_self": null,
            "border": null,
            "bottom": null,
            "display": null,
            "flex": null,
            "flex_flow": null,
            "grid_area": null,
            "grid_auto_columns": null,
            "grid_auto_flow": null,
            "grid_auto_rows": null,
            "grid_column": null,
            "grid_gap": null,
            "grid_row": null,
            "grid_template_areas": null,
            "grid_template_columns": null,
            "grid_template_rows": null,
            "height": null,
            "justify_content": null,
            "justify_items": null,
            "left": null,
            "margin": null,
            "max_height": null,
            "max_width": null,
            "min_height": null,
            "min_width": null,
            "object_fit": null,
            "object_position": null,
            "order": null,
            "overflow": null,
            "overflow_x": null,
            "overflow_y": null,
            "padding": null,
            "right": null,
            "top": null,
            "visibility": null,
            "width": null
          }
        },
        "ab651511244a4af0b6321b98d163e614": {
          "model_module": "@jupyter-widgets/base",
          "model_name": "LayoutModel",
          "model_module_version": "1.2.0",
          "state": {
            "_model_module": "@jupyter-widgets/base",
            "_model_module_version": "1.2.0",
            "_model_name": "LayoutModel",
            "_view_count": null,
            "_view_module": "@jupyter-widgets/base",
            "_view_module_version": "1.2.0",
            "_view_name": "LayoutView",
            "align_content": null,
            "align_items": null,
            "align_self": null,
            "border": null,
            "bottom": null,
            "display": null,
            "flex": null,
            "flex_flow": null,
            "grid_area": null,
            "grid_auto_columns": null,
            "grid_auto_flow": null,
            "grid_auto_rows": null,
            "grid_column": null,
            "grid_gap": null,
            "grid_row": null,
            "grid_template_areas": null,
            "grid_template_columns": null,
            "grid_template_rows": null,
            "height": null,
            "justify_content": null,
            "justify_items": null,
            "left": null,
            "margin": null,
            "max_height": null,
            "max_width": null,
            "min_height": null,
            "min_width": null,
            "object_fit": null,
            "object_position": null,
            "order": null,
            "overflow": null,
            "overflow_x": null,
            "overflow_y": null,
            "padding": null,
            "right": null,
            "top": null,
            "visibility": null,
            "width": null
          }
        },
        "6d2b30674a184a009975dfd1ff3c8662": {
          "model_module": "@jupyter-widgets/controls",
          "model_name": "DescriptionStyleModel",
          "model_module_version": "1.5.0",
          "state": {
            "_model_module": "@jupyter-widgets/controls",
            "_model_module_version": "1.5.0",
            "_model_name": "DescriptionStyleModel",
            "_view_count": null,
            "_view_module": "@jupyter-widgets/base",
            "_view_module_version": "1.2.0",
            "_view_name": "StyleView",
            "description_width": ""
          }
        },
        "c45abad6d2ea43668262de1ae0427f2b": {
          "model_module": "@jupyter-widgets/base",
          "model_name": "LayoutModel",
          "model_module_version": "1.2.0",
          "state": {
            "_model_module": "@jupyter-widgets/base",
            "_model_module_version": "1.2.0",
            "_model_name": "LayoutModel",
            "_view_count": null,
            "_view_module": "@jupyter-widgets/base",
            "_view_module_version": "1.2.0",
            "_view_name": "LayoutView",
            "align_content": null,
            "align_items": null,
            "align_self": null,
            "border": null,
            "bottom": null,
            "display": null,
            "flex": null,
            "flex_flow": null,
            "grid_area": null,
            "grid_auto_columns": null,
            "grid_auto_flow": null,
            "grid_auto_rows": null,
            "grid_column": null,
            "grid_gap": null,
            "grid_row": null,
            "grid_template_areas": null,
            "grid_template_columns": null,
            "grid_template_rows": null,
            "height": null,
            "justify_content": null,
            "justify_items": null,
            "left": null,
            "margin": null,
            "max_height": null,
            "max_width": null,
            "min_height": null,
            "min_width": null,
            "object_fit": null,
            "object_position": null,
            "order": null,
            "overflow": null,
            "overflow_x": null,
            "overflow_y": null,
            "padding": null,
            "right": null,
            "top": null,
            "visibility": null,
            "width": null
          }
        },
        "44b6217835d344b88420dadf2dedebac": {
          "model_module": "@jupyter-widgets/controls",
          "model_name": "ProgressStyleModel",
          "model_module_version": "1.5.0",
          "state": {
            "_model_module": "@jupyter-widgets/controls",
            "_model_module_version": "1.5.0",
            "_model_name": "ProgressStyleModel",
            "_view_count": null,
            "_view_module": "@jupyter-widgets/base",
            "_view_module_version": "1.2.0",
            "_view_name": "StyleView",
            "bar_color": null,
            "description_width": ""
          }
        },
        "36d81704b5c548c195abed0e4377ec3d": {
          "model_module": "@jupyter-widgets/base",
          "model_name": "LayoutModel",
          "model_module_version": "1.2.0",
          "state": {
            "_model_module": "@jupyter-widgets/base",
            "_model_module_version": "1.2.0",
            "_model_name": "LayoutModel",
            "_view_count": null,
            "_view_module": "@jupyter-widgets/base",
            "_view_module_version": "1.2.0",
            "_view_name": "LayoutView",
            "align_content": null,
            "align_items": null,
            "align_self": null,
            "border": null,
            "bottom": null,
            "display": null,
            "flex": null,
            "flex_flow": null,
            "grid_area": null,
            "grid_auto_columns": null,
            "grid_auto_flow": null,
            "grid_auto_rows": null,
            "grid_column": null,
            "grid_gap": null,
            "grid_row": null,
            "grid_template_areas": null,
            "grid_template_columns": null,
            "grid_template_rows": null,
            "height": null,
            "justify_content": null,
            "justify_items": null,
            "left": null,
            "margin": null,
            "max_height": null,
            "max_width": null,
            "min_height": null,
            "min_width": null,
            "object_fit": null,
            "object_position": null,
            "order": null,
            "overflow": null,
            "overflow_x": null,
            "overflow_y": null,
            "padding": null,
            "right": null,
            "top": null,
            "visibility": null,
            "width": null
          }
        },
        "5554b6490e494646ae4b9e9b5686f561": {
          "model_module": "@jupyter-widgets/controls",
          "model_name": "DescriptionStyleModel",
          "model_module_version": "1.5.0",
          "state": {
            "_model_module": "@jupyter-widgets/controls",
            "_model_module_version": "1.5.0",
            "_model_name": "DescriptionStyleModel",
            "_view_count": null,
            "_view_module": "@jupyter-widgets/base",
            "_view_module_version": "1.2.0",
            "_view_name": "StyleView",
            "description_width": ""
          }
        },
        "5a31cc0771f044eb9258894c8e7f6d2e": {
          "model_module": "@jupyter-widgets/controls",
          "model_name": "HBoxModel",
          "model_module_version": "1.5.0",
          "state": {
            "_dom_classes": [],
            "_model_module": "@jupyter-widgets/controls",
            "_model_module_version": "1.5.0",
            "_model_name": "HBoxModel",
            "_view_count": null,
            "_view_module": "@jupyter-widgets/controls",
            "_view_module_version": "1.5.0",
            "_view_name": "HBoxView",
            "box_style": "",
            "children": [
              "IPY_MODEL_679534e010344e4bacca258039207d0a",
              "IPY_MODEL_a65caa92096b4e8fb8219e9182ce4e90",
              "IPY_MODEL_da6059a83fbb47b0970a9a3ed7080ce3"
            ],
            "layout": "IPY_MODEL_dfbc0e24db2d43f3b4ef92a03fe62731"
          }
        },
        "679534e010344e4bacca258039207d0a": {
          "model_module": "@jupyter-widgets/controls",
          "model_name": "HTMLModel",
          "model_module_version": "1.5.0",
          "state": {
            "_dom_classes": [],
            "_model_module": "@jupyter-widgets/controls",
            "_model_module_version": "1.5.0",
            "_model_name": "HTMLModel",
            "_view_count": null,
            "_view_module": "@jupyter-widgets/controls",
            "_view_module_version": "1.5.0",
            "_view_name": "HTMLView",
            "description": "",
            "description_tooltip": null,
            "layout": "IPY_MODEL_e528595121424512a8cf37bb287cda09",
            "placeholder": "​",
            "style": "IPY_MODEL_83f86116f83b4ecaae26e84dd64149f8",
            "value": "Generating train split: 100%"
          }
        },
        "a65caa92096b4e8fb8219e9182ce4e90": {
          "model_module": "@jupyter-widgets/controls",
          "model_name": "FloatProgressModel",
          "model_module_version": "1.5.0",
          "state": {
            "_dom_classes": [],
            "_model_module": "@jupyter-widgets/controls",
            "_model_module_version": "1.5.0",
            "_model_name": "FloatProgressModel",
            "_view_count": null,
            "_view_module": "@jupyter-widgets/controls",
            "_view_module_version": "1.5.0",
            "_view_name": "ProgressView",
            "bar_style": "success",
            "description": "",
            "description_tooltip": null,
            "layout": "IPY_MODEL_43ec75e568a04a5680c4ff2d70b7b633",
            "max": 12859,
            "min": 0,
            "orientation": "horizontal",
            "style": "IPY_MODEL_e27a3370657c42eb86c9b8ac9d1ec0b2",
            "value": 12859
          }
        },
        "da6059a83fbb47b0970a9a3ed7080ce3": {
          "model_module": "@jupyter-widgets/controls",
          "model_name": "HTMLModel",
          "model_module_version": "1.5.0",
          "state": {
            "_dom_classes": [],
            "_model_module": "@jupyter-widgets/controls",
            "_model_module_version": "1.5.0",
            "_model_name": "HTMLModel",
            "_view_count": null,
            "_view_module": "@jupyter-widgets/controls",
            "_view_module_version": "1.5.0",
            "_view_name": "HTMLView",
            "description": "",
            "description_tooltip": null,
            "layout": "IPY_MODEL_dc96553e1f6546a8ab1cd0d2215ca35b",
            "placeholder": "​",
            "style": "IPY_MODEL_e587cefcd94041778c9e5daef63cf910",
            "value": " 12859/12859 [00:01&lt;00:00, 6249.20 examples/s]"
          }
        },
        "dfbc0e24db2d43f3b4ef92a03fe62731": {
          "model_module": "@jupyter-widgets/base",
          "model_name": "LayoutModel",
          "model_module_version": "1.2.0",
          "state": {
            "_model_module": "@jupyter-widgets/base",
            "_model_module_version": "1.2.0",
            "_model_name": "LayoutModel",
            "_view_count": null,
            "_view_module": "@jupyter-widgets/base",
            "_view_module_version": "1.2.0",
            "_view_name": "LayoutView",
            "align_content": null,
            "align_items": null,
            "align_self": null,
            "border": null,
            "bottom": null,
            "display": null,
            "flex": null,
            "flex_flow": null,
            "grid_area": null,
            "grid_auto_columns": null,
            "grid_auto_flow": null,
            "grid_auto_rows": null,
            "grid_column": null,
            "grid_gap": null,
            "grid_row": null,
            "grid_template_areas": null,
            "grid_template_columns": null,
            "grid_template_rows": null,
            "height": null,
            "justify_content": null,
            "justify_items": null,
            "left": null,
            "margin": null,
            "max_height": null,
            "max_width": null,
            "min_height": null,
            "min_width": null,
            "object_fit": null,
            "object_position": null,
            "order": null,
            "overflow": null,
            "overflow_x": null,
            "overflow_y": null,
            "padding": null,
            "right": null,
            "top": null,
            "visibility": null,
            "width": null
          }
        },
        "e528595121424512a8cf37bb287cda09": {
          "model_module": "@jupyter-widgets/base",
          "model_name": "LayoutModel",
          "model_module_version": "1.2.0",
          "state": {
            "_model_module": "@jupyter-widgets/base",
            "_model_module_version": "1.2.0",
            "_model_name": "LayoutModel",
            "_view_count": null,
            "_view_module": "@jupyter-widgets/base",
            "_view_module_version": "1.2.0",
            "_view_name": "LayoutView",
            "align_content": null,
            "align_items": null,
            "align_self": null,
            "border": null,
            "bottom": null,
            "display": null,
            "flex": null,
            "flex_flow": null,
            "grid_area": null,
            "grid_auto_columns": null,
            "grid_auto_flow": null,
            "grid_auto_rows": null,
            "grid_column": null,
            "grid_gap": null,
            "grid_row": null,
            "grid_template_areas": null,
            "grid_template_columns": null,
            "grid_template_rows": null,
            "height": null,
            "justify_content": null,
            "justify_items": null,
            "left": null,
            "margin": null,
            "max_height": null,
            "max_width": null,
            "min_height": null,
            "min_width": null,
            "object_fit": null,
            "object_position": null,
            "order": null,
            "overflow": null,
            "overflow_x": null,
            "overflow_y": null,
            "padding": null,
            "right": null,
            "top": null,
            "visibility": null,
            "width": null
          }
        },
        "83f86116f83b4ecaae26e84dd64149f8": {
          "model_module": "@jupyter-widgets/controls",
          "model_name": "DescriptionStyleModel",
          "model_module_version": "1.5.0",
          "state": {
            "_model_module": "@jupyter-widgets/controls",
            "_model_module_version": "1.5.0",
            "_model_name": "DescriptionStyleModel",
            "_view_count": null,
            "_view_module": "@jupyter-widgets/base",
            "_view_module_version": "1.2.0",
            "_view_name": "StyleView",
            "description_width": ""
          }
        },
        "43ec75e568a04a5680c4ff2d70b7b633": {
          "model_module": "@jupyter-widgets/base",
          "model_name": "LayoutModel",
          "model_module_version": "1.2.0",
          "state": {
            "_model_module": "@jupyter-widgets/base",
            "_model_module_version": "1.2.0",
            "_model_name": "LayoutModel",
            "_view_count": null,
            "_view_module": "@jupyter-widgets/base",
            "_view_module_version": "1.2.0",
            "_view_name": "LayoutView",
            "align_content": null,
            "align_items": null,
            "align_self": null,
            "border": null,
            "bottom": null,
            "display": null,
            "flex": null,
            "flex_flow": null,
            "grid_area": null,
            "grid_auto_columns": null,
            "grid_auto_flow": null,
            "grid_auto_rows": null,
            "grid_column": null,
            "grid_gap": null,
            "grid_row": null,
            "grid_template_areas": null,
            "grid_template_columns": null,
            "grid_template_rows": null,
            "height": null,
            "justify_content": null,
            "justify_items": null,
            "left": null,
            "margin": null,
            "max_height": null,
            "max_width": null,
            "min_height": null,
            "min_width": null,
            "object_fit": null,
            "object_position": null,
            "order": null,
            "overflow": null,
            "overflow_x": null,
            "overflow_y": null,
            "padding": null,
            "right": null,
            "top": null,
            "visibility": null,
            "width": null
          }
        },
        "e27a3370657c42eb86c9b8ac9d1ec0b2": {
          "model_module": "@jupyter-widgets/controls",
          "model_name": "ProgressStyleModel",
          "model_module_version": "1.5.0",
          "state": {
            "_model_module": "@jupyter-widgets/controls",
            "_model_module_version": "1.5.0",
            "_model_name": "ProgressStyleModel",
            "_view_count": null,
            "_view_module": "@jupyter-widgets/base",
            "_view_module_version": "1.2.0",
            "_view_name": "StyleView",
            "bar_color": null,
            "description_width": ""
          }
        },
        "dc96553e1f6546a8ab1cd0d2215ca35b": {
          "model_module": "@jupyter-widgets/base",
          "model_name": "LayoutModel",
          "model_module_version": "1.2.0",
          "state": {
            "_model_module": "@jupyter-widgets/base",
            "_model_module_version": "1.2.0",
            "_model_name": "LayoutModel",
            "_view_count": null,
            "_view_module": "@jupyter-widgets/base",
            "_view_module_version": "1.2.0",
            "_view_name": "LayoutView",
            "align_content": null,
            "align_items": null,
            "align_self": null,
            "border": null,
            "bottom": null,
            "display": null,
            "flex": null,
            "flex_flow": null,
            "grid_area": null,
            "grid_auto_columns": null,
            "grid_auto_flow": null,
            "grid_auto_rows": null,
            "grid_column": null,
            "grid_gap": null,
            "grid_row": null,
            "grid_template_areas": null,
            "grid_template_columns": null,
            "grid_template_rows": null,
            "height": null,
            "justify_content": null,
            "justify_items": null,
            "left": null,
            "margin": null,
            "max_height": null,
            "max_width": null,
            "min_height": null,
            "min_width": null,
            "object_fit": null,
            "object_position": null,
            "order": null,
            "overflow": null,
            "overflow_x": null,
            "overflow_y": null,
            "padding": null,
            "right": null,
            "top": null,
            "visibility": null,
            "width": null
          }
        },
        "e587cefcd94041778c9e5daef63cf910": {
          "model_module": "@jupyter-widgets/controls",
          "model_name": "DescriptionStyleModel",
          "model_module_version": "1.5.0",
          "state": {
            "_model_module": "@jupyter-widgets/controls",
            "_model_module_version": "1.5.0",
            "_model_name": "DescriptionStyleModel",
            "_view_count": null,
            "_view_module": "@jupyter-widgets/base",
            "_view_module_version": "1.2.0",
            "_view_name": "StyleView",
            "description_width": ""
          }
        },
        "a314edde1f7b4fa29ccb69ae8b35992b": {
          "model_module": "@jupyter-widgets/controls",
          "model_name": "HBoxModel",
          "model_module_version": "1.5.0",
          "state": {
            "_dom_classes": [],
            "_model_module": "@jupyter-widgets/controls",
            "_model_module_version": "1.5.0",
            "_model_name": "HBoxModel",
            "_view_count": null,
            "_view_module": "@jupyter-widgets/controls",
            "_view_module_version": "1.5.0",
            "_view_name": "HBoxView",
            "box_style": "",
            "children": [
              "IPY_MODEL_cc5f948a0007423a956914d1c65ccc31",
              "IPY_MODEL_ebb48a1bfd464672b37c070a93eadb91",
              "IPY_MODEL_4d1b3f5578114742ab9e9a1f2f2118dd"
            ],
            "layout": "IPY_MODEL_ac4702dabf8749dbb55e7a340f7bd595"
          }
        },
        "cc5f948a0007423a956914d1c65ccc31": {
          "model_module": "@jupyter-widgets/controls",
          "model_name": "HTMLModel",
          "model_module_version": "1.5.0",
          "state": {
            "_dom_classes": [],
            "_model_module": "@jupyter-widgets/controls",
            "_model_module_version": "1.5.0",
            "_model_name": "HTMLModel",
            "_view_count": null,
            "_view_module": "@jupyter-widgets/controls",
            "_view_module_version": "1.5.0",
            "_view_name": "HTMLView",
            "description": "",
            "description_tooltip": null,
            "layout": "IPY_MODEL_1cff261d389147178db5db50e70a0dc5",
            "placeholder": "​",
            "style": "IPY_MODEL_0c3d21b80f6a40eb991ce83a31ccb3c0",
            "value": "Filter: 100%"
          }
        },
        "ebb48a1bfd464672b37c070a93eadb91": {
          "model_module": "@jupyter-widgets/controls",
          "model_name": "FloatProgressModel",
          "model_module_version": "1.5.0",
          "state": {
            "_dom_classes": [],
            "_model_module": "@jupyter-widgets/controls",
            "_model_module_version": "1.5.0",
            "_model_name": "FloatProgressModel",
            "_view_count": null,
            "_view_module": "@jupyter-widgets/controls",
            "_view_module_version": "1.5.0",
            "_view_name": "ProgressView",
            "bar_style": "success",
            "description": "",
            "description_tooltip": null,
            "layout": "IPY_MODEL_430c3cb38085417eb0a4877e1c6dbc7f",
            "max": 12859,
            "min": 0,
            "orientation": "horizontal",
            "style": "IPY_MODEL_d3ce62ede6e44f8c84126c75ff90a47e",
            "value": 12859
          }
        },
        "4d1b3f5578114742ab9e9a1f2f2118dd": {
          "model_module": "@jupyter-widgets/controls",
          "model_name": "HTMLModel",
          "model_module_version": "1.5.0",
          "state": {
            "_dom_classes": [],
            "_model_module": "@jupyter-widgets/controls",
            "_model_module_version": "1.5.0",
            "_model_name": "HTMLModel",
            "_view_count": null,
            "_view_module": "@jupyter-widgets/controls",
            "_view_module_version": "1.5.0",
            "_view_name": "HTMLView",
            "description": "",
            "description_tooltip": null,
            "layout": "IPY_MODEL_a6d9d8446e4a4714abf176b7e1ed9fc5",
            "placeholder": "​",
            "style": "IPY_MODEL_d8a1430d2b304ef0ba02cad9eb046416",
            "value": " 12859/12859 [00:01&lt;00:00, 8508.05 examples/s]"
          }
        },
        "ac4702dabf8749dbb55e7a340f7bd595": {
          "model_module": "@jupyter-widgets/base",
          "model_name": "LayoutModel",
          "model_module_version": "1.2.0",
          "state": {
            "_model_module": "@jupyter-widgets/base",
            "_model_module_version": "1.2.0",
            "_model_name": "LayoutModel",
            "_view_count": null,
            "_view_module": "@jupyter-widgets/base",
            "_view_module_version": "1.2.0",
            "_view_name": "LayoutView",
            "align_content": null,
            "align_items": null,
            "align_self": null,
            "border": null,
            "bottom": null,
            "display": null,
            "flex": null,
            "flex_flow": null,
            "grid_area": null,
            "grid_auto_columns": null,
            "grid_auto_flow": null,
            "grid_auto_rows": null,
            "grid_column": null,
            "grid_gap": null,
            "grid_row": null,
            "grid_template_areas": null,
            "grid_template_columns": null,
            "grid_template_rows": null,
            "height": null,
            "justify_content": null,
            "justify_items": null,
            "left": null,
            "margin": null,
            "max_height": null,
            "max_width": null,
            "min_height": null,
            "min_width": null,
            "object_fit": null,
            "object_position": null,
            "order": null,
            "overflow": null,
            "overflow_x": null,
            "overflow_y": null,
            "padding": null,
            "right": null,
            "top": null,
            "visibility": null,
            "width": null
          }
        },
        "1cff261d389147178db5db50e70a0dc5": {
          "model_module": "@jupyter-widgets/base",
          "model_name": "LayoutModel",
          "model_module_version": "1.2.0",
          "state": {
            "_model_module": "@jupyter-widgets/base",
            "_model_module_version": "1.2.0",
            "_model_name": "LayoutModel",
            "_view_count": null,
            "_view_module": "@jupyter-widgets/base",
            "_view_module_version": "1.2.0",
            "_view_name": "LayoutView",
            "align_content": null,
            "align_items": null,
            "align_self": null,
            "border": null,
            "bottom": null,
            "display": null,
            "flex": null,
            "flex_flow": null,
            "grid_area": null,
            "grid_auto_columns": null,
            "grid_auto_flow": null,
            "grid_auto_rows": null,
            "grid_column": null,
            "grid_gap": null,
            "grid_row": null,
            "grid_template_areas": null,
            "grid_template_columns": null,
            "grid_template_rows": null,
            "height": null,
            "justify_content": null,
            "justify_items": null,
            "left": null,
            "margin": null,
            "max_height": null,
            "max_width": null,
            "min_height": null,
            "min_width": null,
            "object_fit": null,
            "object_position": null,
            "order": null,
            "overflow": null,
            "overflow_x": null,
            "overflow_y": null,
            "padding": null,
            "right": null,
            "top": null,
            "visibility": null,
            "width": null
          }
        },
        "0c3d21b80f6a40eb991ce83a31ccb3c0": {
          "model_module": "@jupyter-widgets/controls",
          "model_name": "DescriptionStyleModel",
          "model_module_version": "1.5.0",
          "state": {
            "_model_module": "@jupyter-widgets/controls",
            "_model_module_version": "1.5.0",
            "_model_name": "DescriptionStyleModel",
            "_view_count": null,
            "_view_module": "@jupyter-widgets/base",
            "_view_module_version": "1.2.0",
            "_view_name": "StyleView",
            "description_width": ""
          }
        },
        "430c3cb38085417eb0a4877e1c6dbc7f": {
          "model_module": "@jupyter-widgets/base",
          "model_name": "LayoutModel",
          "model_module_version": "1.2.0",
          "state": {
            "_model_module": "@jupyter-widgets/base",
            "_model_module_version": "1.2.0",
            "_model_name": "LayoutModel",
            "_view_count": null,
            "_view_module": "@jupyter-widgets/base",
            "_view_module_version": "1.2.0",
            "_view_name": "LayoutView",
            "align_content": null,
            "align_items": null,
            "align_self": null,
            "border": null,
            "bottom": null,
            "display": null,
            "flex": null,
            "flex_flow": null,
            "grid_area": null,
            "grid_auto_columns": null,
            "grid_auto_flow": null,
            "grid_auto_rows": null,
            "grid_column": null,
            "grid_gap": null,
            "grid_row": null,
            "grid_template_areas": null,
            "grid_template_columns": null,
            "grid_template_rows": null,
            "height": null,
            "justify_content": null,
            "justify_items": null,
            "left": null,
            "margin": null,
            "max_height": null,
            "max_width": null,
            "min_height": null,
            "min_width": null,
            "object_fit": null,
            "object_position": null,
            "order": null,
            "overflow": null,
            "overflow_x": null,
            "overflow_y": null,
            "padding": null,
            "right": null,
            "top": null,
            "visibility": null,
            "width": null
          }
        },
        "d3ce62ede6e44f8c84126c75ff90a47e": {
          "model_module": "@jupyter-widgets/controls",
          "model_name": "ProgressStyleModel",
          "model_module_version": "1.5.0",
          "state": {
            "_model_module": "@jupyter-widgets/controls",
            "_model_module_version": "1.5.0",
            "_model_name": "ProgressStyleModel",
            "_view_count": null,
            "_view_module": "@jupyter-widgets/base",
            "_view_module_version": "1.2.0",
            "_view_name": "StyleView",
            "bar_color": null,
            "description_width": ""
          }
        },
        "a6d9d8446e4a4714abf176b7e1ed9fc5": {
          "model_module": "@jupyter-widgets/base",
          "model_name": "LayoutModel",
          "model_module_version": "1.2.0",
          "state": {
            "_model_module": "@jupyter-widgets/base",
            "_model_module_version": "1.2.0",
            "_model_name": "LayoutModel",
            "_view_count": null,
            "_view_module": "@jupyter-widgets/base",
            "_view_module_version": "1.2.0",
            "_view_name": "LayoutView",
            "align_content": null,
            "align_items": null,
            "align_self": null,
            "border": null,
            "bottom": null,
            "display": null,
            "flex": null,
            "flex_flow": null,
            "grid_area": null,
            "grid_auto_columns": null,
            "grid_auto_flow": null,
            "grid_auto_rows": null,
            "grid_column": null,
            "grid_gap": null,
            "grid_row": null,
            "grid_template_areas": null,
            "grid_template_columns": null,
            "grid_template_rows": null,
            "height": null,
            "justify_content": null,
            "justify_items": null,
            "left": null,
            "margin": null,
            "max_height": null,
            "max_width": null,
            "min_height": null,
            "min_width": null,
            "object_fit": null,
            "object_position": null,
            "order": null,
            "overflow": null,
            "overflow_x": null,
            "overflow_y": null,
            "padding": null,
            "right": null,
            "top": null,
            "visibility": null,
            "width": null
          }
        },
        "d8a1430d2b304ef0ba02cad9eb046416": {
          "model_module": "@jupyter-widgets/controls",
          "model_name": "DescriptionStyleModel",
          "model_module_version": "1.5.0",
          "state": {
            "_model_module": "@jupyter-widgets/controls",
            "_model_module_version": "1.5.0",
            "_model_name": "DescriptionStyleModel",
            "_view_count": null,
            "_view_module": "@jupyter-widgets/base",
            "_view_module_version": "1.2.0",
            "_view_name": "StyleView",
            "description_width": ""
          }
        },
        "c927a6a4d94e425194693287719921fb": {
          "model_module": "@jupyter-widgets/controls",
          "model_name": "HBoxModel",
          "model_module_version": "1.5.0",
          "state": {
            "_dom_classes": [],
            "_model_module": "@jupyter-widgets/controls",
            "_model_module_version": "1.5.0",
            "_model_name": "HBoxModel",
            "_view_count": null,
            "_view_module": "@jupyter-widgets/controls",
            "_view_module_version": "1.5.0",
            "_view_name": "HBoxView",
            "box_style": "",
            "children": [
              "IPY_MODEL_9a7643bcba424b27b8c5a6f05a20e1f6",
              "IPY_MODEL_557505831b1146a9892903cf0c4dd80a",
              "IPY_MODEL_15e58d1d758849578e69b6278c22881e"
            ],
            "layout": "IPY_MODEL_14e51a24555f462dba3e4f340f86eeb2"
          }
        },
        "9a7643bcba424b27b8c5a6f05a20e1f6": {
          "model_module": "@jupyter-widgets/controls",
          "model_name": "HTMLModel",
          "model_module_version": "1.5.0",
          "state": {
            "_dom_classes": [],
            "_model_module": "@jupyter-widgets/controls",
            "_model_module_version": "1.5.0",
            "_model_name": "HTMLModel",
            "_view_count": null,
            "_view_module": "@jupyter-widgets/controls",
            "_view_module_version": "1.5.0",
            "_view_name": "HTMLView",
            "description": "",
            "description_tooltip": null,
            "layout": "IPY_MODEL_86f4618a0cff42d78f3e89ee72818c59",
            "placeholder": "​",
            "style": "IPY_MODEL_5ba9bf88a5f546b08592d643eab25aa9",
            "value": "Map: 100%"
          }
        },
        "557505831b1146a9892903cf0c4dd80a": {
          "model_module": "@jupyter-widgets/controls",
          "model_name": "FloatProgressModel",
          "model_module_version": "1.5.0",
          "state": {
            "_dom_classes": [],
            "_model_module": "@jupyter-widgets/controls",
            "_model_module_version": "1.5.0",
            "_model_name": "FloatProgressModel",
            "_view_count": null,
            "_view_module": "@jupyter-widgets/controls",
            "_view_module_version": "1.5.0",
            "_view_name": "ProgressView",
            "bar_style": "success",
            "description": "",
            "description_tooltip": null,
            "layout": "IPY_MODEL_f1394fc4cdae4533a30a140f50ff5706",
            "max": 5922,
            "min": 0,
            "orientation": "horizontal",
            "style": "IPY_MODEL_705b509e4e1846beb8f9f899b3db1bb2",
            "value": 5922
          }
        },
        "15e58d1d758849578e69b6278c22881e": {
          "model_module": "@jupyter-widgets/controls",
          "model_name": "HTMLModel",
          "model_module_version": "1.5.0",
          "state": {
            "_dom_classes": [],
            "_model_module": "@jupyter-widgets/controls",
            "_model_module_version": "1.5.0",
            "_model_name": "HTMLModel",
            "_view_count": null,
            "_view_module": "@jupyter-widgets/controls",
            "_view_module_version": "1.5.0",
            "_view_name": "HTMLView",
            "description": "",
            "description_tooltip": null,
            "layout": "IPY_MODEL_7a22a9a9a5bd4b04b8fb483e6a71e467",
            "placeholder": "​",
            "style": "IPY_MODEL_9b3f0591ce154770bc8340ed6607b9e8",
            "value": " 5922/5922 [00:02&lt;00:00, 1814.85 examples/s]"
          }
        },
        "14e51a24555f462dba3e4f340f86eeb2": {
          "model_module": "@jupyter-widgets/base",
          "model_name": "LayoutModel",
          "model_module_version": "1.2.0",
          "state": {
            "_model_module": "@jupyter-widgets/base",
            "_model_module_version": "1.2.0",
            "_model_name": "LayoutModel",
            "_view_count": null,
            "_view_module": "@jupyter-widgets/base",
            "_view_module_version": "1.2.0",
            "_view_name": "LayoutView",
            "align_content": null,
            "align_items": null,
            "align_self": null,
            "border": null,
            "bottom": null,
            "display": null,
            "flex": null,
            "flex_flow": null,
            "grid_area": null,
            "grid_auto_columns": null,
            "grid_auto_flow": null,
            "grid_auto_rows": null,
            "grid_column": null,
            "grid_gap": null,
            "grid_row": null,
            "grid_template_areas": null,
            "grid_template_columns": null,
            "grid_template_rows": null,
            "height": null,
            "justify_content": null,
            "justify_items": null,
            "left": null,
            "margin": null,
            "max_height": null,
            "max_width": null,
            "min_height": null,
            "min_width": null,
            "object_fit": null,
            "object_position": null,
            "order": null,
            "overflow": null,
            "overflow_x": null,
            "overflow_y": null,
            "padding": null,
            "right": null,
            "top": null,
            "visibility": null,
            "width": null
          }
        },
        "86f4618a0cff42d78f3e89ee72818c59": {
          "model_module": "@jupyter-widgets/base",
          "model_name": "LayoutModel",
          "model_module_version": "1.2.0",
          "state": {
            "_model_module": "@jupyter-widgets/base",
            "_model_module_version": "1.2.0",
            "_model_name": "LayoutModel",
            "_view_count": null,
            "_view_module": "@jupyter-widgets/base",
            "_view_module_version": "1.2.0",
            "_view_name": "LayoutView",
            "align_content": null,
            "align_items": null,
            "align_self": null,
            "border": null,
            "bottom": null,
            "display": null,
            "flex": null,
            "flex_flow": null,
            "grid_area": null,
            "grid_auto_columns": null,
            "grid_auto_flow": null,
            "grid_auto_rows": null,
            "grid_column": null,
            "grid_gap": null,
            "grid_row": null,
            "grid_template_areas": null,
            "grid_template_columns": null,
            "grid_template_rows": null,
            "height": null,
            "justify_content": null,
            "justify_items": null,
            "left": null,
            "margin": null,
            "max_height": null,
            "max_width": null,
            "min_height": null,
            "min_width": null,
            "object_fit": null,
            "object_position": null,
            "order": null,
            "overflow": null,
            "overflow_x": null,
            "overflow_y": null,
            "padding": null,
            "right": null,
            "top": null,
            "visibility": null,
            "width": null
          }
        },
        "5ba9bf88a5f546b08592d643eab25aa9": {
          "model_module": "@jupyter-widgets/controls",
          "model_name": "DescriptionStyleModel",
          "model_module_version": "1.5.0",
          "state": {
            "_model_module": "@jupyter-widgets/controls",
            "_model_module_version": "1.5.0",
            "_model_name": "DescriptionStyleModel",
            "_view_count": null,
            "_view_module": "@jupyter-widgets/base",
            "_view_module_version": "1.2.0",
            "_view_name": "StyleView",
            "description_width": ""
          }
        },
        "f1394fc4cdae4533a30a140f50ff5706": {
          "model_module": "@jupyter-widgets/base",
          "model_name": "LayoutModel",
          "model_module_version": "1.2.0",
          "state": {
            "_model_module": "@jupyter-widgets/base",
            "_model_module_version": "1.2.0",
            "_model_name": "LayoutModel",
            "_view_count": null,
            "_view_module": "@jupyter-widgets/base",
            "_view_module_version": "1.2.0",
            "_view_name": "LayoutView",
            "align_content": null,
            "align_items": null,
            "align_self": null,
            "border": null,
            "bottom": null,
            "display": null,
            "flex": null,
            "flex_flow": null,
            "grid_area": null,
            "grid_auto_columns": null,
            "grid_auto_flow": null,
            "grid_auto_rows": null,
            "grid_column": null,
            "grid_gap": null,
            "grid_row": null,
            "grid_template_areas": null,
            "grid_template_columns": null,
            "grid_template_rows": null,
            "height": null,
            "justify_content": null,
            "justify_items": null,
            "left": null,
            "margin": null,
            "max_height": null,
            "max_width": null,
            "min_height": null,
            "min_width": null,
            "object_fit": null,
            "object_position": null,
            "order": null,
            "overflow": null,
            "overflow_x": null,
            "overflow_y": null,
            "padding": null,
            "right": null,
            "top": null,
            "visibility": null,
            "width": null
          }
        },
        "705b509e4e1846beb8f9f899b3db1bb2": {
          "model_module": "@jupyter-widgets/controls",
          "model_name": "ProgressStyleModel",
          "model_module_version": "1.5.0",
          "state": {
            "_model_module": "@jupyter-widgets/controls",
            "_model_module_version": "1.5.0",
            "_model_name": "ProgressStyleModel",
            "_view_count": null,
            "_view_module": "@jupyter-widgets/base",
            "_view_module_version": "1.2.0",
            "_view_name": "StyleView",
            "bar_color": null,
            "description_width": ""
          }
        },
        "7a22a9a9a5bd4b04b8fb483e6a71e467": {
          "model_module": "@jupyter-widgets/base",
          "model_name": "LayoutModel",
          "model_module_version": "1.2.0",
          "state": {
            "_model_module": "@jupyter-widgets/base",
            "_model_module_version": "1.2.0",
            "_model_name": "LayoutModel",
            "_view_count": null,
            "_view_module": "@jupyter-widgets/base",
            "_view_module_version": "1.2.0",
            "_view_name": "LayoutView",
            "align_content": null,
            "align_items": null,
            "align_self": null,
            "border": null,
            "bottom": null,
            "display": null,
            "flex": null,
            "flex_flow": null,
            "grid_area": null,
            "grid_auto_columns": null,
            "grid_auto_flow": null,
            "grid_auto_rows": null,
            "grid_column": null,
            "grid_gap": null,
            "grid_row": null,
            "grid_template_areas": null,
            "grid_template_columns": null,
            "grid_template_rows": null,
            "height": null,
            "justify_content": null,
            "justify_items": null,
            "left": null,
            "margin": null,
            "max_height": null,
            "max_width": null,
            "min_height": null,
            "min_width": null,
            "object_fit": null,
            "object_position": null,
            "order": null,
            "overflow": null,
            "overflow_x": null,
            "overflow_y": null,
            "padding": null,
            "right": null,
            "top": null,
            "visibility": null,
            "width": null
          }
        },
        "9b3f0591ce154770bc8340ed6607b9e8": {
          "model_module": "@jupyter-widgets/controls",
          "model_name": "DescriptionStyleModel",
          "model_module_version": "1.5.0",
          "state": {
            "_model_module": "@jupyter-widgets/controls",
            "_model_module_version": "1.5.0",
            "_model_name": "DescriptionStyleModel",
            "_view_count": null,
            "_view_module": "@jupyter-widgets/base",
            "_view_module_version": "1.2.0",
            "_view_name": "StyleView",
            "description_width": ""
          }
        },
        "c03810e5d454480386907311ec043382": {
          "model_module": "@jupyter-widgets/controls",
          "model_name": "HBoxModel",
          "model_module_version": "1.5.0",
          "state": {
            "_dom_classes": [],
            "_model_module": "@jupyter-widgets/controls",
            "_model_module_version": "1.5.0",
            "_model_name": "HBoxModel",
            "_view_count": null,
            "_view_module": "@jupyter-widgets/controls",
            "_view_module_version": "1.5.0",
            "_view_name": "HBoxView",
            "box_style": "",
            "children": [
              "IPY_MODEL_e1388d516d684416bcf32760e9d5d11e",
              "IPY_MODEL_5047a87ec4524f0b86073d2fa8601f17",
              "IPY_MODEL_3e92d126b49741c48ab6a3d5acf78fdb"
            ],
            "layout": "IPY_MODEL_064a49aef2ce42f9adaaa5e5f51c4d6d"
          }
        },
        "e1388d516d684416bcf32760e9d5d11e": {
          "model_module": "@jupyter-widgets/controls",
          "model_name": "HTMLModel",
          "model_module_version": "1.5.0",
          "state": {
            "_dom_classes": [],
            "_model_module": "@jupyter-widgets/controls",
            "_model_module_version": "1.5.0",
            "_model_name": "HTMLModel",
            "_view_count": null,
            "_view_module": "@jupyter-widgets/controls",
            "_view_module_version": "1.5.0",
            "_view_name": "HTMLView",
            "description": "",
            "description_tooltip": null,
            "layout": "IPY_MODEL_45742ce514e849c7b713d212768f8f89",
            "placeholder": "​",
            "style": "IPY_MODEL_e35bad87b4a449fa8abea73f5d055462",
            "value": "Map: 100%"
          }
        },
        "5047a87ec4524f0b86073d2fa8601f17": {
          "model_module": "@jupyter-widgets/controls",
          "model_name": "FloatProgressModel",
          "model_module_version": "1.5.0",
          "state": {
            "_dom_classes": [],
            "_model_module": "@jupyter-widgets/controls",
            "_model_module_version": "1.5.0",
            "_model_name": "FloatProgressModel",
            "_view_count": null,
            "_view_module": "@jupyter-widgets/controls",
            "_view_module_version": "1.5.0",
            "_view_name": "ProgressView",
            "bar_style": "success",
            "description": "",
            "description_tooltip": null,
            "layout": "IPY_MODEL_52f80de768c04137a72339b818d656bb",
            "max": 5922,
            "min": 0,
            "orientation": "horizontal",
            "style": "IPY_MODEL_aec78b4d3bfc48c5af02253b69994e1a",
            "value": 5922
          }
        },
        "3e92d126b49741c48ab6a3d5acf78fdb": {
          "model_module": "@jupyter-widgets/controls",
          "model_name": "HTMLModel",
          "model_module_version": "1.5.0",
          "state": {
            "_dom_classes": [],
            "_model_module": "@jupyter-widgets/controls",
            "_model_module_version": "1.5.0",
            "_model_name": "HTMLModel",
            "_view_count": null,
            "_view_module": "@jupyter-widgets/controls",
            "_view_module_version": "1.5.0",
            "_view_name": "HTMLView",
            "description": "",
            "description_tooltip": null,
            "layout": "IPY_MODEL_29ae870b07304fb4a89a2c29f241e9c3",
            "placeholder": "​",
            "style": "IPY_MODEL_2822012774c246a88ef82961d6c137e9",
            "value": " 5922/5922 [00:36&lt;00:00, 228.32 examples/s]"
          }
        },
        "064a49aef2ce42f9adaaa5e5f51c4d6d": {
          "model_module": "@jupyter-widgets/base",
          "model_name": "LayoutModel",
          "model_module_version": "1.2.0",
          "state": {
            "_model_module": "@jupyter-widgets/base",
            "_model_module_version": "1.2.0",
            "_model_name": "LayoutModel",
            "_view_count": null,
            "_view_module": "@jupyter-widgets/base",
            "_view_module_version": "1.2.0",
            "_view_name": "LayoutView",
            "align_content": null,
            "align_items": null,
            "align_self": null,
            "border": null,
            "bottom": null,
            "display": null,
            "flex": null,
            "flex_flow": null,
            "grid_area": null,
            "grid_auto_columns": null,
            "grid_auto_flow": null,
            "grid_auto_rows": null,
            "grid_column": null,
            "grid_gap": null,
            "grid_row": null,
            "grid_template_areas": null,
            "grid_template_columns": null,
            "grid_template_rows": null,
            "height": null,
            "justify_content": null,
            "justify_items": null,
            "left": null,
            "margin": null,
            "max_height": null,
            "max_width": null,
            "min_height": null,
            "min_width": null,
            "object_fit": null,
            "object_position": null,
            "order": null,
            "overflow": null,
            "overflow_x": null,
            "overflow_y": null,
            "padding": null,
            "right": null,
            "top": null,
            "visibility": null,
            "width": null
          }
        },
        "45742ce514e849c7b713d212768f8f89": {
          "model_module": "@jupyter-widgets/base",
          "model_name": "LayoutModel",
          "model_module_version": "1.2.0",
          "state": {
            "_model_module": "@jupyter-widgets/base",
            "_model_module_version": "1.2.0",
            "_model_name": "LayoutModel",
            "_view_count": null,
            "_view_module": "@jupyter-widgets/base",
            "_view_module_version": "1.2.0",
            "_view_name": "LayoutView",
            "align_content": null,
            "align_items": null,
            "align_self": null,
            "border": null,
            "bottom": null,
            "display": null,
            "flex": null,
            "flex_flow": null,
            "grid_area": null,
            "grid_auto_columns": null,
            "grid_auto_flow": null,
            "grid_auto_rows": null,
            "grid_column": null,
            "grid_gap": null,
            "grid_row": null,
            "grid_template_areas": null,
            "grid_template_columns": null,
            "grid_template_rows": null,
            "height": null,
            "justify_content": null,
            "justify_items": null,
            "left": null,
            "margin": null,
            "max_height": null,
            "max_width": null,
            "min_height": null,
            "min_width": null,
            "object_fit": null,
            "object_position": null,
            "order": null,
            "overflow": null,
            "overflow_x": null,
            "overflow_y": null,
            "padding": null,
            "right": null,
            "top": null,
            "visibility": null,
            "width": null
          }
        },
        "e35bad87b4a449fa8abea73f5d055462": {
          "model_module": "@jupyter-widgets/controls",
          "model_name": "DescriptionStyleModel",
          "model_module_version": "1.5.0",
          "state": {
            "_model_module": "@jupyter-widgets/controls",
            "_model_module_version": "1.5.0",
            "_model_name": "DescriptionStyleModel",
            "_view_count": null,
            "_view_module": "@jupyter-widgets/base",
            "_view_module_version": "1.2.0",
            "_view_name": "StyleView",
            "description_width": ""
          }
        },
        "52f80de768c04137a72339b818d656bb": {
          "model_module": "@jupyter-widgets/base",
          "model_name": "LayoutModel",
          "model_module_version": "1.2.0",
          "state": {
            "_model_module": "@jupyter-widgets/base",
            "_model_module_version": "1.2.0",
            "_model_name": "LayoutModel",
            "_view_count": null,
            "_view_module": "@jupyter-widgets/base",
            "_view_module_version": "1.2.0",
            "_view_name": "LayoutView",
            "align_content": null,
            "align_items": null,
            "align_self": null,
            "border": null,
            "bottom": null,
            "display": null,
            "flex": null,
            "flex_flow": null,
            "grid_area": null,
            "grid_auto_columns": null,
            "grid_auto_flow": null,
            "grid_auto_rows": null,
            "grid_column": null,
            "grid_gap": null,
            "grid_row": null,
            "grid_template_areas": null,
            "grid_template_columns": null,
            "grid_template_rows": null,
            "height": null,
            "justify_content": null,
            "justify_items": null,
            "left": null,
            "margin": null,
            "max_height": null,
            "max_width": null,
            "min_height": null,
            "min_width": null,
            "object_fit": null,
            "object_position": null,
            "order": null,
            "overflow": null,
            "overflow_x": null,
            "overflow_y": null,
            "padding": null,
            "right": null,
            "top": null,
            "visibility": null,
            "width": null
          }
        },
        "aec78b4d3bfc48c5af02253b69994e1a": {
          "model_module": "@jupyter-widgets/controls",
          "model_name": "ProgressStyleModel",
          "model_module_version": "1.5.0",
          "state": {
            "_model_module": "@jupyter-widgets/controls",
            "_model_module_version": "1.5.0",
            "_model_name": "ProgressStyleModel",
            "_view_count": null,
            "_view_module": "@jupyter-widgets/base",
            "_view_module_version": "1.2.0",
            "_view_name": "StyleView",
            "bar_color": null,
            "description_width": ""
          }
        },
        "29ae870b07304fb4a89a2c29f241e9c3": {
          "model_module": "@jupyter-widgets/base",
          "model_name": "LayoutModel",
          "model_module_version": "1.2.0",
          "state": {
            "_model_module": "@jupyter-widgets/base",
            "_model_module_version": "1.2.0",
            "_model_name": "LayoutModel",
            "_view_count": null,
            "_view_module": "@jupyter-widgets/base",
            "_view_module_version": "1.2.0",
            "_view_name": "LayoutView",
            "align_content": null,
            "align_items": null,
            "align_self": null,
            "border": null,
            "bottom": null,
            "display": null,
            "flex": null,
            "flex_flow": null,
            "grid_area": null,
            "grid_auto_columns": null,
            "grid_auto_flow": null,
            "grid_auto_rows": null,
            "grid_column": null,
            "grid_gap": null,
            "grid_row": null,
            "grid_template_areas": null,
            "grid_template_columns": null,
            "grid_template_rows": null,
            "height": null,
            "justify_content": null,
            "justify_items": null,
            "left": null,
            "margin": null,
            "max_height": null,
            "max_width": null,
            "min_height": null,
            "min_width": null,
            "object_fit": null,
            "object_position": null,
            "order": null,
            "overflow": null,
            "overflow_x": null,
            "overflow_y": null,
            "padding": null,
            "right": null,
            "top": null,
            "visibility": null,
            "width": null
          }
        },
        "2822012774c246a88ef82961d6c137e9": {
          "model_module": "@jupyter-widgets/controls",
          "model_name": "DescriptionStyleModel",
          "model_module_version": "1.5.0",
          "state": {
            "_model_module": "@jupyter-widgets/controls",
            "_model_module_version": "1.5.0",
            "_model_name": "DescriptionStyleModel",
            "_view_count": null,
            "_view_module": "@jupyter-widgets/base",
            "_view_module_version": "1.2.0",
            "_view_name": "StyleView",
            "description_width": ""
          }
        }
      }
    }
  },
  "cells": [
    {
      "cell_type": "markdown",
      "metadata": {
        "id": "view-in-github",
        "colab_type": "text"
      },
      "source": [
        "<a href=\"https://colab.research.google.com/github/MahaleVivek/HandsOn-LLMs/blob/modules/modules/Ch12_finetuning_generation_models.ipynb\" target=\"_parent\"><img src=\"https://colab.research.google.com/assets/colab-badge.svg\" alt=\"Open In Colab\"/></a>"
      ]
    },
    {
      "cell_type": "markdown",
      "source": [
        "## The Three LLM Training Steps: Pretraining, Supervised Fine-Tuning, and Preference Tuning"
      ],
      "metadata": {
        "id": "1OljY3mrAyvv"
      }
    },
    {
      "cell_type": "markdown",
      "source": [
        "1. Language modeling\n",
        "\n",
        "    The first step in creating a high-quality LLM is to pretrain it on one or more massive text datasets. During training, it attempts to predict the next token to accurately learn linguistic and semantic representations found in the text. As we saw before in Chapters 3 and 11, this is called language modeling and is a self-supervised method.\n",
        "\n",
        "    This produces a base model, also commonly referred to as a pretrained or foundation model. Base models are a key artifact of the training process but are harder for the end user to deal with. This is why the next step is important."
      ],
      "metadata": {
        "id": "VBBDmoXPA7LA"
      }
    },
    {
      "cell_type": "markdown",
      "source": [
        "![holl_1201.png](data:image/png;base64,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)"
      ],
      "metadata": {
        "id": "9cVoIAtEBM52"
      }
    },
    {
      "cell_type": "code",
      "source": [],
      "metadata": {
        "id": "MbdU0sffB2jW"
      },
      "execution_count": null,
      "outputs": []
    },
    {
      "cell_type": "markdown",
      "source": [
        "2. Fine-tuning 1 (supervised fine-tuning)\n",
        "\n",
        "    LLMs are more useful if they respond well to instructions and try to follow them. When humans ask the model to write an article, they expect the model to generate the article and not list other instructions for example (which is what a base model might do).\n",
        "\n",
        "    With supervised fine-tuning (SFT), we can adapt the base model to follow instructions. During this fine-tuning process, the parameters of the base model are updated to be more in line with our target task, like following instructions. Like a pretrained model, it is trained using next-token prediction but instead of only predicting the next token, it does so based on a user input"
      ],
      "metadata": {
        "id": "McBLz7qiBVHf"
      }
    },
    {
      "cell_type": "markdown",
      "source": [
        "![holl_1202.png](data:image/png;base64,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)"
      ],
      "metadata": {
        "id": "EJiCcJRnBimx"
      }
    },
    {
      "cell_type": "markdown",
      "source": [
        "SFT can also be used for other tasks, like classification, but is often used to go from a base generative model to an instruction (or chat) generative model."
      ],
      "metadata": {
        "id": "Q-EUjC21BsoH"
      }
    },
    {
      "cell_type": "code",
      "source": [],
      "metadata": {
        "id": "9dV6H1ZWB5gu"
      },
      "execution_count": null,
      "outputs": []
    },
    {
      "cell_type": "markdown",
      "source": [
        "3. Fine-tuning 2 (preference tuning)\n",
        "\n",
        "    The final step further improves the quality of the model and makes it more aligned with the expected behavior of AI safety or human preferences. This is called preference tuning. Preference tuning is a form of fine-tuning and, as the name implies, aligns the output of the model to our preferences, which are defined by the data that we give it. Like SFT, it can improve upon the original model but has the added benefit of distilling preference of output in its training process. These three steps are illustrated in Figure 12-3 and demonstrate the process of starting from an untrained architecture and ending with a preference-tuned LLM."
      ],
      "metadata": {
        "id": "KFqflgAIBuUY"
      }
    },
    {
      "cell_type": "markdown",
      "source": [
        "![holl_1203.png](data:image/png;base64,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)"
      ],
      "metadata": {
        "id": "8ojsZ8x0B6qO"
      }
    },
    {
      "cell_type": "code",
      "source": [],
      "metadata": {
        "id": "50hNjFZpCBB0"
      },
      "execution_count": null,
      "outputs": []
    },
    {
      "cell_type": "markdown",
      "source": [
        "### Supervised Fine-Tuning (SFT)"
      ],
      "metadata": {
        "id": "HTuxthd7Ctea"
      }
    },
    {
      "cell_type": "markdown",
      "source": [
        "Full Fine-Tuning\n",
        "\n",
        "The most common fine-tuning process is full fine-tuning. Like pretraining an LLM, this process involves updating all parameters of a model to be in line with your target task. The main difference is that we now use a smaller but labeled dataset whereas the pretraining process was done on a large dataset without any labels"
      ],
      "metadata": {
        "id": "0eyQ1N2sCwkd"
      }
    },
    {
      "cell_type": "markdown",
      "source": [
        "**Parameter-Efficient Fine-Tuning (PEFT)**\n",
        "\n",
        "Updating all parameters of a model has a large potential of increasing its performance but comes with several disadvantages.\n",
        "1. It is costly to train,\n",
        "2. has slow training times, and\n",
        "3. requires significant storage.\n",
        "\n",
        "To resolve these issues, attention has been given to parameter-efficient fine-tuning (PEFT) alternatives that focus on fine-tuning pretrained models at higher computational efficiency.\n",
        "\n",
        "**Adapters**\n",
        "\n",
        ">**Adapters** are a core component of many PEFT-based techniques. The method proposes a set of additional modular components inside the Transformer that can be fine-tuned to improve the model’s performance on a specific task without having to fine-tune all the model weights. This saves a lot of time and compute."
      ],
      "metadata": {
        "id": "7REM9tnYEgkx"
      }
    },
    {
      "cell_type": "markdown",
      "source": [
        "**Low-Rank Adaptation (LoRA)**\n",
        "\n",
        ">As an alternative to adapters, low-rank adaptation (LoRA) was introduced and is at the time of writing is a widely used and effective technique for PEFT. LoRA is a technique that (like adapters) only requires updating a small set of parameters. it creates a small subset of the base model to fine-tune instead of adding layers to the model.4"
      ],
      "metadata": {
        "id": "1E8MQlaIGHne"
      }
    },
    {
      "cell_type": "markdown",
      "source": [
        "\n",
        "**Compressing the model for (more) efficient training**\n",
        "\n",
        ">We can make LoRA even more efficient by reducing the memory requirements of the model’s original weights before projecting them into smaller matrices. The weights of an LLM are numeric values with a given precision, which can be expressed by the number of bits like float64 or float32. if we lower the amount of bits to represent a value, we get a less accurate result. However, if we lower the number of bits we also lower the memory requirements of that model.\n",
        "\n",
        "* With quantization, we aim to lower the number of bits while still accurately\n",
        "representing the original weight values. However, when directly mapping higher precision values to lower precision values, multiple higher precision values might end up being represented by the same lower precision values.\n",
        "\n",
        "\n",
        "* Instead, the authors of QLoRA, a quantized version of LoRA, found a way to go from a higher number of bits to a lower value and vice versa without differentiating too much from the original weights.\n",
        "\n",
        "\n",
        "* They used blockwise quantization to map certain blocks of higher precision values to lower precision values. Instead of directly mapping higher precision to lower precision values, additional blocks are created that allow for quantizing similar weights. this results in values that can be accurately represented with lower precision.\n"
      ],
      "metadata": {
        "id": "vhO2OR5kIEG9"
      }
    },
    {
      "cell_type": "markdown",
      "source": [
        "Combined with the blockwise quantization, this normalization procedure allows for accurate representation of high precision values by low precision values with only a small decrease in the performance of the LLM. As a result, we can go from a 16-bit float representation to a measly 4-bit normalized float representation. A 4-bit representation significantly reduces the memory requirements of the LLM during training. Note that the quantization of LLMs in general is also helpful for inference as quantized LLMs are smaller in size and therefore require less VRAM."
      ],
      "metadata": {
        "id": "wNsepkUnJYUW"
      }
    },
    {
      "cell_type": "markdown",
      "source": [
        "\n",
        "\n",
        "---\n",
        "\n"
      ],
      "metadata": {
        "id": "arZpitm4LjaI"
      }
    },
    {
      "cell_type": "markdown",
      "source": [
        "### Instruction Tuning with QLoRA"
      ],
      "metadata": {
        "id": "YQuhGgbZLojH"
      }
    },
    {
      "cell_type": "code",
      "source": [
        "!pip install datasets -q #bitsandbytes"
      ],
      "metadata": {
        "id": "3iBsDbL-LrLg"
      },
      "execution_count": 13,
      "outputs": []
    },
    {
      "cell_type": "code",
      "source": [
        "from transformers import AutoTokenizer\n",
        "from datasets import load_dataset\n",
        "\n",
        "# Load a tokenizer to use its chat template\n",
        "template_tokenizer = AutoTokenizer.from_pretrained(\n",
        "    \"TinyLlama/TinyLlama-1.1B-Chat-v1.0\"\n",
        ")"
      ],
      "metadata": {
        "id": "nfB1l32xdbEG"
      },
      "execution_count": 15,
      "outputs": []
    },
    {
      "cell_type": "code",
      "source": [
        "def format_prompt(example):\n",
        "    \"\"\"Format the prompt to using the <|user|> template TinyLLama is using\"\"\"\n",
        "\n",
        "    # Format answers\n",
        "    chat = example[\"messages\"]\n",
        "    prompt = template_tokenizer.apply_chat_template(chat, tokenize=False)\n",
        "\n",
        "    return {\"text\": prompt}\n",
        "\n",
        "# Load and format the data using the template TinyLLama is using\n",
        "dataset = (\n",
        "    load_dataset(\"HuggingFaceH4/ultrachat_200k\", split=\"test_sft\")\n",
        "      .shuffle(seed=42)\n",
        "      .select(range(3_000))\n",
        ")\n",
        "dataset = dataset.map(format_prompt)"
      ],
      "metadata": {
        "id": "Ru-GbOv5ddC0"
      },
      "execution_count": 16,
      "outputs": []
    },
    {
      "cell_type": "code",
      "source": [
        "# We select a subset of 3,000 documents to reduce the training time, but you can increase this value to get more accurate results."
      ],
      "metadata": {
        "id": "Kczsnde1d-6B"
      },
      "execution_count": 4,
      "outputs": []
    },
    {
      "cell_type": "code",
      "source": [
        "# Example of formatted prompt\n",
        "print(dataset[\"text\"][2576])"
      ],
      "metadata": {
        "colab": {
          "base_uri": "https://localhost:8080/"
        },
        "id": "QsXPJ4tueLdt",
        "outputId": "374dbc29-b94f-480d-fb72-c9f3e206fcf8"
      },
      "execution_count": 5,
      "outputs": [
        {
          "output_type": "stream",
          "name": "stdout",
          "text": [
            "<|user|>\n",
            "Given the text: Knock, knock. Who’s there? Hike.\n",
            "Can you continue the joke based on the given text material \"Knock, knock. Who’s there? Hike\"?</s>\n",
            "<|assistant|>\n",
            "Sure! Knock, knock. Who's there? Hike. Hike who? Hike up your pants, it's cold outside!</s>\n",
            "<|user|>\n",
            "Can you tell me another knock-knock joke based on the same text material \"Knock, knock. Who's there? Hike\"?</s>\n",
            "<|assistant|>\n",
            "Of course! Knock, knock. Who's there? Hike. Hike who? Hike your way over here and let's go for a walk!</s>\n",
            "\n"
          ]
        }
      ]
    },
    {
      "cell_type": "markdown",
      "source": [
        "### Model Quantization"
      ],
      "metadata": {
        "id": "5F6UE9FfeN59"
      }
    },
    {
      "cell_type": "markdown",
      "source": [
        "Now that we have our data, we can start loading in our model. This is where we apply the Q in QLoRA, namely quantization. We use the bitsandbytes package to compress the pretrained model to a 4-bit representation.\n",
        "\n",
        "In BitsAndBytesConfig, you can define the quantization scheme. We follow the steps used in the original QLoRA paper and load the model in 4-bit (load_in_4bit) with a normalized float representation (bnb_4bit_quant_type) and double quantization (bnb_4bit_use_double_quant):"
      ],
      "metadata": {
        "id": "L2CT2WWxemHA"
      }
    },
    {
      "cell_type": "code",
      "source": [
        "!pip install bitsandbytes -q"
      ],
      "metadata": {
        "colab": {
          "base_uri": "https://localhost:8080/"
        },
        "id": "xVT-2qi5Dg9c",
        "outputId": "71408ee6-ce77-4a70-f3fe-58263b500fa8"
      },
      "execution_count": 8,
      "outputs": [
        {
          "output_type": "stream",
          "name": "stdout",
          "text": [
            "\u001b[2K   \u001b[90m━━━━━━━━━━━━━━━━━━━━━━━━━━━━━━━━━━━━━━━━\u001b[0m \u001b[32m76.1/76.1 MB\u001b[0m \u001b[31m6.8 MB/s\u001b[0m eta \u001b[36m0:00:00\u001b[0m\n",
            "\u001b[2K   \u001b[90m━━━━━━━━━━━━━━━━━━━━━━━━━━━━━━━━━━━━━━━━\u001b[0m \u001b[32m363.4/363.4 MB\u001b[0m \u001b[31m4.2 MB/s\u001b[0m eta \u001b[36m0:00:00\u001b[0m\n",
            "\u001b[2K   \u001b[90m━━━━━━━━━━━━━━━━━━━━━━━━━━━━━━━━━━━━━━━━\u001b[0m \u001b[32m13.8/13.8 MB\u001b[0m \u001b[31m113.1 MB/s\u001b[0m eta \u001b[36m0:00:00\u001b[0m\n",
            "\u001b[2K   \u001b[90m━━━━━━━━━━━━━━━━━━━━━━━━━━━━━━━━━━━━━━━━\u001b[0m \u001b[32m24.6/24.6 MB\u001b[0m \u001b[31m82.7 MB/s\u001b[0m eta \u001b[36m0:00:00\u001b[0m\n",
            "\u001b[2K   \u001b[90m━━━━━━━━━━━━━━━━━━━━━━━━━━━━━━━━━━━━━━━━\u001b[0m \u001b[32m883.7/883.7 kB\u001b[0m \u001b[31m45.6 MB/s\u001b[0m eta \u001b[36m0:00:00\u001b[0m\n",
            "\u001b[2K   \u001b[90m━━━━━━━━━━━━━━━━━━━━━━━━━━━━━━━━━━━━━━━━\u001b[0m \u001b[32m664.8/664.8 MB\u001b[0m \u001b[31m886.6 kB/s\u001b[0m eta \u001b[36m0:00:00\u001b[0m\n",
            "\u001b[2K   \u001b[90m━━━━━━━━━━━━━━━━━━━━━━━━━━━━━━━━━━━━━━━━\u001b[0m \u001b[32m211.5/211.5 MB\u001b[0m \u001b[31m5.9 MB/s\u001b[0m eta \u001b[36m0:00:00\u001b[0m\n",
            "\u001b[2K   \u001b[90m━━━━━━━━━━━━━━━━━━━━━━━━━━━━━━━━━━━━━━━━\u001b[0m \u001b[32m56.3/56.3 MB\u001b[0m \u001b[31m14.7 MB/s\u001b[0m eta \u001b[36m0:00:00\u001b[0m\n",
            "\u001b[2K   \u001b[90m━━━━━━━━━━━━━━━━━━━━━━━━━━━━━━━━━━━━━━━━\u001b[0m \u001b[32m127.9/127.9 MB\u001b[0m \u001b[31m7.8 MB/s\u001b[0m eta \u001b[36m0:00:00\u001b[0m\n",
            "\u001b[2K   \u001b[90m━━━━━━━━━━━━━━━━━━━━━━━━━━━━━━━━━━━━━━━━\u001b[0m \u001b[32m207.5/207.5 MB\u001b[0m \u001b[31m6.3 MB/s\u001b[0m eta \u001b[36m0:00:00\u001b[0m\n",
            "\u001b[2K   \u001b[90m━━━━━━━━━━━━━━━━━━━━━━━━━━━━━━━━━━━━━━━━\u001b[0m \u001b[32m21.1/21.1 MB\u001b[0m \u001b[31m72.4 MB/s\u001b[0m eta \u001b[36m0:00:00\u001b[0m\n",
            "\u001b[?25h"
          ]
        }
      ]
    },
    {
      "cell_type": "code",
      "source": [
        "import torch\n",
        "from transformers import AutoModelForCausalLM, AutoTokenizer, BitsAndBytesConfig\n",
        "\n",
        "model_name = \"TinyLlama/TinyLlama-1.1B-intermediate-step-1431k-3T\""
      ],
      "metadata": {
        "id": "FFl0loxde5iy"
      },
      "execution_count": 1,
      "outputs": []
    },
    {
      "cell_type": "code",
      "source": [
        "# 4-bit quantization configuration - Q in QLoRA\n",
        "bnb_config = BitsAndBytesConfig(\n",
        "    load_in_4bit=True,  # Use 4-bit precision model loading\n",
        "    bnb_4bit_quant_type=\"nf4\",  # Quantization type\n",
        "    bnb_4bit_compute_dtype=\"float16\",  # Compute dtype\n",
        "    bnb_4bit_use_double_quant=True,  # Apply nested quantization\n",
        ")"
      ],
      "metadata": {
        "id": "d4b2HDxye5-_"
      },
      "execution_count": 2,
      "outputs": []
    },
    {
      "cell_type": "code",
      "source": [
        "!pip install -U bitsandbytes"
      ],
      "metadata": {
        "colab": {
          "base_uri": "https://localhost:8080/"
        },
        "id": "qiCVT1XRf0J3",
        "outputId": "35393692-12e6-4bd8-9bc3-9b1ba64ca050"
      },
      "execution_count": 3,
      "outputs": [
        {
          "output_type": "stream",
          "name": "stdout",
          "text": [
            "Requirement already satisfied: bitsandbytes in /usr/local/lib/python3.11/dist-packages (0.45.3)\n",
            "Requirement already satisfied: torch<3,>=2.0 in /usr/local/lib/python3.11/dist-packages (from bitsandbytes) (2.6.0+cu124)\n",
            "Requirement already satisfied: numpy>=1.17 in /usr/local/lib/python3.11/dist-packages (from bitsandbytes) (1.26.4)\n",
            "Requirement already satisfied: filelock in /usr/local/lib/python3.11/dist-packages (from torch<3,>=2.0->bitsandbytes) (3.17.0)\n",
            "Requirement already satisfied: typing-extensions>=4.10.0 in /usr/local/lib/python3.11/dist-packages (from torch<3,>=2.0->bitsandbytes) (4.12.2)\n",
            "Requirement already satisfied: networkx in /usr/local/lib/python3.11/dist-packages (from torch<3,>=2.0->bitsandbytes) (3.4.2)\n",
            "Requirement already satisfied: jinja2 in /usr/local/lib/python3.11/dist-packages (from torch<3,>=2.0->bitsandbytes) (3.1.6)\n",
            "Requirement already satisfied: fsspec in /usr/local/lib/python3.11/dist-packages (from torch<3,>=2.0->bitsandbytes) (2024.10.0)\n",
            "Requirement already satisfied: nvidia-cuda-nvrtc-cu12==12.4.127 in /usr/local/lib/python3.11/dist-packages (from torch<3,>=2.0->bitsandbytes) (12.4.127)\n",
            "Requirement already satisfied: nvidia-cuda-runtime-cu12==12.4.127 in /usr/local/lib/python3.11/dist-packages (from torch<3,>=2.0->bitsandbytes) (12.4.127)\n",
            "Requirement already satisfied: nvidia-cuda-cupti-cu12==12.4.127 in /usr/local/lib/python3.11/dist-packages (from torch<3,>=2.0->bitsandbytes) (12.4.127)\n",
            "Requirement already satisfied: nvidia-cudnn-cu12==9.1.0.70 in /usr/local/lib/python3.11/dist-packages (from torch<3,>=2.0->bitsandbytes) (9.1.0.70)\n",
            "Requirement already satisfied: nvidia-cublas-cu12==12.4.5.8 in /usr/local/lib/python3.11/dist-packages (from torch<3,>=2.0->bitsandbytes) (12.4.5.8)\n",
            "Requirement already satisfied: nvidia-cufft-cu12==11.2.1.3 in /usr/local/lib/python3.11/dist-packages (from torch<3,>=2.0->bitsandbytes) (11.2.1.3)\n",
            "Requirement already satisfied: nvidia-curand-cu12==10.3.5.147 in /usr/local/lib/python3.11/dist-packages (from torch<3,>=2.0->bitsandbytes) (10.3.5.147)\n",
            "Requirement already satisfied: nvidia-cusolver-cu12==11.6.1.9 in /usr/local/lib/python3.11/dist-packages (from torch<3,>=2.0->bitsandbytes) (11.6.1.9)\n",
            "Requirement already satisfied: nvidia-cusparse-cu12==12.3.1.170 in /usr/local/lib/python3.11/dist-packages (from torch<3,>=2.0->bitsandbytes) (12.3.1.170)\n",
            "Requirement already satisfied: nvidia-cusparselt-cu12==0.6.2 in /usr/local/lib/python3.11/dist-packages (from torch<3,>=2.0->bitsandbytes) (0.6.2)\n",
            "Requirement already satisfied: nvidia-nccl-cu12==2.21.5 in /usr/local/lib/python3.11/dist-packages (from torch<3,>=2.0->bitsandbytes) (2.21.5)\n",
            "Requirement already satisfied: nvidia-nvtx-cu12==12.4.127 in /usr/local/lib/python3.11/dist-packages (from torch<3,>=2.0->bitsandbytes) (12.4.127)\n",
            "Requirement already satisfied: nvidia-nvjitlink-cu12==12.4.127 in /usr/local/lib/python3.11/dist-packages (from torch<3,>=2.0->bitsandbytes) (12.4.127)\n",
            "Requirement already satisfied: triton==3.2.0 in /usr/local/lib/python3.11/dist-packages (from torch<3,>=2.0->bitsandbytes) (3.2.0)\n",
            "Requirement already satisfied: sympy==1.13.1 in /usr/local/lib/python3.11/dist-packages (from torch<3,>=2.0->bitsandbytes) (1.13.1)\n",
            "Requirement already satisfied: mpmath<1.4,>=1.1.0 in /usr/local/lib/python3.11/dist-packages (from sympy==1.13.1->torch<3,>=2.0->bitsandbytes) (1.3.0)\n",
            "Requirement already satisfied: MarkupSafe>=2.0 in /usr/local/lib/python3.11/dist-packages (from jinja2->torch<3,>=2.0->bitsandbytes) (3.0.2)\n"
          ]
        }
      ]
    },
    {
      "cell_type": "code",
      "source": [
        "# Load the model to train on the GPU\n",
        "model = AutoModelForCausalLM.from_pretrained(\n",
        "    model_name,\n",
        "    device_map=\"auto\",\n",
        "\n",
        "    # Leave this out for regular SFT\n",
        "    quantization_config=bnb_config,\n",
        ")\n",
        "model.config.use_cache = False\n",
        "model.config.pretraining_tp = 1"
      ],
      "metadata": {
        "id": "tuE8ghotfCOr",
        "colab": {
          "base_uri": "https://localhost:8080/",
          "height": 205,
          "referenced_widgets": [
            "7958ab44b76c4525ac5f31cba47b6e37",
            "ac8882a9eccb4193a84eb60fff151143",
            "585898da1b4e4b9bb33f05620c450416",
            "d228e1e90147477888b254af47987b38",
            "4e59133ff7d84843a1036b8ad879067c",
            "4fb3d97095a14b0182a04f902ce2c014",
            "8ce25bc6063e40aa868673e83b22c2e8",
            "c9060f7a06764f9791ce99f556de2ec7",
            "d2b94694c487438f9ba395ac86774fc3",
            "878ebad723e7483fa4282937b54eb460",
            "3ec1c78df77546618eb534e11159f40e",
            "7e84fcc82f77460b8ad0c4a18b5fd265",
            "72d356440bbc4265a26a939a8716ff39",
            "5224aae958834c18a06dfc640057373d",
            "5c277dcb959b4e71befc6b5a00e99a8d",
            "7e3618ae8c234049929fe193e67999bd",
            "831b4921d094414db467839764ca2bb1",
            "83a2e58ca4354ecaa8a637644914a6f3",
            "b9fc80b7292844d4b7190dc6531c7329",
            "7d48ce7803024ae9bd7b4a8aa6a0bbc7",
            "0638c5385d37452ebf615232f2ec0cd5",
            "dbdff2bdf247451a823bb42830d16e78"
          ]
        },
        "outputId": "54cccb01-5177-47b3-9767-959f95dad733"
      },
      "execution_count": 4,
      "outputs": [
        {
          "output_type": "stream",
          "name": "stderr",
          "text": [
            "/usr/local/lib/python3.11/dist-packages/huggingface_hub/utils/_auth.py:94: UserWarning: \n",
            "The secret `HF_TOKEN` does not exist in your Colab secrets.\n",
            "To authenticate with the Hugging Face Hub, create a token in your settings tab (https://huggingface.co/settings/tokens), set it as secret in your Google Colab and restart your session.\n",
            "You will be able to reuse this secret in all of your notebooks.\n",
            "Please note that authentication is recommended but still optional to access public models or datasets.\n",
            "  warnings.warn(\n"
          ]
        },
        {
          "output_type": "display_data",
          "data": {
            "text/plain": [
              "model.safetensors:   0%|          | 0.00/4.40G [00:00<?, ?B/s]"
            ],
            "application/vnd.jupyter.widget-view+json": {
              "version_major": 2,
              "version_minor": 0,
              "model_id": "7958ab44b76c4525ac5f31cba47b6e37"
            }
          },
          "metadata": {}
        },
        {
          "output_type": "display_data",
          "data": {
            "text/plain": [
              "generation_config.json:   0%|          | 0.00/129 [00:00<?, ?B/s]"
            ],
            "application/vnd.jupyter.widget-view+json": {
              "version_major": 2,
              "version_minor": 0,
              "model_id": "7e84fcc82f77460b8ad0c4a18b5fd265"
            }
          },
          "metadata": {}
        }
      ]
    },
    {
      "cell_type": "code",
      "source": [
        "# restart the session if giving ImportError"
      ],
      "metadata": {
        "id": "xkTBMN58fsRM"
      },
      "execution_count": 5,
      "outputs": []
    },
    {
      "cell_type": "code",
      "source": [
        "# Load LLaMA tokenizer\n",
        "tokenizer = AutoTokenizer.from_pretrained(model_name, trust_remote_code=True)\n",
        "tokenizer.pad_token = \"<PAD>\"\n",
        "tokenizer.padding_side = \"left\""
      ],
      "metadata": {
        "id": "Wt56hujBgYjy",
        "colab": {
          "base_uri": "https://localhost:8080/",
          "height": 145,
          "referenced_widgets": [
            "a19dfe1c653e49e882030bd9c21dce57",
            "180562f4ccbd4824bc41ea7341b7b0f9",
            "3b379853042942e497cdd89f20fc007f",
            "37f423b9922845d7b852c4d44639f55f",
            "58b27c658edd4940a1a45958cd16f00a",
            "52e0a102d6f748bcb3500001c5123ff1",
            "ed7632267d1f4d99aaea03bc60f406b9",
            "b7a5c9022756485ca37566f2c38e5ac3",
            "9536d107ee284660b79200c396a8ffe2",
            "8b51a50a495d441ca5e64c07e2c0c286",
            "2cc43c0d65d14ff3aa1adbb6b372846b",
            "f091fb9214ee4702aa5fb34c5373d189",
            "bfd2997e7b8d46d5b4327ceb21d7bee7",
            "7cabdcc0a0df4b6e948f3f306b349ce5",
            "87ac5d87e27c457b931d2689a9cf0565",
            "bf103e1de2fd4bb0ba0c14eb97b1c17e",
            "da8b2245b93541709e50bcd7ca45f38f",
            "f7cc2f01864246618b2e614c77a1bb66",
            "0f2f129d45c0428d86289b559bc2956e",
            "f73e27b00bcb4e1097d629e42d8621bf",
            "ad407fa54bc94919bc631945ae0893d3",
            "1c1742e9ea3e424c9a227f1bfd5193a0",
            "7152f2ce7abb411e986334a767532bf1",
            "1ebf2e90436f4410ac6bf1ea265f93bd",
            "a143183d07654aa5b1555797eabbfe04",
            "9a46ebb61b6441daa9fda4c9218cbc4a",
            "0aa715eeee554a1b84697a191b68e454",
            "4d3725ba91ff43f1adfbf5474163d8cd",
            "475fce56a2ef4b9a98ba32c4e2307237",
            "80def7e061d046e6a5d5ceb42e14d63c",
            "45fa8bf2f9c441fcb5c2d13a4b3a2ea6",
            "ee962ee1c27a47aba243ac6535d18d4b",
            "50d18c0fa386453287e992eba6b6da89",
            "631c33fb73ad401e89b8f45e4369e7dc",
            "dee406b09ea342259f603f157e492bf3",
            "3893c8593bb4422f8d869914f51a2aae",
            "1a4628bae7624ae9bbb5abb36dc37f10",
            "652fdadf8c014189895a6524c791180a",
            "a76e186f735c4d41b5170804345cdebb",
            "ca7023ea1c174ab1a6dd368ebbeae426",
            "4549309f1e454332bde8de45b2a988d7",
            "f59e0188a0d2408795c17f3b5ad9a47a",
            "629c2ba9b9dd47499d1e17de3eb8fb8a",
            "71251a2665f74e70915379bdf2a220bb"
          ]
        },
        "outputId": "838b19b1-65d9-4ca5-ec73-c8ee5aa3cd04"
      },
      "execution_count": 6,
      "outputs": [
        {
          "output_type": "display_data",
          "data": {
            "text/plain": [
              "tokenizer_config.json:   0%|          | 0.00/776 [00:00<?, ?B/s]"
            ],
            "application/vnd.jupyter.widget-view+json": {
              "version_major": 2,
              "version_minor": 0,
              "model_id": "a19dfe1c653e49e882030bd9c21dce57"
            }
          },
          "metadata": {}
        },
        {
          "output_type": "display_data",
          "data": {
            "text/plain": [
              "tokenizer.model:   0%|          | 0.00/500k [00:00<?, ?B/s]"
            ],
            "application/vnd.jupyter.widget-view+json": {
              "version_major": 2,
              "version_minor": 0,
              "model_id": "f091fb9214ee4702aa5fb34c5373d189"
            }
          },
          "metadata": {}
        },
        {
          "output_type": "display_data",
          "data": {
            "text/plain": [
              "tokenizer.json:   0%|          | 0.00/1.84M [00:00<?, ?B/s]"
            ],
            "application/vnd.jupyter.widget-view+json": {
              "version_major": 2,
              "version_minor": 0,
              "model_id": "7152f2ce7abb411e986334a767532bf1"
            }
          },
          "metadata": {}
        },
        {
          "output_type": "display_data",
          "data": {
            "text/plain": [
              "special_tokens_map.json:   0%|          | 0.00/414 [00:00<?, ?B/s]"
            ],
            "application/vnd.jupyter.widget-view+json": {
              "version_major": 2,
              "version_minor": 0,
              "model_id": "631c33fb73ad401e89b8f45e4369e7dc"
            }
          },
          "metadata": {}
        }
      ]
    },
    {
      "cell_type": "markdown",
      "source": [
        "This quantization procedure allows us to decrease the size of the original model while retaining most of the original weights’ precision. Loading the model now only uses ~1 GB VRAM compared to the ~4 GB of VRAM it would need without quantization. Note that during fine-tuning, more VRAM will be necessary so it does not cap out on the ~1 GB VRAM needed to load the model."
      ],
      "metadata": {
        "id": "ytcjy3ECgaAC"
      }
    },
    {
      "cell_type": "markdown",
      "source": [
        "#### LoRA Configuration"
      ],
      "metadata": {
        "id": "8fDRu-Zsgkup"
      }
    },
    {
      "cell_type": "code",
      "source": [
        "# we will need to define our LoRA configuration using the peft library, which represents hyperparameters of the fine-tuning process:"
      ],
      "metadata": {
        "id": "pYn6urjsgouD"
      },
      "execution_count": 7,
      "outputs": []
    },
    {
      "cell_type": "code",
      "source": [
        "from peft import LoraConfig, prepare_model_for_kbit_training, get_peft_model\n",
        "\n",
        "# Prepare LoRA Configuration\n",
        "peft_config = LoraConfig(\n",
        "    lora_alpha=32,  # LoRA Scaling\n",
        "    lora_dropout=0.1,  # Dropout for LoRA Layers\n",
        "    r=64,  # Rank\n",
        "    bias=\"none\",\n",
        "    task_type=\"CAUSAL_LM\",\n",
        "    target_modules=  # Layers to target\n",
        "     [\"k_proj\", \"gate_proj\", \"v_proj\", \"up_proj\", \"q_proj\", \"o_proj\", \"down_proj\"]\n",
        ")\n",
        "\n",
        "# Prepare model for training\n",
        "model = prepare_model_for_kbit_training(model)\n",
        "model = get_peft_model(model, peft_config)"
      ],
      "metadata": {
        "id": "CdcZ-rmFgu1N"
      },
      "execution_count": 8,
      "outputs": []
    },
    {
      "cell_type": "markdown",
      "source": [
        "There are several parameters worth mentioning:\n",
        "\n",
        "1. r\n",
        "  > This is the rank of the compressed matrices Increasing this value will also increase the sizes of compressed matrices leading to less compression and thereby improved representative power. Values typically range between 4 and 64.\n",
        "2. lora_alpha\n",
        "  >  Controls the amount of change that is added to the original weights. In essence, it balances the knowledge of the original model with that of the new task. A rule of thumb is to choose a value twice the size of r.\n",
        "3. target_modules\n",
        "  > Controls which layers to target. The LoRA procedure can choose to ignore specific layers, like specific projection layers. This can speed up training but reduce performance and vice versa."
      ],
      "metadata": {
        "id": "xFMeSdrHgyRf"
      }
    },
    {
      "cell_type": "markdown",
      "source": [
        "Note: This example demonstrates an efficient form of fine-tuning your model. If you want to perform full fine-tuning instead, you can remove the quantization_config parameter when loading the model and skip the creation of peft_config. By removing those, we would go from “Instruction tuning with QLoRA” to “full instruction tuning.”"
      ],
      "metadata": {
        "id": "1ivIo-wOhNBO"
      }
    },
    {
      "cell_type": "markdown",
      "source": [
        "### Training Configuration\n"
      ],
      "metadata": {
        "id": "HRrjWw3Gi0en"
      }
    },
    {
      "cell_type": "code",
      "source": [
        "from transformers import TrainingArguments\n",
        "\n",
        "output_dir = \"./results\"\n",
        "\n",
        "# Training arguments\n",
        "training_arguments = TrainingArguments(\n",
        "    output_dir=output_dir,\n",
        "    per_device_train_batch_size=2,\n",
        "    gradient_accumulation_steps=4,\n",
        "    optim=\"paged_adamw_32bit\",\n",
        "    learning_rate=2e-4,\n",
        "    lr_scheduler_type=\"cosine\",\n",
        "    num_train_epochs=1,\n",
        "    logging_steps=10,\n",
        "    fp16=True,\n",
        "    gradient_checkpointing=True\n",
        ")"
      ],
      "metadata": {
        "id": "zvsG_0tVi46d"
      },
      "execution_count": 9,
      "outputs": []
    },
    {
      "cell_type": "markdown",
      "source": [
        "There are several parameters worth mentioning:\n",
        "\n",
        "1. num_train_epochs\n",
        "  >  The total number of training rounds. Higher values tend to degrade performance so we generally like to keep this low.\n",
        "2. learning_rate\n",
        "  >  Determines the step size at each iteration of weight updates. The authors of QLoRA found that higher learning rates work better for larger models (>33B parameters).\n",
        "3. lr_scheduler_type\n",
        "  >  A cosine-based scheduler to adjust the learning rate dynamically. It will linearly increase the learning rate, starting from zero, until it reaches the set value. After that, the learning rate is decayed following the values of a cosine function.\n",
        "4. optim\n",
        "  >  The paged optimizers used in the original QLoRA paper.\n",
        "\n",
        "Optimizing these parameters is a difficult task and there are no set guidelines for doing so. It requires experimentation to figure out what works best for specific datasets, model sizes, and target tasks."
      ],
      "metadata": {
        "id": "0TA2FoIDjWld"
      }
    },
    {
      "cell_type": "markdown",
      "source": [
        "Note: Although this section describes instruction tuning, we could also use QLoRA to fine-tune an instruction model. For instance, we could fine-tune a chat model to generate specific SQL code or to create JSON output that adheres to a specific format. As long as you have the data available (with appropriate query-response items), QLoRA is a great technique for nudging an existing chat model to be more appropriate for your use case."
      ],
      "metadata": {
        "id": "9x4AQqyajlU8"
      }
    },
    {
      "cell_type": "markdown",
      "source": [
        "### Training"
      ],
      "metadata": {
        "id": "TyVCRmGnjsGS"
      }
    },
    {
      "cell_type": "code",
      "source": [
        "%%capture\n",
        "\n",
        "!pip install -q accelerate==0.31.0 peft==0.11.1 bitsandbytes==0.43.1 transformers==4.41.2 trl==0.9.4 sentencepiece==0.2.0"
      ],
      "metadata": {
        "id": "AwP5y0YCj0gM"
      },
      "execution_count": 10,
      "outputs": []
    },
    {
      "cell_type": "code",
      "source": [],
      "metadata": {
        "id": "SQmzx_CvFgSO"
      },
      "execution_count": 12,
      "outputs": []
    },
    {
      "cell_type": "code",
      "source": [
        "from trl import SFTTrainer\n",
        "\n",
        "# Set supervised fine-tuning parameters\n",
        "trainer = SFTTrainer(\n",
        "    model=model,\n",
        "    train_dataset=dataset,\n",
        "    dataset_text_field=\"text\",\n",
        "    tokenizer=tokenizer,\n",
        "    args=training_arguments,\n",
        "    max_seq_length=512,\n",
        "\n",
        "    # Leave this out for regular SFT\n",
        "    peft_config=peft_config,\n",
        ")"
      ],
      "metadata": {
        "colab": {
          "base_uri": "https://localhost:8080/",
          "height": 277,
          "referenced_widgets": [
            "978dddfb27764066bb3eb1ad59cc8f76",
            "1c577ce08e224ed4bc5ac84e88d11c78",
            "8a2995581d324d44a52e52b57fa0f63b",
            "134389fdbba04fd9bc28cb5cb1bda3da",
            "f790b022906e4245a4a51f7fa5c3b7b5",
            "4b23a1aed96147288bff285439961c54",
            "1cdd1dee5fd64e188c6cd5cd9abf27d8",
            "2e33f99b7a7c485e9c3fbb3a39b37ec6",
            "79bd2ceaa4fc418da95b0e75f1c87543",
            "46672f3cd7424081a5657af17f33dd7f",
            "732c26135fe4435f85c6d47fb786fb03"
          ]
        },
        "id": "OdgSeDIcjvb8",
        "outputId": "1df44912-7a89-4f48-e188-2c14c22de0b7"
      },
      "execution_count": 17,
      "outputs": [
        {
          "output_type": "stream",
          "name": "stderr",
          "text": [
            "/usr/local/lib/python3.11/dist-packages/huggingface_hub/utils/_deprecation.py:100: FutureWarning: Deprecated argument(s) used in '__init__': dataset_text_field, max_seq_length. Will not be supported from version '1.0.0'.\n",
            "\n",
            "Deprecated positional argument(s) used in SFTTrainer, please use the SFTConfig to set these arguments instead.\n",
            "  warnings.warn(message, FutureWarning)\n",
            "/usr/local/lib/python3.11/dist-packages/transformers/training_args.py:2058: FutureWarning: `--push_to_hub_token` is deprecated and will be removed in version 5 of 🤗 Transformers. Use `--hub_token` instead.\n",
            "  )\n",
            "/usr/local/lib/python3.11/dist-packages/trl/trainer/sft_trainer.py:269: UserWarning: You passed a `max_seq_length` argument to the SFTTrainer, the value you passed will override the one in the `SFTConfig`.\n",
            "  warnings.warn(\n",
            "/usr/local/lib/python3.11/dist-packages/trl/trainer/sft_trainer.py:307: UserWarning: You passed a `dataset_text_field` argument to the SFTTrainer, the value you passed will override the one in the `SFTConfig`.\n",
            "  warnings.warn(\n"
          ]
        },
        {
          "output_type": "display_data",
          "data": {
            "text/plain": [
              "Map:   0%|          | 0/3000 [00:00<?, ? examples/s]"
            ],
            "application/vnd.jupyter.widget-view+json": {
              "version_major": 2,
              "version_minor": 0,
              "model_id": "978dddfb27764066bb3eb1ad59cc8f76"
            }
          },
          "metadata": {}
        },
        {
          "output_type": "stream",
          "name": "stderr",
          "text": [
            "/usr/local/lib/python3.11/dist-packages/trl/trainer/sft_trainer.py:397: UserWarning: You passed a tokenizer with `padding_side` not equal to `right` to the SFTTrainer. This might lead to some unexpected behaviour due to overflow issues when training a model in half-precision. You might consider adding `tokenizer.padding_side = 'right'` to your code.\n",
            "  warnings.warn(\n"
          ]
        }
      ]
    },
    {
      "cell_type": "code",
      "source": [
        "# Train model\n",
        "trainer.train()\n",
        "\n",
        "# Save QLoRA weights\n",
        "trainer.model.save_pretrained(\"TinyLlama-1.1B-qlora\")"
      ],
      "metadata": {
        "colab": {
          "base_uri": "https://localhost:8080/",
          "height": 1000
        },
        "id": "kUbiCn7Ni8aw",
        "outputId": "9f7ee961-08c3-4c17-84ed-45218ceb76f1"
      },
      "execution_count": 18,
      "outputs": [
        {
          "output_type": "stream",
          "name": "stderr",
          "text": [
            "\u001b[34m\u001b[1mwandb\u001b[0m: \u001b[33mWARNING\u001b[0m The `run_name` is currently set to the same value as `TrainingArguments.output_dir`. If this was not intended, please specify a different run name by setting the `TrainingArguments.run_name` parameter.\n",
            "\u001b[34m\u001b[1mwandb\u001b[0m: Using wandb-core as the SDK backend.  Please refer to https://wandb.me/wandb-core for more information.\n"
          ]
        },
        {
          "output_type": "display_data",
          "data": {
            "text/plain": [
              "<IPython.core.display.Javascript object>"
            ],
            "application/javascript": [
              "\n",
              "        window._wandbApiKey = new Promise((resolve, reject) => {\n",
              "            function loadScript(url) {\n",
              "            return new Promise(function(resolve, reject) {\n",
              "                let newScript = document.createElement(\"script\");\n",
              "                newScript.onerror = reject;\n",
              "                newScript.onload = resolve;\n",
              "                document.body.appendChild(newScript);\n",
              "                newScript.src = url;\n",
              "            });\n",
              "            }\n",
              "            loadScript(\"https://cdn.jsdelivr.net/npm/postmate/build/postmate.min.js\").then(() => {\n",
              "            const iframe = document.createElement('iframe')\n",
              "            iframe.style.cssText = \"width:0;height:0;border:none\"\n",
              "            document.body.appendChild(iframe)\n",
              "            const handshake = new Postmate({\n",
              "                container: iframe,\n",
              "                url: 'https://wandb.ai/authorize'\n",
              "            });\n",
              "            const timeout = setTimeout(() => reject(\"Couldn't auto authenticate\"), 5000)\n",
              "            handshake.then(function(child) {\n",
              "                child.on('authorize', data => {\n",
              "                    clearTimeout(timeout)\n",
              "                    resolve(data)\n",
              "                });\n",
              "            });\n",
              "            })\n",
              "        });\n",
              "    "
            ]
          },
          "metadata": {}
        },
        {
          "output_type": "stream",
          "name": "stderr",
          "text": [
            "\u001b[34m\u001b[1mwandb\u001b[0m: Logging into wandb.ai. (Learn how to deploy a W&B server locally: https://wandb.me/wandb-server)\n",
            "\u001b[34m\u001b[1mwandb\u001b[0m: You can find your API key in your browser here: https://wandb.ai/authorize\n",
            "wandb: Paste an API key from your profile and hit enter:"
          ]
        },
        {
          "name": "stdout",
          "output_type": "stream",
          "text": [
            " ··········\n"
          ]
        },
        {
          "output_type": "stream",
          "name": "stderr",
          "text": [
            "\u001b[34m\u001b[1mwandb\u001b[0m: \u001b[33mWARNING\u001b[0m If you're specifying your api key in code, ensure this code is not shared publicly.\n",
            "\u001b[34m\u001b[1mwandb\u001b[0m: \u001b[33mWARNING\u001b[0m Consider setting the WANDB_API_KEY environment variable, or running `wandb login` from the command line.\n",
            "\u001b[34m\u001b[1mwandb\u001b[0m: No netrc file found, creating one.\n",
            "\u001b[34m\u001b[1mwandb\u001b[0m: Appending key for api.wandb.ai to your netrc file: /root/.netrc\n",
            "\u001b[34m\u001b[1mwandb\u001b[0m: Currently logged in as: \u001b[33mvivekmahale9853\u001b[0m (\u001b[33mvivekmahale9853-self\u001b[0m) to \u001b[32mhttps://api.wandb.ai\u001b[0m. Use \u001b[1m`wandb login --relogin`\u001b[0m to force relogin\n"
          ]
        },
        {
          "output_type": "display_data",
          "data": {
            "text/plain": [
              "<IPython.core.display.HTML object>"
            ],
            "text/html": [
              "Tracking run with wandb version 0.19.8"
            ]
          },
          "metadata": {}
        },
        {
          "output_type": "display_data",
          "data": {
            "text/plain": [
              "<IPython.core.display.HTML object>"
            ],
            "text/html": [
              "Run data is saved locally in <code>/content/wandb/run-20250317_031513-hsrea9v1</code>"
            ]
          },
          "metadata": {}
        },
        {
          "output_type": "display_data",
          "data": {
            "text/plain": [
              "<IPython.core.display.HTML object>"
            ],
            "text/html": [
              "Syncing run <strong><a href='https://wandb.ai/vivekmahale9853-self/huggingface/runs/hsrea9v1' target=\"_blank\">./results</a></strong> to <a href='https://wandb.ai/vivekmahale9853-self/huggingface' target=\"_blank\">Weights & Biases</a> (<a href='https://wandb.me/developer-guide' target=\"_blank\">docs</a>)<br>"
            ]
          },
          "metadata": {}
        },
        {
          "output_type": "display_data",
          "data": {
            "text/plain": [
              "<IPython.core.display.HTML object>"
            ],
            "text/html": [
              " View project at <a href='https://wandb.ai/vivekmahale9853-self/huggingface' target=\"_blank\">https://wandb.ai/vivekmahale9853-self/huggingface</a>"
            ]
          },
          "metadata": {}
        },
        {
          "output_type": "display_data",
          "data": {
            "text/plain": [
              "<IPython.core.display.HTML object>"
            ],
            "text/html": [
              " View run at <a href='https://wandb.ai/vivekmahale9853-self/huggingface/runs/hsrea9v1' target=\"_blank\">https://wandb.ai/vivekmahale9853-self/huggingface/runs/hsrea9v1</a>"
            ]
          },
          "metadata": {}
        },
        {
          "output_type": "stream",
          "name": "stderr",
          "text": [
            "/usr/local/lib/python3.11/dist-packages/torch/_dynamo/eval_frame.py:745: UserWarning: torch.utils.checkpoint: the use_reentrant parameter should be passed explicitly. In version 2.5 we will raise an exception if use_reentrant is not passed. use_reentrant=False is recommended, but if you need to preserve the current default behavior, you can pass use_reentrant=True. Refer to docs for more details on the differences between the two variants.\n",
            "  return fn(*args, **kwargs)\n"
          ]
        },
        {
          "output_type": "display_data",
          "data": {
            "text/plain": [
              "<IPython.core.display.HTML object>"
            ],
            "text/html": [
              "\n",
              "    <div>\n",
              "      \n",
              "      <progress value='375' max='375' style='width:300px; height:20px; vertical-align: middle;'></progress>\n",
              "      [375/375 23:10, Epoch 1/1]\n",
              "    </div>\n",
              "    <table border=\"1\" class=\"dataframe\">\n",
              "  <thead>\n",
              " <tr style=\"text-align: left;\">\n",
              "      <th>Step</th>\n",
              "      <th>Training Loss</th>\n",
              "    </tr>\n",
              "  </thead>\n",
              "  <tbody>\n",
              "    <tr>\n",
              "      <td>10</td>\n",
              "      <td>1.670700</td>\n",
              "    </tr>\n",
              "    <tr>\n",
              "      <td>20</td>\n",
              "      <td>1.476000</td>\n",
              "    </tr>\n",
              "    <tr>\n",
              "      <td>30</td>\n",
              "      <td>1.451000</td>\n",
              "    </tr>\n",
              "    <tr>\n",
              "      <td>40</td>\n",
              "      <td>1.487800</td>\n",
              "    </tr>\n",
              "    <tr>\n",
              "      <td>50</td>\n",
              "      <td>1.477900</td>\n",
              "    </tr>\n",
              "    <tr>\n",
              "      <td>60</td>\n",
              "      <td>1.390500</td>\n",
              "    </tr>\n",
              "    <tr>\n",
              "      <td>70</td>\n",
              "      <td>1.494700</td>\n",
              "    </tr>\n",
              "    <tr>\n",
              "      <td>80</td>\n",
              "      <td>1.450100</td>\n",
              "    </tr>\n",
              "    <tr>\n",
              "      <td>90</td>\n",
              "      <td>1.427500</td>\n",
              "    </tr>\n",
              "    <tr>\n",
              "      <td>100</td>\n",
              "      <td>1.404300</td>\n",
              "    </tr>\n",
              "    <tr>\n",
              "      <td>110</td>\n",
              "      <td>1.414600</td>\n",
              "    </tr>\n",
              "    <tr>\n",
              "      <td>120</td>\n",
              "      <td>1.377200</td>\n",
              "    </tr>\n",
              "    <tr>\n",
              "      <td>130</td>\n",
              "      <td>1.332200</td>\n",
              "    </tr>\n",
              "    <tr>\n",
              "      <td>140</td>\n",
              "      <td>1.497200</td>\n",
              "    </tr>\n",
              "    <tr>\n",
              "      <td>150</td>\n",
              "      <td>1.346500</td>\n",
              "    </tr>\n",
              "    <tr>\n",
              "      <td>160</td>\n",
              "      <td>1.411500</td>\n",
              "    </tr>\n",
              "    <tr>\n",
              "      <td>170</td>\n",
              "      <td>1.454300</td>\n",
              "    </tr>\n",
              "    <tr>\n",
              "      <td>180</td>\n",
              "      <td>1.324500</td>\n",
              "    </tr>\n",
              "    <tr>\n",
              "      <td>190</td>\n",
              "      <td>1.419200</td>\n",
              "    </tr>\n",
              "    <tr>\n",
              "      <td>200</td>\n",
              "      <td>1.474700</td>\n",
              "    </tr>\n",
              "    <tr>\n",
              "      <td>210</td>\n",
              "      <td>1.404300</td>\n",
              "    </tr>\n",
              "    <tr>\n",
              "      <td>220</td>\n",
              "      <td>1.342200</td>\n",
              "    </tr>\n",
              "    <tr>\n",
              "      <td>230</td>\n",
              "      <td>1.360800</td>\n",
              "    </tr>\n",
              "    <tr>\n",
              "      <td>240</td>\n",
              "      <td>1.387000</td>\n",
              "    </tr>\n",
              "    <tr>\n",
              "      <td>250</td>\n",
              "      <td>1.353400</td>\n",
              "    </tr>\n",
              "    <tr>\n",
              "      <td>260</td>\n",
              "      <td>1.346000</td>\n",
              "    </tr>\n",
              "    <tr>\n",
              "      <td>270</td>\n",
              "      <td>1.465700</td>\n",
              "    </tr>\n",
              "    <tr>\n",
              "      <td>280</td>\n",
              "      <td>1.433700</td>\n",
              "    </tr>\n",
              "    <tr>\n",
              "      <td>290</td>\n",
              "      <td>1.387400</td>\n",
              "    </tr>\n",
              "    <tr>\n",
              "      <td>300</td>\n",
              "      <td>1.376400</td>\n",
              "    </tr>\n",
              "    <tr>\n",
              "      <td>310</td>\n",
              "      <td>1.395400</td>\n",
              "    </tr>\n",
              "    <tr>\n",
              "      <td>320</td>\n",
              "      <td>1.438100</td>\n",
              "    </tr>\n",
              "    <tr>\n",
              "      <td>330</td>\n",
              "      <td>1.387300</td>\n",
              "    </tr>\n",
              "    <tr>\n",
              "      <td>340</td>\n",
              "      <td>1.388400</td>\n",
              "    </tr>\n",
              "    <tr>\n",
              "      <td>350</td>\n",
              "      <td>1.313500</td>\n",
              "    </tr>\n",
              "    <tr>\n",
              "      <td>360</td>\n",
              "      <td>1.444300</td>\n",
              "    </tr>\n",
              "    <tr>\n",
              "      <td>370</td>\n",
              "      <td>1.452100</td>\n",
              "    </tr>\n",
              "  </tbody>\n",
              "</table><p>"
            ]
          },
          "metadata": {}
        }
      ]
    },
    {
      "cell_type": "markdown",
      "source": [
        "During training the loss will be printed every 10 steps according to the logging_steps parameter."
      ],
      "metadata": {
        "id": "g6GOj7k8nBTd"
      }
    },
    {
      "cell_type": "markdown",
      "source": [
        "### Merge Weights\n",
        "\n",
        "After we have trained our QLoRA weights, we still need to combine them with the original weights to use them. We reload the model in 16 bits, instead of the quantized 4 bits, to merge the weights. Although the tokenizer was not updated during training, we save it to the same folder as the model for easier access:"
      ],
      "metadata": {
        "id": "ltGA1nQrnCgA"
      }
    },
    {
      "cell_type": "code",
      "source": [
        "from peft import AutoPeftModelForCausalLM\n",
        "\n",
        "model = AutoPeftModelForCausalLM.from_pretrained(\n",
        "    \"TinyLlama-1.1B-qlora\",\n",
        "    low_cpu_mem_usage=True,\n",
        "    device_map=\"auto\",\n",
        ")\n",
        "\n",
        "# Merge LoRA and base model\n",
        "merged_model = model.merge_and_unload()"
      ],
      "metadata": {
        "id": "cECzhtGcvTf5"
      },
      "execution_count": 19,
      "outputs": []
    },
    {
      "cell_type": "code",
      "source": [
        "from transformers import pipeline\n",
        "\n",
        "# Use our predefined prompt template\n",
        "prompt = \"\"\"<|user|>\n",
        "Tell me something about Large Language Models.</s>\n",
        "<|assistant|>\n",
        "\"\"\""
      ],
      "metadata": {
        "id": "qdYSFrvRvddA"
      },
      "execution_count": 20,
      "outputs": []
    },
    {
      "cell_type": "code",
      "source": [
        "# Run our instruction-tuned model\n",
        "pipe = pipeline(task=\"text-generation\", model=merged_model, tokenizer=tokenizer)\n",
        "print(pipe(prompt)[0][\"generated_text\"])"
      ],
      "metadata": {
        "colab": {
          "base_uri": "https://localhost:8080/"
        },
        "id": "EGtQESnWvpVX",
        "outputId": "d0ddbe34-a593-4ad4-cbba-26a65f4dcb9d"
      },
      "execution_count": 21,
      "outputs": [
        {
          "output_type": "stream",
          "name": "stdout",
          "text": [
            "<|user|>\n",
            "Tell me something about Large Language Models.</s>\n",
            "<|assistant|>\n",
            "Large Language Models (LLMs) are a type of artificial intelligence (AI) that can generate human-like language. They are trained on large amounts of data, including text, audio, and video, and are capable of generating complex sentences and phrases. LLMs can be used in a variety of applications, including natural language processing (NLP), machine translation, and chatbots.\n"
          ]
        }
      ]
    },
    {
      "cell_type": "markdown",
      "source": [
        "The aggregate output shows that the model now closely follows our instructions, which is not possible with the base model."
      ],
      "metadata": {
        "id": "HYyu3TbIvsiS"
      }
    },
    {
      "cell_type": "markdown",
      "source": [
        "## Evaluating Generative Models\n"
      ],
      "metadata": {
        "id": "22EERg0kwFGE"
      }
    },
    {
      "cell_type": "markdown",
      "source": [
        "* Evaluating generative models poses a significant challenge. Generative models\n",
        "are used across many diverse use cases, making it a challenge to rely on a singular metric for judgment. Unlike more specialized models, a generative model’s ability to solve mathematical questions does not guarantee success in solving coding questions.\n",
        "\n",
        "* At the same time, evaluating these models is vital, particularly in production settings where consistency is important. Given their probabilistic nature, generative models do not necessarily generate consistent outputs; there is a need for robust evaluation."
      ],
      "metadata": {
        "id": "5tPs3_wWwGy-"
      }
    },
    {
      "cell_type": "markdown",
      "source": [
        "#### Word-Level Metrics"
      ],
      "metadata": {
        "id": "WN_5IYylVV58"
      }
    },
    {
      "cell_type": "markdown",
      "source": [
        "One common metrics category for comparing generative models is word-level evaluation. These classic techniques compare a reference dataset with the generated tokens on a token(set) level. Common word-level metrics include perplexity,8 ROUGE,9 BLEU,10 and BERTScore.11\n",
        "\n",
        "Of note is perplexity, which measures how well a language model predicts a text. Given input text, the model predicts how likely the next token is. With perplexity, we assume a model performs better if it gives the next token a high probability. In other words, the models should not be “perplexed” when presented with a well-written document."
      ],
      "metadata": {
        "id": "qhi-jqSgVlPR"
      }
    },
    {
      "cell_type": "markdown",
      "source": [
        "#### Benchmarks"
      ],
      "metadata": {
        "id": "MxqxqBWDVtpl"
      }
    },
    {
      "cell_type": "markdown",
      "source": [
        " common method for evaluating generative models on language generation and understanding tasks is on well-known and public benchmarks, such as MMLU,12 GLUE,13 TruthfulQA,14 GSM8k,15 and HellaSwag.16 These benchmarks give us information about basic language understanding but also complex analytical answering, like math problems.\n",
        "\n",
        "Aside from natural language tasks, some models specialize in other domains, like programming. These models tend to be evaluated on different benchmarks, such as HumanEval,17 which consists of challenging programming tasks for the model to solve."
      ],
      "metadata": {
        "id": "O7ASNwXzVw40"
      }
    },
    {
      "cell_type": "markdown",
      "source": [
        "1. MMLU \tThe Massive Multitask Language Understanding (MMLU) benchmark tests the model on 57 different tasks, including classification, question answering, and sentiment analysis. \thttps://oreil.ly/nrG_g\n",
        "2. GLUE \tThe General Language Understanding Evaluation (GLUE) benchmark consists of language understanding tasks covering a wide degree of difficulty. \thttps://oreil.ly/LV_fb\n",
        "3. TruthfulQA \tTruthfulQA measures the truthfulness of a model’s generated text. \thttps://oreil.ly/i2Brj\n",
        "4. GSM8k \tThe GSM8k dataset contains grade-school math word problems. It is linguistically diverse and created by human problem writers. \thttps://oreil.ly/oOBXY\n",
        "5. HellaSwag \tHellaSwag is a challenge dataset for evaluating common-sense inference. It consists of multiple-choice questions that the model needs to answer. It can select one of four answer choices for each question. \thttps://oreil.ly/aDvBP\n",
        "6. HumanEval \tThe HumanEval benchmark is used for evaluating generated code based on 164 programming problems."
      ],
      "metadata": {
        "id": "wp1_0Ws4V4xN"
      }
    },
    {
      "cell_type": "markdown",
      "source": [
        "Note: Benchmarks are a great way to get a basic understanding on how well a model performs on a wide variety of tasks. A downside to public benchmarks is that models can be overfitted to these benchmarks to generate the best responses. Moreover, these are still broad benchmarks and might not cover very specific use cases. Lastly, another downside is that some benchmarks require strong GPUs with a long running time (over hours) to compute, which makes iteration difficult."
      ],
      "metadata": {
        "id": "JtlqTgcqWIxa"
      }
    },
    {
      "cell_type": "markdown",
      "source": [
        "### Leaderboards"
      ],
      "metadata": {
        "id": "_P4F9zpWWPM9"
      }
    },
    {
      "cell_type": "markdown",
      "source": [
        "With so many different benchmarks, it is hard to choose which benchmark best suits your model. Whenever a model is released, you will often see it evaluated on several benchmarks to showcase how it performs across the board.\n",
        "\n",
        "As such, leaderboards were developed containing multiple benchmarks. A common leaderboard is the Open LLM Leaderboard, which, at the time of writing, includes six benchmarks, including HellaSwag, MMLU, TruthfulQA, and GSM8k. Models that top the leaderboard, assuming they were not overfitted on the data, are generally regarded as the “best” model. However, since these leaderboards often contain publicly available benchmarks, there is a risk of overfitting on the leaderboard."
      ],
      "metadata": {
        "id": "eeP9_KURWUWH"
      }
    },
    {
      "cell_type": "markdown",
      "source": [
        "\n",
        "\n",
        "---\n",
        "\n",
        "\n",
        "## Human Evaluation\n",
        "\n",
        "* Although benchmarks are important, the gold standard of evaluation is generally considered to be human evaluation. Even if an LLM scores well on broad benchmarks, it still might not score well on domain-specific tasks. Moreover, benchmarks do not fully capture human preference and all methods discussed before are merely proxies for that.\n",
        "\n",
        "* A great example of a human-based evaluation technique is the Chatbot Arena.19 When you go to this leaderboard you are shown two (anonymous) LLMs you can interact with. Any question or prompt you ask will be sent to both models and you will receive their output. Then, you can decide which output you prefer. This process allows for the community to vote on which models they prefer without knowing which ones are presented. Only after you vote do you see which model generated which text.\n",
        "\n",
        "* At the time of writing, this method has generated over 800,000+ human votes that were used to compute a leaderboard. These votes are used to calculate the relative skill level of LLMs based on their win rates. For instance, if a low-ranked LLM beats a high-ranked LLM, its ranking changes significantly. In chess, this is referred to as the Elo rating system.\n",
        "\n",
        "* This methodology therefore uses crowdsourced votes, which helps us understand the quality of the LLM. However, it is still the aggregated opinion of a wide variety of users, which might not relate to your use case.\n",
        "\n",
        "---\n",
        "\n",
        "As a result, there is no one perfect method of evaluating LLMs. All mentioned methodologies and benchmarks provide an important, although limited evaluation perspective. Our advice is to evaluate your LLM based on the intended use case. For coding, HumanEval would be more logical than GSM8k.\n",
        "\n",
        "But most importantly, we believe that you are the best evaluator. Human evaluation remains the gold standard because it is up to you to decide whether the LLM works for your intended use case. As with the examples in this chapter, we highly advise that you also try these models and perhaps develop some questions yourself. For example, the authors of this book are Arabic (Jay Alammar) and Dutch (Maarten Grootendorst), and we often ask questions in our native language when approached with new models.\n",
        "\n",
        "One final note on this topic is a quote we hold dear:\n",
        "\n",
        "    When a measure becomes a target, it ceases to be a good measure.\n",
        "\n",
        "    Goodhart’s Law20\n",
        "\n",
        "In the context of LLMs, when using a specific benchmark, we tend to optimize for that benchmark regardless of the consequences. For instance, if we focus purely on optimizing for generating grammatically correct sentences, the model could learn to only output one sentence: “This is a sentence.” It is grammatically correct but tells you nothing about its language understanding capabilities. Thus, the model may excel at a specific benchmark but potentially at the expense of other useful capabilities."
      ],
      "metadata": {
        "id": "fry7l-nlWZMc"
      }
    },
    {
      "cell_type": "markdown",
      "source": [
        "### Preference-Tuning / Alignment / RLHF"
      ],
      "metadata": {
        "id": "jK8QyRPkWtBv"
      }
    },
    {
      "cell_type": "markdown",
      "source": [
        "Although our model can now follow instructions, we can further improve its behavior by a final training phase that aligns it to how we expect it to behave in different scenarios. For instance, when asked “What is an LLM?” we might prefer an elaborate answer that describes the internals of an LLM compared to the answer “It is a large language model” without further explanations. How exactly do we align our (human) preference for one answer over the other with the output of an LLM?"
      ],
      "metadata": {
        "id": "ypWcKiCxWwxN"
      }
    },
    {
      "cell_type": "markdown",
      "source": [
        "1. To start with, recall that an LLM takes a prompt and outputs a generation\n",
        "2. We can ask a person (preference evaluator) to evaluate the quality of that model generation. Say they assign it a certain score\n",
        "3. a preference tuning step updating the model based on that score:\n",
        "\n",
        "  * If the score is high, the model is updated to encourage it to generate more like this type of generation.\n",
        "\n",
        "  * If the score is low, the model is updated to discourage such generations.\n",
        "\n",
        "As always, we need many training examples. So can we automate the preference evaluation? Yes, we can by training a different model called a reward model."
      ],
      "metadata": {
        "id": "aY_zH4PlW87w"
      }
    },
    {
      "cell_type": "markdown",
      "source": [
        "### Preference Tuning with DPO\n",
        "\n",
        "When we use the Hugging Face stack, preference tuning is eerily similar to the instruction tuning we covered before with some slight differences. We will still be using TinyLlama but this time an instruction-tuned version that was first trained using full fine-tuning and then further aligned with DPO. Compared to our initial instruction-tuned model, this LLM was trained on much larger datasets."
      ],
      "metadata": {
        "id": "M8h1Li9UXP4T"
      }
    },
    {
      "cell_type": "markdown",
      "source": [
        "#### Templating Alignment Data"
      ],
      "metadata": {
        "id": "0XFF3bppXYxl"
      }
    },
    {
      "cell_type": "code",
      "source": [
        "from datasets import load_dataset\n",
        "\n",
        "def format_prompt(example):\n",
        "    \"\"\"Format the prompt to using the <|user|> template TinyLLama is using\"\"\"\n",
        "\n",
        "    # Format answers\n",
        "    system = \"<|system|>\\n\" + example[\"system\"] + \"</s>\\n\"\n",
        "    prompt = \"<|user|>\\n\" + example[\"input\"] + \"</s>\\n<|assistant|>\\n\"\n",
        "    chosen = example[\"chosen\"] + \"</s>\\n\"\n",
        "    rejected = example[\"rejected\"] + \"</s>\\n\"\n",
        "\n",
        "    return {\n",
        "        \"prompt\": system + prompt,\n",
        "        \"chosen\": chosen,\n",
        "        \"rejected\": rejected,\n",
        "    }"
      ],
      "metadata": {
        "id": "DaQp4FOBXhAy"
      },
      "execution_count": 25,
      "outputs": []
    },
    {
      "cell_type": "code",
      "source": [
        "# Apply formatting to the dataset and select relatively short answers\n",
        "dpo_dataset = load_dataset(\n",
        "    \"argilla/distilabel-intel-orca-dpo-pairs\", split=\"train\"\n",
        ")\n",
        "dpo_dataset = dpo_dataset.filter(\n",
        "    lambda r:\n",
        "        r[\"status\"] != \"tie\" and\n",
        "        r[\"chosen_score\"] >= 8 and\n",
        "        not r[\"in_gsm8k_train\"]\n",
        ")\n",
        "dpo_dataset = dpo_dataset.map(\n",
        "    format_prompt,  remove_columns=dpo_dataset.column_names\n",
        ")"
      ],
      "metadata": {
        "colab": {
          "base_uri": "https://localhost:8080/",
          "height": 177,
          "referenced_widgets": [
            "94fdc5af875f4d858eedb75e92499cc3",
            "d832a4af63d84440b031edf6a83bdabe",
            "9507a51bf06c4f92a312011f4cfd30b0",
            "3ea632ac45c14fa788b9193f79f6a351",
            "8f7ec21318774254bc87caaef4768d53",
            "317105063bfe4458abe6c8071df2cf89",
            "2edf90682ff94e64b70305814ea7f34f",
            "2c2511ad9abf41528b0f4b7843a76218",
            "d8c3883d9b63442f86e66d4dc0b5cc54",
            "41baa9622ebd42f2b9508d6a35923a7d",
            "31ae032017b645ba9c2fe9ad230654ce",
            "3dc94a08708c45eba6c8256228014f27",
            "64d06e4c27e5488da923ffb1fc72b143",
            "d946056d1e3848118bccc9eb28424c59",
            "11b151179b5e4d1db1663931b9945b8e",
            "c1b9d2cb0da343bfb2125de2fea4c199",
            "ab651511244a4af0b6321b98d163e614",
            "6d2b30674a184a009975dfd1ff3c8662",
            "c45abad6d2ea43668262de1ae0427f2b",
            "44b6217835d344b88420dadf2dedebac",
            "36d81704b5c548c195abed0e4377ec3d",
            "5554b6490e494646ae4b9e9b5686f561",
            "5a31cc0771f044eb9258894c8e7f6d2e",
            "679534e010344e4bacca258039207d0a",
            "a65caa92096b4e8fb8219e9182ce4e90",
            "da6059a83fbb47b0970a9a3ed7080ce3",
            "dfbc0e24db2d43f3b4ef92a03fe62731",
            "e528595121424512a8cf37bb287cda09",
            "83f86116f83b4ecaae26e84dd64149f8",
            "43ec75e568a04a5680c4ff2d70b7b633",
            "e27a3370657c42eb86c9b8ac9d1ec0b2",
            "dc96553e1f6546a8ab1cd0d2215ca35b",
            "e587cefcd94041778c9e5daef63cf910",
            "a314edde1f7b4fa29ccb69ae8b35992b",
            "cc5f948a0007423a956914d1c65ccc31",
            "ebb48a1bfd464672b37c070a93eadb91",
            "4d1b3f5578114742ab9e9a1f2f2118dd",
            "ac4702dabf8749dbb55e7a340f7bd595",
            "1cff261d389147178db5db50e70a0dc5",
            "0c3d21b80f6a40eb991ce83a31ccb3c0",
            "430c3cb38085417eb0a4877e1c6dbc7f",
            "d3ce62ede6e44f8c84126c75ff90a47e",
            "a6d9d8446e4a4714abf176b7e1ed9fc5",
            "d8a1430d2b304ef0ba02cad9eb046416",
            "c927a6a4d94e425194693287719921fb",
            "9a7643bcba424b27b8c5a6f05a20e1f6",
            "557505831b1146a9892903cf0c4dd80a",
            "15e58d1d758849578e69b6278c22881e",
            "14e51a24555f462dba3e4f340f86eeb2",
            "86f4618a0cff42d78f3e89ee72818c59",
            "5ba9bf88a5f546b08592d643eab25aa9",
            "f1394fc4cdae4533a30a140f50ff5706",
            "705b509e4e1846beb8f9f899b3db1bb2",
            "7a22a9a9a5bd4b04b8fb483e6a71e467",
            "9b3f0591ce154770bc8340ed6607b9e8"
          ]
        },
        "id": "lqgTy5fmXlfl",
        "outputId": "1cdc9e11-9fcb-4248-9de4-2596e322158b"
      },
      "execution_count": 26,
      "outputs": [
        {
          "output_type": "display_data",
          "data": {
            "text/plain": [
              "README.md:   0%|          | 0.00/10.1k [00:00<?, ?B/s]"
            ],
            "application/vnd.jupyter.widget-view+json": {
              "version_major": 2,
              "version_minor": 0,
              "model_id": "94fdc5af875f4d858eedb75e92499cc3"
            }
          },
          "metadata": {}
        },
        {
          "output_type": "display_data",
          "data": {
            "text/plain": [
              "train-00000-of-00001.parquet:   0%|          | 0.00/79.2M [00:00<?, ?B/s]"
            ],
            "application/vnd.jupyter.widget-view+json": {
              "version_major": 2,
              "version_minor": 0,
              "model_id": "3dc94a08708c45eba6c8256228014f27"
            }
          },
          "metadata": {}
        },
        {
          "output_type": "display_data",
          "data": {
            "text/plain": [
              "Generating train split:   0%|          | 0/12859 [00:00<?, ? examples/s]"
            ],
            "application/vnd.jupyter.widget-view+json": {
              "version_major": 2,
              "version_minor": 0,
              "model_id": "5a31cc0771f044eb9258894c8e7f6d2e"
            }
          },
          "metadata": {}
        },
        {
          "output_type": "display_data",
          "data": {
            "text/plain": [
              "Filter:   0%|          | 0/12859 [00:00<?, ? examples/s]"
            ],
            "application/vnd.jupyter.widget-view+json": {
              "version_major": 2,
              "version_minor": 0,
              "model_id": "a314edde1f7b4fa29ccb69ae8b35992b"
            }
          },
          "metadata": {}
        },
        {
          "output_type": "display_data",
          "data": {
            "text/plain": [
              "Map:   0%|          | 0/5922 [00:00<?, ? examples/s]"
            ],
            "application/vnd.jupyter.widget-view+json": {
              "version_major": 2,
              "version_minor": 0,
              "model_id": "c927a6a4d94e425194693287719921fb"
            }
          },
          "metadata": {}
        }
      ]
    },
    {
      "cell_type": "code",
      "source": [
        "dpo_dataset"
      ],
      "metadata": {
        "colab": {
          "base_uri": "https://localhost:8080/"
        },
        "id": "E_hJrsi2Xq3H",
        "outputId": "395b6c86-24e2-4b11-b3b9-ca41b11a06ed"
      },
      "execution_count": 27,
      "outputs": [
        {
          "output_type": "execute_result",
          "data": {
            "text/plain": [
              "Dataset({\n",
              "    features: ['chosen', 'rejected', 'prompt'],\n",
              "    num_rows: 5922\n",
              "})"
            ]
          },
          "metadata": {},
          "execution_count": 27
        }
      ]
    },
    {
      "cell_type": "markdown",
      "source": [
        "#### Model Quantization\n",
        "\n",
        "We load our base model and load it with the LoRA we created previously. As before, we quantize the model to reduce the necessary VRAM for training:"
      ],
      "metadata": {
        "id": "9eU7fkVHXvSl"
      }
    },
    {
      "cell_type": "code",
      "source": [
        "from peft import AutoPeftModelForCausalLM\n",
        "from transformers import BitsAndBytesConfig, AutoTokenizer"
      ],
      "metadata": {
        "id": "rYxFefrIX7L8"
      },
      "execution_count": 28,
      "outputs": []
    },
    {
      "cell_type": "code",
      "source": [
        "!pip install bitsandbytes==0.43.2 -q"
      ],
      "metadata": {
        "colab": {
          "base_uri": "https://localhost:8080/"
        },
        "id": "qvnO4jntYXCS",
        "outputId": "f8bab57d-529f-48db-d8d2-c792ebe9f4a4"
      },
      "execution_count": 34,
      "outputs": [
        {
          "output_type": "stream",
          "name": "stdout",
          "text": [
            "\u001b[2K   \u001b[90m━━━━━━━━━━━━━━━━━━━━━━━━━━━━━━━━━━━━━━━━\u001b[0m \u001b[32m137.5/137.5 MB\u001b[0m \u001b[31m9.2 MB/s\u001b[0m eta \u001b[36m0:00:00\u001b[0m\n",
            "\u001b[?25h"
          ]
        }
      ]
    },
    {
      "cell_type": "code",
      "source": [
        "# 4-bit quantization configuration - Q in QLoRA\n",
        "bnb_config = BitsAndBytesConfig(\n",
        "    load_in_4bit=True,  # Use 4-bit precision model loading\n",
        "    bnb_4bit_quant_type=\"nf4\",  # Quantization type\n",
        "    bnb_4bit_compute_dtype=\"float16\",  # Compute dtype\n",
        "    bnb_4bit_use_double_quant=True,  # Apply nested quantization\n",
        ")\n",
        "\n",
        "# Merge LoRA and base model\n",
        "model = AutoPeftModelForCausalLM.from_pretrained(\n",
        "    \"TinyLlama-1.1B-qlora\",\n",
        "    low_cpu_mem_usage=True,\n",
        "    device_map=\"auto\",\n",
        "    quantization_config=bnb_config,\n",
        ")\n",
        "merged_model = model.merge_and_unload()"
      ],
      "metadata": {
        "colab": {
          "base_uri": "https://localhost:8080/"
        },
        "id": "QlzfvIwLX-jw",
        "outputId": "034044f5-f156-4ba7-eadf-53f8ef41df32"
      },
      "execution_count": 35,
      "outputs": [
        {
          "output_type": "stream",
          "name": "stderr",
          "text": [
            "/usr/local/lib/python3.11/dist-packages/peft/tuners/lora/bnb.py:355: UserWarning: Merge lora module to 4-bit linear may get different generations due to rounding errors.\n",
            "  )\n"
          ]
        }
      ]
    },
    {
      "cell_type": "code",
      "source": [
        "# Load LLaMA tokenizer\n",
        "model_name = \"TinyLlama/TinyLlama-1.1B-intermediate-step-1431k-3T\"\n",
        "tokenizer = AutoTokenizer.from_pretrained(model_name, trust_remote_code=True)\n",
        "tokenizer.pad_token = \"<PAD>\"\n",
        "tokenizer.padding_side = \"left\""
      ],
      "metadata": {
        "id": "GbtGWxwqX--s"
      },
      "execution_count": 36,
      "outputs": []
    },
    {
      "cell_type": "code",
      "source": [
        "# Next, we use the same LoRA configuration as before to perform the DPO training:\n",
        "\n",
        "from peft import LoraConfig, prepare_model_for_kbit_training, get_peft_model\n",
        "\n",
        "# Prepare LoRA configuration\n",
        "peft_config = LoraConfig(\n",
        "    lora_alpha=32,  # LoRA Scaling\n",
        "    lora_dropout=0.1,  # Dropout for LoRA Layers\n",
        "    r=64,  # Rank\n",
        "    bias=\"none\",\n",
        "    task_type=\"CAUSAL_LM\",\n",
        "    target_modules=  # Layers to target\n",
        "     [\"k_proj\", \"gate_proj\", \"v_proj\", \"up_proj\", \"q_proj\", \"o_proj\", \"down_proj\"]\n",
        ")"
      ],
      "metadata": {
        "id": "Y9nJCXbSZFs7"
      },
      "execution_count": 37,
      "outputs": []
    },
    {
      "cell_type": "code",
      "source": [
        "# prepare model for training\n",
        "model = prepare_model_for_kbit_training(model)\n",
        "model = get_peft_model(model, peft_config)"
      ],
      "metadata": {
        "id": "biRJuMkEZMD-"
      },
      "execution_count": 38,
      "outputs": []
    },
    {
      "cell_type": "markdown",
      "source": [
        "### Training Configuration\n",
        "\n",
        "For the sake of simplicity, we will use the same training arguments as we did before with one difference. Instead of running for a single epoch (which can take up to two hours), we run for 200 steps instead for illustration purposes. Moreover, we added the warmup_ratio parameter, which increases the learning rate from 0 to the learning_rate value we set for the first 10% of steps. By maintaining a small learning rate at the start (i.e., warmup period), we allow the model to adjust to the data before applying larger learning rates, therefore avoiding harmful divergence:"
      ],
      "metadata": {
        "id": "GDuF1DSxZQFO"
      }
    },
    {
      "cell_type": "code",
      "source": [
        "from trl import DPOConfig\n",
        "\n",
        "output_dir = \"./results\"\n",
        "\n",
        "# Training arguments\n",
        "training_arguments = DPOConfig(\n",
        "    output_dir=output_dir,\n",
        "    per_device_train_batch_size=2,\n",
        "    gradient_accumulation_steps=4,\n",
        "    optim=\"paged_adamw_32bit\",\n",
        "    learning_rate=1e-5,\n",
        "    lr_scheduler_type=\"cosine\",\n",
        "    max_steps=200,\n",
        "    logging_steps=10,\n",
        "    fp16=True,\n",
        "    gradient_checkpointing=True,\n",
        "    warmup_ratio=0.1\n",
        ")"
      ],
      "metadata": {
        "id": "xKufqQS0ZX1v"
      },
      "execution_count": 39,
      "outputs": []
    },
    {
      "cell_type": "markdown",
      "source": [
        "### Training\n",
        "\n",
        "Now that we have prepared all our models and parameters, we can start fine-tuning our model:"
      ],
      "metadata": {
        "id": "f5bhAub9ZroX"
      }
    },
    {
      "cell_type": "code",
      "source": [
        "from trl import DPOTrainer\n",
        "\n",
        "# Create DPO trainer\n",
        "dpo_trainer = DPOTrainer(\n",
        "    model,\n",
        "    args=training_arguments,\n",
        "    train_dataset=dpo_dataset,\n",
        "    tokenizer=tokenizer,\n",
        "    peft_config=peft_config,\n",
        "    beta=0.1,\n",
        "    max_prompt_length=512,\n",
        "    max_length=512,\n",
        ")"
      ],
      "metadata": {
        "colab": {
          "base_uri": "https://localhost:8080/",
          "height": 295,
          "referenced_widgets": [
            "c03810e5d454480386907311ec043382",
            "e1388d516d684416bcf32760e9d5d11e",
            "5047a87ec4524f0b86073d2fa8601f17",
            "3e92d126b49741c48ab6a3d5acf78fdb",
            "064a49aef2ce42f9adaaa5e5f51c4d6d",
            "45742ce514e849c7b713d212768f8f89",
            "e35bad87b4a449fa8abea73f5d055462",
            "52f80de768c04137a72339b818d656bb",
            "aec78b4d3bfc48c5af02253b69994e1a",
            "29ae870b07304fb4a89a2c29f241e9c3",
            "2822012774c246a88ef82961d6c137e9"
          ]
        },
        "id": "SfBglIaGZiYl",
        "outputId": "175a468c-3ec4-449d-fd36-767765709425"
      },
      "execution_count": 40,
      "outputs": [
        {
          "output_type": "stream",
          "name": "stderr",
          "text": [
            "/usr/local/lib/python3.11/dist-packages/huggingface_hub/utils/_deprecation.py:100: FutureWarning: Deprecated argument(s) used in '__init__': max_prompt_length, max_length. Will not be supported from version '1.0.0'.\n",
            "\n",
            "Deprecated positional argument(s) used in DPOTrainer, please use the DPOConfig to set these arguments instead.\n",
            "  warnings.warn(message, FutureWarning)\n",
            "/usr/local/lib/python3.11/dist-packages/peft/tuners/lora/bnb.py:355: UserWarning: Merge lora module to 4-bit linear may get different generations due to rounding errors.\n",
            "  )\n",
            "/usr/local/lib/python3.11/dist-packages/trl/trainer/dpo_trainer.py:358: UserWarning: You passed `max_length` to the DPOTrainer, the value you passed will override the one in the `DPOConfig`.\n",
            "  warnings.warn(\n",
            "/usr/local/lib/python3.11/dist-packages/trl/trainer/dpo_trainer.py:371: UserWarning: You passed `max_prompt_length` to the DPOTrainer, the value you passed will override the one in the `DPOConfig`.\n",
            "  warnings.warn(\n",
            "/usr/local/lib/python3.11/dist-packages/trl/trainer/dpo_trainer.py:411: UserWarning: When using DPODataCollatorWithPadding, you should set `remove_unused_columns=False` in your TrainingArguments we have set it for you, but you should do it yourself in the future.\n",
            "  warnings.warn(\n"
          ]
        },
        {
          "output_type": "display_data",
          "data": {
            "text/plain": [
              "Map:   0%|          | 0/5922 [00:00<?, ? examples/s]"
            ],
            "application/vnd.jupyter.widget-view+json": {
              "version_major": 2,
              "version_minor": 0,
              "model_id": "c03810e5d454480386907311ec043382"
            }
          },
          "metadata": {}
        },
        {
          "output_type": "stream",
          "name": "stderr",
          "text": [
            "max_steps is given, it will override any value given in num_train_epochs\n"
          ]
        }
      ]
    },
    {
      "cell_type": "code",
      "source": [
        "# Fine-tune model with DPO\n",
        "dpo_trainer.train()\n",
        "\n",
        "# Save adapter\n",
        "dpo_trainer.model.save_pretrained(\"TinyLlama-1.1B-dpo-qlora\")"
      ],
      "metadata": {
        "colab": {
          "base_uri": "https://localhost:8080/",
          "height": 809
        },
        "id": "ogQu9IDAZvsu",
        "outputId": "30f43253-0ebf-4e20-a885-9dedcbc4ff5a"
      },
      "execution_count": 41,
      "outputs": [
        {
          "output_type": "stream",
          "name": "stderr",
          "text": [
            "/usr/local/lib/python3.11/dist-packages/torch/_dynamo/eval_frame.py:745: UserWarning: torch.utils.checkpoint: the use_reentrant parameter should be passed explicitly. In version 2.5 we will raise an exception if use_reentrant is not passed. use_reentrant=False is recommended, but if you need to preserve the current default behavior, you can pass use_reentrant=True. Refer to docs for more details on the differences between the two variants.\n",
            "  return fn(*args, **kwargs)\n",
            "/usr/local/lib/python3.11/dist-packages/torch/utils/checkpoint.py:87: UserWarning: None of the inputs have requires_grad=True. Gradients will be None\n",
            "  warnings.warn(\n",
            "Could not estimate the number of tokens of the input, floating-point operations will not be computed\n"
          ]
        },
        {
          "output_type": "display_data",
          "data": {
            "text/plain": [
              "<IPython.core.display.HTML object>"
            ],
            "text/html": [
              "\n",
              "    <div>\n",
              "      \n",
              "      <progress value='200' max='200' style='width:300px; height:20px; vertical-align: middle;'></progress>\n",
              "      [200/200 20:33, Epoch 0/1]\n",
              "    </div>\n",
              "    <table border=\"1\" class=\"dataframe\">\n",
              "  <thead>\n",
              " <tr style=\"text-align: left;\">\n",
              "      <th>Step</th>\n",
              "      <th>Training Loss</th>\n",
              "    </tr>\n",
              "  </thead>\n",
              "  <tbody>\n",
              "    <tr>\n",
              "      <td>10</td>\n",
              "      <td>0.692200</td>\n",
              "    </tr>\n",
              "    <tr>\n",
              "      <td>20</td>\n",
              "      <td>0.677900</td>\n",
              "    </tr>\n",
              "    <tr>\n",
              "      <td>30</td>\n",
              "      <td>0.645300</td>\n",
              "    </tr>\n",
              "    <tr>\n",
              "      <td>40</td>\n",
              "      <td>0.607800</td>\n",
              "    </tr>\n",
              "    <tr>\n",
              "      <td>50</td>\n",
              "      <td>0.597100</td>\n",
              "    </tr>\n",
              "    <tr>\n",
              "      <td>60</td>\n",
              "      <td>0.617200</td>\n",
              "    </tr>\n",
              "    <tr>\n",
              "      <td>70</td>\n",
              "      <td>0.594000</td>\n",
              "    </tr>\n",
              "    <tr>\n",
              "      <td>80</td>\n",
              "      <td>0.532200</td>\n",
              "    </tr>\n",
              "    <tr>\n",
              "      <td>90</td>\n",
              "      <td>0.558700</td>\n",
              "    </tr>\n",
              "    <tr>\n",
              "      <td>100</td>\n",
              "      <td>0.636900</td>\n",
              "    </tr>\n",
              "    <tr>\n",
              "      <td>110</td>\n",
              "      <td>0.497000</td>\n",
              "    </tr>\n",
              "    <tr>\n",
              "      <td>120</td>\n",
              "      <td>0.585900</td>\n",
              "    </tr>\n",
              "    <tr>\n",
              "      <td>130</td>\n",
              "      <td>0.629600</td>\n",
              "    </tr>\n",
              "    <tr>\n",
              "      <td>140</td>\n",
              "      <td>0.589200</td>\n",
              "    </tr>\n",
              "    <tr>\n",
              "      <td>150</td>\n",
              "      <td>0.577200</td>\n",
              "    </tr>\n",
              "    <tr>\n",
              "      <td>160</td>\n",
              "      <td>0.589400</td>\n",
              "    </tr>\n",
              "    <tr>\n",
              "      <td>170</td>\n",
              "      <td>0.607700</td>\n",
              "    </tr>\n",
              "    <tr>\n",
              "      <td>180</td>\n",
              "      <td>0.626600</td>\n",
              "    </tr>\n",
              "    <tr>\n",
              "      <td>190</td>\n",
              "      <td>0.672500</td>\n",
              "    </tr>\n",
              "    <tr>\n",
              "      <td>200</td>\n",
              "      <td>0.553300</td>\n",
              "    </tr>\n",
              "  </tbody>\n",
              "</table><p>"
            ]
          },
          "metadata": {}
        }
      ]
    },
    {
      "cell_type": "code",
      "source": [
        "# We have created a second adapter. To merge both adapters, we iteratively merge the adapters with the base model:\n",
        "\n",
        "from peft import PeftModel\n",
        "\n",
        "# Merge LoRA and base model\n",
        "model = AutoPeftModelForCausalLM.from_pretrained(\n",
        "    \"TinyLlama-1.1B-qlora\",\n",
        "    low_cpu_mem_usage=True,\n",
        "    device_map=\"auto\",\n",
        ")\n",
        "sft_model = model.merge_and_unload()"
      ],
      "metadata": {
        "id": "qOX7YmBvaAAx"
      },
      "execution_count": 42,
      "outputs": []
    },
    {
      "cell_type": "code",
      "source": [
        "# Merge DPO LoRA and SFT model\n",
        "dpo_model = PeftModel.from_pretrained(\n",
        "    sft_model,\n",
        "    \"TinyLlama-1.1B-dpo-qlora\",\n",
        "    device_map=\"auto\",\n",
        ")\n",
        "dpo_model = dpo_model.merge_and_unload()"
      ],
      "metadata": {
        "colab": {
          "base_uri": "https://localhost:8080/"
        },
        "id": "ph_fcVhcaTAV",
        "outputId": "65f91d50-3e7e-4342-b608-a12052c1c351"
      },
      "execution_count": 43,
      "outputs": [
        {
          "output_type": "stream",
          "name": "stderr",
          "text": [
            "/usr/local/lib/python3.11/dist-packages/peft/peft_model.py:599: UserWarning: Found missing adapter keys while loading the checkpoint: ['base_model.model.model.layers.0.self_attn.q_proj.lora_A.default.weight', 'base_model.model.model.layers.0.self_attn.q_proj.lora_B.default.weight', 'base_model.model.model.layers.0.self_attn.k_proj.lora_A.default.weight', 'base_model.model.model.layers.0.self_attn.k_proj.lora_B.default.weight', 'base_model.model.model.layers.0.self_attn.v_proj.lora_A.default.weight', 'base_model.model.model.layers.0.self_attn.v_proj.lora_B.default.weight', 'base_model.model.model.layers.0.self_attn.o_proj.lora_A.default.weight', 'base_model.model.model.layers.0.self_attn.o_proj.lora_B.default.weight', 'base_model.model.model.layers.0.mlp.gate_proj.lora_A.default.weight', 'base_model.model.model.layers.0.mlp.gate_proj.lora_B.default.weight', 'base_model.model.model.layers.0.mlp.up_proj.lora_A.default.weight', 'base_model.model.model.layers.0.mlp.up_proj.lora_B.default.weight', 'base_model.model.model.layers.0.mlp.down_proj.lora_A.default.weight', 'base_model.model.model.layers.0.mlp.down_proj.lora_B.default.weight', 'base_model.model.model.layers.1.self_attn.q_proj.lora_A.default.weight', 'base_model.model.model.layers.1.self_attn.q_proj.lora_B.default.weight', 'base_model.model.model.layers.1.self_attn.k_proj.lora_A.default.weight', 'base_model.model.model.layers.1.self_attn.k_proj.lora_B.default.weight', 'base_model.model.model.layers.1.self_attn.v_proj.lora_A.default.weight', 'base_model.model.model.layers.1.self_attn.v_proj.lora_B.default.weight', 'base_model.model.model.layers.1.self_attn.o_proj.lora_A.default.weight', 'base_model.model.model.layers.1.self_attn.o_proj.lora_B.default.weight', 'base_model.model.model.layers.1.mlp.gate_proj.lora_A.default.weight', 'base_model.model.model.layers.1.mlp.gate_proj.lora_B.default.weight', 'base_model.model.model.layers.1.mlp.up_proj.lora_A.default.weight', 'base_model.model.model.layers.1.mlp.up_proj.lora_B.default.weight', 'base_model.model.model.layers.1.mlp.down_proj.lora_A.default.weight', 'base_model.model.model.layers.1.mlp.down_proj.lora_B.default.weight', 'base_model.model.model.layers.2.self_attn.q_proj.lora_A.default.weight', 'base_model.model.model.layers.2.self_attn.q_proj.lora_B.default.weight', 'base_model.model.model.layers.2.self_attn.k_proj.lora_A.default.weight', 'base_model.model.model.layers.2.self_attn.k_proj.lora_B.default.weight', 'base_model.model.model.layers.2.self_attn.v_proj.lora_A.default.weight', 'base_model.model.model.layers.2.self_attn.v_proj.lora_B.default.weight', 'base_model.model.model.layers.2.self_attn.o_proj.lora_A.default.weight', 'base_model.model.model.layers.2.self_attn.o_proj.lora_B.default.weight', 'base_model.model.model.layers.2.mlp.gate_proj.lora_A.default.weight', 'base_model.model.model.layers.2.mlp.gate_proj.lora_B.default.weight', 'base_model.model.model.layers.2.mlp.up_proj.lora_A.default.weight', 'base_model.model.model.layers.2.mlp.up_proj.lora_B.default.weight', 'base_model.model.model.layers.2.mlp.down_proj.lora_A.default.weight', 'base_model.model.model.layers.2.mlp.down_proj.lora_B.default.weight', 'base_model.model.model.layers.3.self_attn.q_proj.lora_A.default.weight', 'base_model.model.model.layers.3.self_attn.q_proj.lora_B.default.weight', 'base_model.model.model.layers.3.self_attn.k_proj.lora_A.default.weight', 'base_model.model.model.layers.3.self_attn.k_proj.lora_B.default.weight', 'base_model.model.model.layers.3.self_attn.v_proj.lora_A.default.weight', 'base_model.model.model.layers.3.self_attn.v_proj.lora_B.default.weight', 'base_model.model.model.layers.3.self_attn.o_proj.lora_A.default.weight', 'base_model.model.model.layers.3.self_attn.o_proj.lora_B.default.weight', 'base_model.model.model.layers.3.mlp.gate_proj.lora_A.default.weight', 'base_model.model.model.layers.3.mlp.gate_proj.lora_B.default.weight', 'base_model.model.model.layers.3.mlp.up_proj.lora_A.default.weight', 'base_model.model.model.layers.3.mlp.up_proj.lora_B.default.weight', 'base_model.model.model.layers.3.mlp.down_proj.lora_A.default.weight', 'base_model.model.model.layers.3.mlp.down_proj.lora_B.default.weight', 'base_model.model.model.layers.4.self_attn.q_proj.lora_A.default.weight', 'base_model.model.model.layers.4.self_attn.q_proj.lora_B.default.weight', 'base_model.model.model.layers.4.self_attn.k_proj.lora_A.default.weight', 'base_model.model.model.layers.4.self_attn.k_proj.lora_B.default.weight', 'base_model.model.model.layers.4.self_attn.v_proj.lora_A.default.weight', 'base_model.model.model.layers.4.self_attn.v_proj.lora_B.default.weight', 'base_model.model.model.layers.4.self_attn.o_proj.lora_A.default.weight', 'base_model.model.model.layers.4.self_attn.o_proj.lora_B.default.weight', 'base_model.model.model.layers.4.mlp.gate_proj.lora_A.default.weight', 'base_model.model.model.layers.4.mlp.gate_proj.lora_B.default.weight', 'base_model.model.model.layers.4.mlp.up_proj.lora_A.default.weight', 'base_model.model.model.layers.4.mlp.up_proj.lora_B.default.weight', 'base_model.model.model.layers.4.mlp.down_proj.lora_A.default.weight', 'base_model.model.model.layers.4.mlp.down_proj.lora_B.default.weight', 'base_model.model.model.layers.5.self_attn.q_proj.lora_A.default.weight', 'base_model.model.model.layers.5.self_attn.q_proj.lora_B.default.weight', 'base_model.model.model.layers.5.self_attn.k_proj.lora_A.default.weight', 'base_model.model.model.layers.5.self_attn.k_proj.lora_B.default.weight', 'base_model.model.model.layers.5.self_attn.v_proj.lora_A.default.weight', 'base_model.model.model.layers.5.self_attn.v_proj.lora_B.default.weight', 'base_model.model.model.layers.5.self_attn.o_proj.lora_A.default.weight', 'base_model.model.model.layers.5.self_attn.o_proj.lora_B.default.weight', 'base_model.model.model.layers.5.mlp.gate_proj.lora_A.default.weight', 'base_model.model.model.layers.5.mlp.gate_proj.lora_B.default.weight', 'base_model.model.model.layers.5.mlp.up_proj.lora_A.default.weight', 'base_model.model.model.layers.5.mlp.up_proj.lora_B.default.weight', 'base_model.model.model.layers.5.mlp.down_proj.lora_A.default.weight', 'base_model.model.model.layers.5.mlp.down_proj.lora_B.default.weight', 'base_model.model.model.layers.6.self_attn.q_proj.lora_A.default.weight', 'base_model.model.model.layers.6.self_attn.q_proj.lora_B.default.weight', 'base_model.model.model.layers.6.self_attn.k_proj.lora_A.default.weight', 'base_model.model.model.layers.6.self_attn.k_proj.lora_B.default.weight', 'base_model.model.model.layers.6.self_attn.v_proj.lora_A.default.weight', 'base_model.model.model.layers.6.self_attn.v_proj.lora_B.default.weight', 'base_model.model.model.layers.6.self_attn.o_proj.lora_A.default.weight', 'base_model.model.model.layers.6.self_attn.o_proj.lora_B.default.weight', 'base_model.model.model.layers.6.mlp.gate_proj.lora_A.default.weight', 'base_model.model.model.layers.6.mlp.gate_proj.lora_B.default.weight', 'base_model.model.model.layers.6.mlp.up_proj.lora_A.default.weight', 'base_model.model.model.layers.6.mlp.up_proj.lora_B.default.weight', 'base_model.model.model.layers.6.mlp.down_proj.lora_A.default.weight', 'base_model.model.model.layers.6.mlp.down_proj.lora_B.default.weight', 'base_model.model.model.layers.7.self_attn.q_proj.lora_A.default.weight', 'base_model.model.model.layers.7.self_attn.q_proj.lora_B.default.weight', 'base_model.model.model.layers.7.self_attn.k_proj.lora_A.default.weight', 'base_model.model.model.layers.7.self_attn.k_proj.lora_B.default.weight', 'base_model.model.model.layers.7.self_attn.v_proj.lora_A.default.weight', 'base_model.model.model.layers.7.self_attn.v_proj.lora_B.default.weight', 'base_model.model.model.layers.7.self_attn.o_proj.lora_A.default.weight', 'base_model.model.model.layers.7.self_attn.o_proj.lora_B.default.weight', 'base_model.model.model.layers.7.mlp.gate_proj.lora_A.default.weight', 'base_model.model.model.layers.7.mlp.gate_proj.lora_B.default.weight', 'base_model.model.model.layers.7.mlp.up_proj.lora_A.default.weight', 'base_model.model.model.layers.7.mlp.up_proj.lora_B.default.weight', 'base_model.model.model.layers.7.mlp.down_proj.lora_A.default.weight', 'base_model.model.model.layers.7.mlp.down_proj.lora_B.default.weight', 'base_model.model.model.layers.8.self_attn.q_proj.lora_A.default.weight', 'base_model.model.model.layers.8.self_attn.q_proj.lora_B.default.weight', 'base_model.model.model.layers.8.self_attn.k_proj.lora_A.default.weight', 'base_model.model.model.layers.8.self_attn.k_proj.lora_B.default.weight', 'base_model.model.model.layers.8.self_attn.v_proj.lora_A.default.weight', 'base_model.model.model.layers.8.self_attn.v_proj.lora_B.default.weight', 'base_model.model.model.layers.8.self_attn.o_proj.lora_A.default.weight', 'base_model.model.model.layers.8.self_attn.o_proj.lora_B.default.weight', 'base_model.model.model.layers.8.mlp.gate_proj.lora_A.default.weight', 'base_model.model.model.layers.8.mlp.gate_proj.lora_B.default.weight', 'base_model.model.model.layers.8.mlp.up_proj.lora_A.default.weight', 'base_model.model.model.layers.8.mlp.up_proj.lora_B.default.weight', 'base_model.model.model.layers.8.mlp.down_proj.lora_A.default.weight', 'base_model.model.model.layers.8.mlp.down_proj.lora_B.default.weight', 'base_model.model.model.layers.9.self_attn.q_proj.lora_A.default.weight', 'base_model.model.model.layers.9.self_attn.q_proj.lora_B.default.weight', 'base_model.model.model.layers.9.self_attn.k_proj.lora_A.default.weight', 'base_model.model.model.layers.9.self_attn.k_proj.lora_B.default.weight', 'base_model.model.model.layers.9.self_attn.v_proj.lora_A.default.weight', 'base_model.model.model.layers.9.self_attn.v_proj.lora_B.default.weight', 'base_model.model.model.layers.9.self_attn.o_proj.lora_A.default.weight', 'base_model.model.model.layers.9.self_attn.o_proj.lora_B.default.weight', 'base_model.model.model.layers.9.mlp.gate_proj.lora_A.default.weight', 'base_model.model.model.layers.9.mlp.gate_proj.lora_B.default.weight', 'base_model.model.model.layers.9.mlp.up_proj.lora_A.default.weight', 'base_model.model.model.layers.9.mlp.up_proj.lora_B.default.weight', 'base_model.model.model.layers.9.mlp.down_proj.lora_A.default.weight', 'base_model.model.model.layers.9.mlp.down_proj.lora_B.default.weight', 'base_model.model.model.layers.10.self_attn.q_proj.lora_A.default.weight', 'base_model.model.model.layers.10.self_attn.q_proj.lora_B.default.weight', 'base_model.model.model.layers.10.self_attn.k_proj.lora_A.default.weight', 'base_model.model.model.layers.10.self_attn.k_proj.lora_B.default.weight', 'base_model.model.model.layers.10.self_attn.v_proj.lora_A.default.weight', 'base_model.model.model.layers.10.self_attn.v_proj.lora_B.default.weight', 'base_model.model.model.layers.10.self_attn.o_proj.lora_A.default.weight', 'base_model.model.model.layers.10.self_attn.o_proj.lora_B.default.weight', 'base_model.model.model.layers.10.mlp.gate_proj.lora_A.default.weight', 'base_model.model.model.layers.10.mlp.gate_proj.lora_B.default.weight', 'base_model.model.model.layers.10.mlp.up_proj.lora_A.default.weight', 'base_model.model.model.layers.10.mlp.up_proj.lora_B.default.weight', 'base_model.model.model.layers.10.mlp.down_proj.lora_A.default.weight', 'base_model.model.model.layers.10.mlp.down_proj.lora_B.default.weight', 'base_model.model.model.layers.11.self_attn.q_proj.lora_A.default.weight', 'base_model.model.model.layers.11.self_attn.q_proj.lora_B.default.weight', 'base_model.model.model.layers.11.self_attn.k_proj.lora_A.default.weight', 'base_model.model.model.layers.11.self_attn.k_proj.lora_B.default.weight', 'base_model.model.model.layers.11.self_attn.v_proj.lora_A.default.weight', 'base_model.model.model.layers.11.self_attn.v_proj.lora_B.default.weight', 'base_model.model.model.layers.11.self_attn.o_proj.lora_A.default.weight', 'base_model.model.model.layers.11.self_attn.o_proj.lora_B.default.weight', 'base_model.model.model.layers.11.mlp.gate_proj.lora_A.default.weight', 'base_model.model.model.layers.11.mlp.gate_proj.lora_B.default.weight', 'base_model.model.model.layers.11.mlp.up_proj.lora_A.default.weight', 'base_model.model.model.layers.11.mlp.up_proj.lora_B.default.weight', 'base_model.model.model.layers.11.mlp.down_proj.lora_A.default.weight', 'base_model.model.model.layers.11.mlp.down_proj.lora_B.default.weight', 'base_model.model.model.layers.12.self_attn.q_proj.lora_A.default.weight', 'base_model.model.model.layers.12.self_attn.q_proj.lora_B.default.weight', 'base_model.model.model.layers.12.self_attn.k_proj.lora_A.default.weight', 'base_model.model.model.layers.12.self_attn.k_proj.lora_B.default.weight', 'base_model.model.model.layers.12.self_attn.v_proj.lora_A.default.weight', 'base_model.model.model.layers.12.self_attn.v_proj.lora_B.default.weight', 'base_model.model.model.layers.12.self_attn.o_proj.lora_A.default.weight', 'base_model.model.model.layers.12.self_attn.o_proj.lora_B.default.weight', 'base_model.model.model.layers.12.mlp.gate_proj.lora_A.default.weight', 'base_model.model.model.layers.12.mlp.gate_proj.lora_B.default.weight', 'base_model.model.model.layers.12.mlp.up_proj.lora_A.default.weight', 'base_model.model.model.layers.12.mlp.up_proj.lora_B.default.weight', 'base_model.model.model.layers.12.mlp.down_proj.lora_A.default.weight', 'base_model.model.model.layers.12.mlp.down_proj.lora_B.default.weight', 'base_model.model.model.layers.13.self_attn.q_proj.lora_A.default.weight', 'base_model.model.model.layers.13.self_attn.q_proj.lora_B.default.weight', 'base_model.model.model.layers.13.self_attn.k_proj.lora_A.default.weight', 'base_model.model.model.layers.13.self_attn.k_proj.lora_B.default.weight', 'base_model.model.model.layers.13.self_attn.v_proj.lora_A.default.weight', 'base_model.model.model.layers.13.self_attn.v_proj.lora_B.default.weight', 'base_model.model.model.layers.13.self_attn.o_proj.lora_A.default.weight', 'base_model.model.model.layers.13.self_attn.o_proj.lora_B.default.weight', 'base_model.model.model.layers.13.mlp.gate_proj.lora_A.default.weight', 'base_model.model.model.layers.13.mlp.gate_proj.lora_B.default.weight', 'base_model.model.model.layers.13.mlp.up_proj.lora_A.default.weight', 'base_model.model.model.layers.13.mlp.up_proj.lora_B.default.weight', 'base_model.model.model.layers.13.mlp.down_proj.lora_A.default.weight', 'base_model.model.model.layers.13.mlp.down_proj.lora_B.default.weight', 'base_model.model.model.layers.14.self_attn.q_proj.lora_A.default.weight', 'base_model.model.model.layers.14.self_attn.q_proj.lora_B.default.weight', 'base_model.model.model.layers.14.self_attn.k_proj.lora_A.default.weight', 'base_model.model.model.layers.14.self_attn.k_proj.lora_B.default.weight', 'base_model.model.model.layers.14.self_attn.v_proj.lora_A.default.weight', 'base_model.model.model.layers.14.self_attn.v_proj.lora_B.default.weight', 'base_model.model.model.layers.14.self_attn.o_proj.lora_A.default.weight', 'base_model.model.model.layers.14.self_attn.o_proj.lora_B.default.weight', 'base_model.model.model.layers.14.mlp.gate_proj.lora_A.default.weight', 'base_model.model.model.layers.14.mlp.gate_proj.lora_B.default.weight', 'base_model.model.model.layers.14.mlp.up_proj.lora_A.default.weight', 'base_model.model.model.layers.14.mlp.up_proj.lora_B.default.weight', 'base_model.model.model.layers.14.mlp.down_proj.lora_A.default.weight', 'base_model.model.model.layers.14.mlp.down_proj.lora_B.default.weight', 'base_model.model.model.layers.15.self_attn.q_proj.lora_A.default.weight', 'base_model.model.model.layers.15.self_attn.q_proj.lora_B.default.weight', 'base_model.model.model.layers.15.self_attn.k_proj.lora_A.default.weight', 'base_model.model.model.layers.15.self_attn.k_proj.lora_B.default.weight', 'base_model.model.model.layers.15.self_attn.v_proj.lora_A.default.weight', 'base_model.model.model.layers.15.self_attn.v_proj.lora_B.default.weight', 'base_model.model.model.layers.15.self_attn.o_proj.lora_A.default.weight', 'base_model.model.model.layers.15.self_attn.o_proj.lora_B.default.weight', 'base_model.model.model.layers.15.mlp.gate_proj.lora_A.default.weight', 'base_model.model.model.layers.15.mlp.gate_proj.lora_B.default.weight', 'base_model.model.model.layers.15.mlp.up_proj.lora_A.default.weight', 'base_model.model.model.layers.15.mlp.up_proj.lora_B.default.weight', 'base_model.model.model.layers.15.mlp.down_proj.lora_A.default.weight', 'base_model.model.model.layers.15.mlp.down_proj.lora_B.default.weight', 'base_model.model.model.layers.16.self_attn.q_proj.lora_A.default.weight', 'base_model.model.model.layers.16.self_attn.q_proj.lora_B.default.weight', 'base_model.model.model.layers.16.self_attn.k_proj.lora_A.default.weight', 'base_model.model.model.layers.16.self_attn.k_proj.lora_B.default.weight', 'base_model.model.model.layers.16.self_attn.v_proj.lora_A.default.weight', 'base_model.model.model.layers.16.self_attn.v_proj.lora_B.default.weight', 'base_model.model.model.layers.16.self_attn.o_proj.lora_A.default.weight', 'base_model.model.model.layers.16.self_attn.o_proj.lora_B.default.weight', 'base_model.model.model.layers.16.mlp.gate_proj.lora_A.default.weight', 'base_model.model.model.layers.16.mlp.gate_proj.lora_B.default.weight', 'base_model.model.model.layers.16.mlp.up_proj.lora_A.default.weight', 'base_model.model.model.layers.16.mlp.up_proj.lora_B.default.weight', 'base_model.model.model.layers.16.mlp.down_proj.lora_A.default.weight', 'base_model.model.model.layers.16.mlp.down_proj.lora_B.default.weight', 'base_model.model.model.layers.17.self_attn.q_proj.lora_A.default.weight', 'base_model.model.model.layers.17.self_attn.q_proj.lora_B.default.weight', 'base_model.model.model.layers.17.self_attn.k_proj.lora_A.default.weight', 'base_model.model.model.layers.17.self_attn.k_proj.lora_B.default.weight', 'base_model.model.model.layers.17.self_attn.v_proj.lora_A.default.weight', 'base_model.model.model.layers.17.self_attn.v_proj.lora_B.default.weight', 'base_model.model.model.layers.17.self_attn.o_proj.lora_A.default.weight', 'base_model.model.model.layers.17.self_attn.o_proj.lora_B.default.weight', 'base_model.model.model.layers.17.mlp.gate_proj.lora_A.default.weight', 'base_model.model.model.layers.17.mlp.gate_proj.lora_B.default.weight', 'base_model.model.model.layers.17.mlp.up_proj.lora_A.default.weight', 'base_model.model.model.layers.17.mlp.up_proj.lora_B.default.weight', 'base_model.model.model.layers.17.mlp.down_proj.lora_A.default.weight', 'base_model.model.model.layers.17.mlp.down_proj.lora_B.default.weight', 'base_model.model.model.layers.18.self_attn.q_proj.lora_A.default.weight', 'base_model.model.model.layers.18.self_attn.q_proj.lora_B.default.weight', 'base_model.model.model.layers.18.self_attn.k_proj.lora_A.default.weight', 'base_model.model.model.layers.18.self_attn.k_proj.lora_B.default.weight', 'base_model.model.model.layers.18.self_attn.v_proj.lora_A.default.weight', 'base_model.model.model.layers.18.self_attn.v_proj.lora_B.default.weight', 'base_model.model.model.layers.18.self_attn.o_proj.lora_A.default.weight', 'base_model.model.model.layers.18.self_attn.o_proj.lora_B.default.weight', 'base_model.model.model.layers.18.mlp.gate_proj.lora_A.default.weight', 'base_model.model.model.layers.18.mlp.gate_proj.lora_B.default.weight', 'base_model.model.model.layers.18.mlp.up_proj.lora_A.default.weight', 'base_model.model.model.layers.18.mlp.up_proj.lora_B.default.weight', 'base_model.model.model.layers.18.mlp.down_proj.lora_A.default.weight', 'base_model.model.model.layers.18.mlp.down_proj.lora_B.default.weight', 'base_model.model.model.layers.19.self_attn.q_proj.lora_A.default.weight', 'base_model.model.model.layers.19.self_attn.q_proj.lora_B.default.weight', 'base_model.model.model.layers.19.self_attn.k_proj.lora_A.default.weight', 'base_model.model.model.layers.19.self_attn.k_proj.lora_B.default.weight', 'base_model.model.model.layers.19.self_attn.v_proj.lora_A.default.weight', 'base_model.model.model.layers.19.self_attn.v_proj.lora_B.default.weight', 'base_model.model.model.layers.19.self_attn.o_proj.lora_A.default.weight', 'base_model.model.model.layers.19.self_attn.o_proj.lora_B.default.weight', 'base_model.model.model.layers.19.mlp.gate_proj.lora_A.default.weight', 'base_model.model.model.layers.19.mlp.gate_proj.lora_B.default.weight', 'base_model.model.model.layers.19.mlp.up_proj.lora_A.default.weight', 'base_model.model.model.layers.19.mlp.up_proj.lora_B.default.weight', 'base_model.model.model.layers.19.mlp.down_proj.lora_A.default.weight', 'base_model.model.model.layers.19.mlp.down_proj.lora_B.default.weight', 'base_model.model.model.layers.20.self_attn.q_proj.lora_A.default.weight', 'base_model.model.model.layers.20.self_attn.q_proj.lora_B.default.weight', 'base_model.model.model.layers.20.self_attn.k_proj.lora_A.default.weight', 'base_model.model.model.layers.20.self_attn.k_proj.lora_B.default.weight', 'base_model.model.model.layers.20.self_attn.v_proj.lora_A.default.weight', 'base_model.model.model.layers.20.self_attn.v_proj.lora_B.default.weight', 'base_model.model.model.layers.20.self_attn.o_proj.lora_A.default.weight', 'base_model.model.model.layers.20.self_attn.o_proj.lora_B.default.weight', 'base_model.model.model.layers.20.mlp.gate_proj.lora_A.default.weight', 'base_model.model.model.layers.20.mlp.gate_proj.lora_B.default.weight', 'base_model.model.model.layers.20.mlp.up_proj.lora_A.default.weight', 'base_model.model.model.layers.20.mlp.up_proj.lora_B.default.weight', 'base_model.model.model.layers.20.mlp.down_proj.lora_A.default.weight', 'base_model.model.model.layers.20.mlp.down_proj.lora_B.default.weight', 'base_model.model.model.layers.21.self_attn.q_proj.lora_A.default.weight', 'base_model.model.model.layers.21.self_attn.q_proj.lora_B.default.weight', 'base_model.model.model.layers.21.self_attn.k_proj.lora_A.default.weight', 'base_model.model.model.layers.21.self_attn.k_proj.lora_B.default.weight', 'base_model.model.model.layers.21.self_attn.v_proj.lora_A.default.weight', 'base_model.model.model.layers.21.self_attn.v_proj.lora_B.default.weight', 'base_model.model.model.layers.21.self_attn.o_proj.lora_A.default.weight', 'base_model.model.model.layers.21.self_attn.o_proj.lora_B.default.weight', 'base_model.model.model.layers.21.mlp.gate_proj.lora_A.default.weight', 'base_model.model.model.layers.21.mlp.gate_proj.lora_B.default.weight', 'base_model.model.model.layers.21.mlp.up_proj.lora_A.default.weight', 'base_model.model.model.layers.21.mlp.up_proj.lora_B.default.weight', 'base_model.model.model.layers.21.mlp.down_proj.lora_A.default.weight', 'base_model.model.model.layers.21.mlp.down_proj.lora_B.default.weight']\n",
            "  def print_trainable_parameters(self) -> None:\n"
          ]
        }
      ]
    },
    {
      "cell_type": "code",
      "source": [
        "dpo_model"
      ],
      "metadata": {
        "colab": {
          "base_uri": "https://localhost:8080/"
        },
        "id": "AOqK-htTfbhJ",
        "outputId": "ce002131-32e1-45a4-deea-a0d4ebda4a4c"
      },
      "execution_count": 44,
      "outputs": [
        {
          "output_type": "execute_result",
          "data": {
            "text/plain": [
              "LlamaForCausalLM(\n",
              "  (model): LlamaModel(\n",
              "    (embed_tokens): Embedding(32000, 2048)\n",
              "    (layers): ModuleList(\n",
              "      (0-21): 22 x LlamaDecoderLayer(\n",
              "        (self_attn): LlamaAttention(\n",
              "          (q_proj): Linear(in_features=2048, out_features=2048, bias=False)\n",
              "          (k_proj): Linear(in_features=2048, out_features=256, bias=False)\n",
              "          (v_proj): Linear(in_features=2048, out_features=256, bias=False)\n",
              "          (o_proj): Linear(in_features=2048, out_features=2048, bias=False)\n",
              "        )\n",
              "        (mlp): LlamaMLP(\n",
              "          (gate_proj): Linear(in_features=2048, out_features=5632, bias=False)\n",
              "          (up_proj): Linear(in_features=2048, out_features=5632, bias=False)\n",
              "          (down_proj): Linear(in_features=5632, out_features=2048, bias=False)\n",
              "          (act_fn): SiLU()\n",
              "        )\n",
              "        (input_layernorm): LlamaRMSNorm((2048,), eps=1e-05)\n",
              "        (post_attention_layernorm): LlamaRMSNorm((2048,), eps=1e-05)\n",
              "      )\n",
              "    )\n",
              "    (norm): LlamaRMSNorm((2048,), eps=1e-05)\n",
              "    (rotary_emb): LlamaRotaryEmbedding()\n",
              "  )\n",
              "  (lm_head): Linear(in_features=2048, out_features=32000, bias=False)\n",
              ")"
            ]
          },
          "metadata": {},
          "execution_count": 44
        }
      ]
    },
    {
      "cell_type": "markdown",
      "source": [
        "This combination of SFT+DPO is a great way to first fine-tune your model to perform basic chatting and then align its answers with human preference. However, it does come at a cost since we need to perform two training loops and potentially tweak the parameters in two processes.\n",
        "\n",
        "Since the release of DPO, new methods of aligning preferences have been developed. Of note is Odds Ratio Preference Optimization (ORPO), a process that combines SFT and DPO into a single training process.23 It removes the need to perform two separate training loops, further simplifying the training process while allowing for the use of QLoRA.\n"
      ],
      "metadata": {
        "id": "U5BIA1LFaUhV"
      }
    }
  ]
}